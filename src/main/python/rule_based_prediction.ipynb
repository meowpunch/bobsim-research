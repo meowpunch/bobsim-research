{
 "cells": [
  {
   "cell_type": "markdown",
   "metadata": {},
   "source": [
    "# Rule based Predict Price"
   ]
  },
  {
   "cell_type": "markdown",
   "metadata": {},
   "source": [
    "## load df from s3 origin bucket"
   ]
  },
  {
   "cell_type": "code",
   "execution_count": 6,
   "metadata": {},
   "outputs": [
    {
     "name": "stderr",
     "output_type": "stream",
     "text": [
      "2020-03-30 12:16:03:manager:<INFO> 1 files is loaded from public_data/open_data_raw_material_price/origin/csv/201908.csv in s3 'production-bobsim'\n"
     ]
    }
   ],
   "source": [
    "from util.s3_manager.manager import S3Manager\n",
    "\n",
    "date = \"201908\"\n",
    "\n",
    "manager = S3Manager(bucket_name=\"production-bobsim\")\n",
    "origin_df = manager.fetch_objects(key=\"public_data/open_data_raw_material_price/origin/csv/{filename}.csv\".format(\n",
    "            filename=date\n",
    "        ))[0]"
   ]
  },
  {
   "cell_type": "markdown",
   "metadata": {},
   "source": [
    "## RMSE/MAE one day and one day after"
   ]
  },
  {
   "cell_type": "code",
   "execution_count": 8,
   "metadata": {},
   "outputs": [],
   "source": [
    "filtered = origin_df[origin_df.조사구분명 == \"소비자가격\"].drop(\"조사구분명\", axis=1).groupby([\n",
    "            \"조사일자\", \"조사지역명\", \"조사단위명\",\n",
    "            \"표준품목명\", \"조사가격품목명\", \"표준품종명\", \"조사가격품종명\"\n",
    "        ]).mean().reset_index()"
   ]
  },
  {
   "cell_type": "code",
   "execution_count": 39,
   "metadata": {},
   "outputs": [],
   "source": [
    "import functools\n",
    "import pandas as pd\n",
    "import numpy as np\n",
    "\n",
    "date_list = filtered.조사일자.drop_duplicates().tolist()\n",
    "\n",
    "def combine_categories(df: pd.DataFrame):\n",
    "    \"\"\"\n",
    "        starting point of process\n",
    "        combine categories into one category\n",
    "    :return: combined pd DataFrame\n",
    "    \"\"\"\n",
    "    return df.assign(\n",
    "        품목명=lambda x: x.표준품목명 + x.조사가격품목명 + x.표준품종명 + x.조사가격품종명\n",
    "    ).drop(columns=[\"표준품목명\", \"조사가격품목명\", \"표준품종명\", \"조사가격품종명\"], axis=1)\n",
    "\n",
    "\n",
    "def func(x, df):\n",
    "    return combine_categories(df[df.조사일자 == x])[[\"조사일자\", \"품목명\", \"당일조사가격\"]]\n",
    "    \n",
    "df_list = list(map(functools.partial(func, df=filtered), date_list))"
   ]
  },
  {
   "cell_type": "code",
   "execution_count": 73,
   "metadata": {},
   "outputs": [
    {
     "data": {
      "text/html": [
       "<div>\n",
       "<style scoped>\n",
       "    .dataframe tbody tr th:only-of-type {\n",
       "        vertical-align: middle;\n",
       "    }\n",
       "\n",
       "    .dataframe tbody tr th {\n",
       "        vertical-align: top;\n",
       "    }\n",
       "\n",
       "    .dataframe thead th {\n",
       "        text-align: right;\n",
       "    }\n",
       "</style>\n",
       "<table border=\"1\" class=\"dataframe\">\n",
       "  <thead>\n",
       "    <tr style=\"text-align: right;\">\n",
       "      <th></th>\n",
       "      <th>조사일자_x</th>\n",
       "      <th>품목명</th>\n",
       "      <th>당일조사가격_x</th>\n",
       "      <th>조사일자_y</th>\n",
       "      <th>당일조사가격_y</th>\n",
       "    </tr>\n",
       "  </thead>\n",
       "  <tbody>\n",
       "    <tr>\n",
       "      <th>0</th>\n",
       "      <td>2019-08-30</td>\n",
       "      <td>감자감자수미수미</td>\n",
       "      <td>238.0</td>\n",
       "      <td>2019-08-29</td>\n",
       "      <td>238.000000</td>\n",
       "    </tr>\n",
       "    <tr>\n",
       "      <th>1</th>\n",
       "      <td>2019-08-30</td>\n",
       "      <td>감자감자수미수미</td>\n",
       "      <td>238.0</td>\n",
       "      <td>2019-08-29</td>\n",
       "      <td>216.666667</td>\n",
       "    </tr>\n",
       "    <tr>\n",
       "      <th>2</th>\n",
       "      <td>2019-08-30</td>\n",
       "      <td>감자감자수미수미</td>\n",
       "      <td>238.0</td>\n",
       "      <td>2019-08-29</td>\n",
       "      <td>210.000000</td>\n",
       "    </tr>\n",
       "    <tr>\n",
       "      <th>3</th>\n",
       "      <td>2019-08-30</td>\n",
       "      <td>감자감자수미수미</td>\n",
       "      <td>238.0</td>\n",
       "      <td>2019-08-29</td>\n",
       "      <td>190.000000</td>\n",
       "    </tr>\n",
       "    <tr>\n",
       "      <th>4</th>\n",
       "      <td>2019-08-30</td>\n",
       "      <td>감자감자수미수미</td>\n",
       "      <td>238.0</td>\n",
       "      <td>2019-08-29</td>\n",
       "      <td>220.000000</td>\n",
       "    </tr>\n",
       "  </tbody>\n",
       "</table>\n",
       "</div>"
      ],
      "text/plain": [
       "       조사일자_x       품목명  당일조사가격_x      조사일자_y    당일조사가격_y\n",
       "0  2019-08-30  감자감자수미수미     238.0  2019-08-29  238.000000\n",
       "1  2019-08-30  감자감자수미수미     238.0  2019-08-29  216.666667\n",
       "2  2019-08-30  감자감자수미수미     238.0  2019-08-29  210.000000\n",
       "3  2019-08-30  감자감자수미수미     238.0  2019-08-29  190.000000\n",
       "4  2019-08-30  감자감자수미수미     238.0  2019-08-29  220.000000"
      ]
     },
     "execution_count": 73,
     "metadata": {},
     "output_type": "execute_result"
    }
   ],
   "source": [
    "f_df = df_list[-1]\n",
    "s_df = df_list[-2]\n",
    "\n",
    "\n",
    "merged = pd.merge(f_df, s_df, how='inner', on=\"품목명\")\n",
    "merged.head(5)"
   ]
  },
  {
   "cell_type": "markdown",
   "metadata": {},
   "source": [
    "### RMSE"
   ]
  },
  {
   "cell_type": "code",
   "execution_count": 74,
   "metadata": {},
   "outputs": [
    {
     "data": {
      "text/plain": [
       "0        0.000000e+00\n",
       "1        4.551111e+02\n",
       "2        7.840000e+02\n",
       "3        2.304000e+03\n",
       "4        3.240000e+02\n",
       "             ...     \n",
       "39882    1.199025e+06\n",
       "39883    2.635211e+06\n",
       "39884    3.980025e+06\n",
       "39885    3.980025e+06\n",
       "39886    1.960000e+04\n",
       "Length: 39887, dtype: float64"
      ]
     },
     "execution_count": 74,
     "metadata": {},
     "output_type": "execute_result"
    }
   ],
   "source": [
    "se = merged.apply(lambda r: (r.당일조사가격_y - r.당일조사가격_x)**2, axis=1)\n",
    "se"
   ]
  },
  {
   "cell_type": "code",
   "execution_count": 75,
   "metadata": {},
   "outputs": [
    {
     "data": {
      "text/plain": [
       "2777.7423372246144"
      ]
     },
     "execution_count": 75,
     "metadata": {},
     "output_type": "execute_result"
    }
   ],
   "source": [
    "np.sqrt(se.mean())"
   ]
  },
  {
   "cell_type": "markdown",
   "metadata": {},
   "source": [
    "### RAE"
   ]
  },
  {
   "cell_type": "code",
   "execution_count": 76,
   "metadata": {},
   "outputs": [
    {
     "data": {
      "text/plain": [
       "1129.36896721333"
      ]
     },
     "execution_count": 76,
     "metadata": {},
     "output_type": "execute_result"
    }
   ],
   "source": [
    "ae = merged.apply(lambda r: abs(r.당일조사가격_y - r.당일조사가격_x), axis=1)\n",
    "ae.mean()"
   ]
  },
  {
   "cell_type": "code",
   "execution_count": 77,
   "metadata": {},
   "outputs": [
    {
     "data": {
      "text/plain": [
       "14.430994344738169"
      ]
     },
     "execution_count": 77,
     "metadata": {},
     "output_type": "execute_result"
    }
   ],
   "source": [
    "e = merged.apply(lambda r: r.당일조사가격_y - r.당일조사가격_x, axis=1)\n",
    "e.mean()"
   ]
  },
  {
   "cell_type": "markdown",
   "metadata": {},
   "source": [
    "## last year's inflation rate (2.8%)"
   ]
  },
  {
   "cell_type": "code",
   "execution_count": 78,
   "metadata": {},
   "outputs": [
    {
     "name": "stdout",
     "output_type": "stream",
     "text": [
      "RMSE:  2777.842454336399\n",
      "MAE:  1129.4427524424468\n"
     ]
    }
   ],
   "source": [
    "inflation_rate = 1 + 0.028/365\n",
    "\n",
    "se1 = merged.apply(lambda r: (r.당일조사가격_y - r.당일조사가격_x*inflation_rate) **2, axis=1)\n",
    "print(\"RMSE: \", np.sqrt(se1.mean()))\n",
    "\n",
    "ae1 = merged.apply(lambda r: abs(r.당일조사가격_y - r.당일조사가격_x*inflation_rate), axis=1)\n",
    "print(\"MAE: \", ae1.mean())"
   ]
  },
  {
   "cell_type": "code",
   "execution_count": null,
   "metadata": {},
   "outputs": [],
   "source": []
  }
 ],
 "metadata": {
  "kernelspec": {
   "display_name": "BOBSIM",
   "language": "python",
   "name": "bobsim"
  },
  "language_info": {
   "codemirror_mode": {
    "name": "ipython",
    "version": 3
   },
   "file_extension": ".py",
   "mimetype": "text/x-python",
   "name": "python",
   "nbconvert_exporter": "python",
   "pygments_lexer": "ipython3",
   "version": "3.7.6"
  }
 },
 "nbformat": 4,
 "nbformat_minor": 4
}
