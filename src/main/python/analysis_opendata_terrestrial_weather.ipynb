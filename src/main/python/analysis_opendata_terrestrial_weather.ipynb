{
 "cells": [
  {
   "cell_type": "code",
   "execution_count": 2,
   "metadata": {},
   "outputs": [],
   "source": [
    "import pandas as pd\n",
    "import numpy as np\n",
    "import matplotlib.pyplot as plt\n",
    "import seaborn as sns\n",
    "%matplotlib inline"
   ]
  },
  {
   "cell_type": "code",
   "execution_count": 3,
   "metadata": {},
   "outputs": [],
   "source": [
    "origin_df=pd.read_csv('https://production-bobsim.s3.ap-northeast-2.amazonaws.com/public_data/public_terrestrial_weather/2014-2020.csv', encoding='euc-kr')"
   ]
  },
  {
   "cell_type": "code",
   "execution_count": 4,
   "metadata": {},
   "outputs": [
    {
     "data": {
      "text/html": [
       "<div>\n",
       "<style scoped>\n",
       "    .dataframe tbody tr th:only-of-type {\n",
       "        vertical-align: middle;\n",
       "    }\n",
       "\n",
       "    .dataframe tbody tr th {\n",
       "        vertical-align: top;\n",
       "    }\n",
       "\n",
       "    .dataframe thead th {\n",
       "        text-align: right;\n",
       "    }\n",
       "</style>\n",
       "<table border=\"1\" class=\"dataframe\">\n",
       "  <thead>\n",
       "    <tr style=\"text-align: right;\">\n",
       "      <th></th>\n",
       "      <th>지점</th>\n",
       "      <th>지점명</th>\n",
       "      <th>일시</th>\n",
       "      <th>평균기온(°C)</th>\n",
       "      <th>최저기온(°C)</th>\n",
       "      <th>최고기온(°C)</th>\n",
       "      <th>강수 계속시간(hr)</th>\n",
       "      <th>일강수량(mm)</th>\n",
       "      <th>최대 풍속(m/s)</th>\n",
       "      <th>평균 풍속(m/s)</th>\n",
       "      <th>최소 상대습도(%)</th>\n",
       "      <th>평균 상대습도(%)</th>\n",
       "      <th>합계 일조시간(hr)</th>\n",
       "      <th>합계 일사량(MJ/m2)</th>\n",
       "    </tr>\n",
       "  </thead>\n",
       "  <tbody>\n",
       "    <tr>\n",
       "      <td>0</td>\n",
       "      <td>90</td>\n",
       "      <td>속초</td>\n",
       "      <td>2014-01-01</td>\n",
       "      <td>6.6</td>\n",
       "      <td>4.1</td>\n",
       "      <td>8.9</td>\n",
       "      <td>NaN</td>\n",
       "      <td>NaN</td>\n",
       "      <td>9.8</td>\n",
       "      <td>5.4</td>\n",
       "      <td>22.0</td>\n",
       "      <td>31.3</td>\n",
       "      <td>7.0</td>\n",
       "      <td>NaN</td>\n",
       "    </tr>\n",
       "    <tr>\n",
       "      <td>1</td>\n",
       "      <td>90</td>\n",
       "      <td>속초</td>\n",
       "      <td>2014-01-02</td>\n",
       "      <td>4.0</td>\n",
       "      <td>-0.3</td>\n",
       "      <td>7.0</td>\n",
       "      <td>NaN</td>\n",
       "      <td>NaN</td>\n",
       "      <td>4.2</td>\n",
       "      <td>1.8</td>\n",
       "      <td>18.0</td>\n",
       "      <td>31.9</td>\n",
       "      <td>8.9</td>\n",
       "      <td>NaN</td>\n",
       "    </tr>\n",
       "    <tr>\n",
       "      <td>2</td>\n",
       "      <td>90</td>\n",
       "      <td>속초</td>\n",
       "      <td>2014-01-03</td>\n",
       "      <td>6.6</td>\n",
       "      <td>2.4</td>\n",
       "      <td>9.4</td>\n",
       "      <td>NaN</td>\n",
       "      <td>NaN</td>\n",
       "      <td>9.6</td>\n",
       "      <td>3.0</td>\n",
       "      <td>24.0</td>\n",
       "      <td>40.0</td>\n",
       "      <td>4.4</td>\n",
       "      <td>NaN</td>\n",
       "    </tr>\n",
       "    <tr>\n",
       "      <td>3</td>\n",
       "      <td>90</td>\n",
       "      <td>속초</td>\n",
       "      <td>2014-01-04</td>\n",
       "      <td>1.2</td>\n",
       "      <td>0.0</td>\n",
       "      <td>3.8</td>\n",
       "      <td>18.75</td>\n",
       "      <td>7.4</td>\n",
       "      <td>6.0</td>\n",
       "      <td>1.8</td>\n",
       "      <td>44.0</td>\n",
       "      <td>87.4</td>\n",
       "      <td>0.0</td>\n",
       "      <td>NaN</td>\n",
       "    </tr>\n",
       "    <tr>\n",
       "      <td>4</td>\n",
       "      <td>90</td>\n",
       "      <td>속초</td>\n",
       "      <td>2014-01-05</td>\n",
       "      <td>0.4</td>\n",
       "      <td>-2.0</td>\n",
       "      <td>2.7</td>\n",
       "      <td>0.83</td>\n",
       "      <td>0.0</td>\n",
       "      <td>5.1</td>\n",
       "      <td>1.7</td>\n",
       "      <td>78.0</td>\n",
       "      <td>90.0</td>\n",
       "      <td>3.7</td>\n",
       "      <td>NaN</td>\n",
       "    </tr>\n",
       "  </tbody>\n",
       "</table>\n",
       "</div>"
      ],
      "text/plain": [
       "   지점 지점명          일시  평균기온(°C)  최저기온(°C)  최고기온(°C)  강수 계속시간(hr)  일강수량(mm)  \\\n",
       "0  90  속초  2014-01-01       6.6       4.1       8.9          NaN       NaN   \n",
       "1  90  속초  2014-01-02       4.0      -0.3       7.0          NaN       NaN   \n",
       "2  90  속초  2014-01-03       6.6       2.4       9.4          NaN       NaN   \n",
       "3  90  속초  2014-01-04       1.2       0.0       3.8        18.75       7.4   \n",
       "4  90  속초  2014-01-05       0.4      -2.0       2.7         0.83       0.0   \n",
       "\n",
       "   최대 풍속(m/s)  평균 풍속(m/s)  최소 상대습도(%)  평균 상대습도(%)  합계 일조시간(hr)  합계 일사량(MJ/m2)  \n",
       "0         9.8         5.4        22.0        31.3          7.0            NaN  \n",
       "1         4.2         1.8        18.0        31.9          8.9            NaN  \n",
       "2         9.6         3.0        24.0        40.0          4.4            NaN  \n",
       "3         6.0         1.8        44.0        87.4          0.0            NaN  \n",
       "4         5.1         1.7        78.0        90.0          3.7            NaN  "
      ]
     },
     "execution_count": 4,
     "metadata": {},
     "output_type": "execute_result"
    }
   ],
   "source": [
    "origin_df.head()"
   ]
  },
  {
   "cell_type": "markdown",
   "metadata": {},
   "source": [
    "### Null & Type check"
   ]
  },
  {
   "cell_type": "code",
   "execution_count": 5,
   "metadata": {
    "scrolled": false
   },
   "outputs": [
    {
     "name": "stdout",
     "output_type": "stream",
     "text": [
      "<class 'pandas.core.frame.DataFrame'>\n",
      "RangeIndex: 214325 entries, 0 to 214324\n",
      "Data columns (total 14 columns):\n",
      "지점               214325 non-null int64\n",
      "지점명              214325 non-null object\n",
      "일시               214325 non-null object\n",
      "평균기온(°C)         214086 non-null float64\n",
      "최저기온(°C)         214300 non-null float64\n",
      "최고기온(°C)         214305 non-null float64\n",
      "강수 계속시간(hr)      22288 non-null float64\n",
      "일강수량(mm)         77862 non-null float64\n",
      "최대 풍속(m/s)       214217 non-null float64\n",
      "평균 풍속(m/s)       214143 non-null float64\n",
      "최소 상대습도(%)       214246 non-null float64\n",
      "평균 상대습도(%)       213919 non-null float64\n",
      "합계 일조시간(hr)      213966 non-null float64\n",
      "합계 일사량(MJ/m2)    92353 non-null float64\n",
      "dtypes: float64(11), int64(1), object(2)\n",
      "memory usage: 22.9+ MB\n"
     ]
    }
   ],
   "source": [
    "origin_df.info()"
   ]
  },
  {
   "cell_type": "markdown",
   "metadata": {},
   "source": [
    "### Null value %"
   ]
  },
  {
   "cell_type": "code",
   "execution_count": 9,
   "metadata": {
    "scrolled": true
   },
   "outputs": [
    {
     "data": {
      "text/plain": [
       "지점                0.000000\n",
       "지점명               0.000000\n",
       "일시                0.000000\n",
       "평균기온(°C)          0.111513\n",
       "최저기온(°C)          0.011665\n",
       "최고기온(°C)          0.009332\n",
       "강수 계속시간(hr)      89.600840\n",
       "일강수량(mm)         63.671060\n",
       "최대 풍속(m/s)        0.050391\n",
       "평균 풍속(m/s)        0.084918\n",
       "최소 상대습도(%)        0.036860\n",
       "평균 상대습도(%)        0.189432\n",
       "합계 일조시간(hr)       0.167503\n",
       "합계 일사량(MJ/m2)    56.909833\n",
       "dtype: float64"
      ]
     },
     "execution_count": 9,
     "metadata": {},
     "output_type": "execute_result"
    }
   ],
   "source": [
    "origin_df.isnull().sum()/214325* 100 "
   ]
  },
  {
   "cell_type": "markdown",
   "metadata": {},
   "source": [
    "## null handling ( reason) \n",
    "#### 강수 계속시간 , 일강수량 -> 0\n",
    "#### 합계 일사량 -> (미정) 일단 0으로\n",
    "#### 나머지 -> mean()"
   ]
  },
  {
   "cell_type": "code",
   "execution_count": 16,
   "metadata": {},
   "outputs": [],
   "source": [
    "origin_df[['일강수량(mm)','강수 계속시간(hr)']] = origin_df[['일강수량(mm)','강수 계속시간(hr)']].fillna(value=0)"
   ]
  },
  {
   "cell_type": "code",
   "execution_count": 19,
   "metadata": {},
   "outputs": [],
   "source": [
    "origin_df['합계 일사량(MJ/m2)'] = origin_df['합계 일사량(MJ/m2)'].fillna(value=0)"
   ]
  },
  {
   "cell_type": "code",
   "execution_count": null,
   "metadata": {},
   "outputs": [],
   "source": [
    "origin_df[['평균기온(°C)','최저기온(°C)','최고기온(°C)', '강수 계속시간(hr)', '일강수량(mm)', '최대 풍속(m/s)',        \n",
    "          '평균 풍속(m/s)', '최소 상대습도(%)', '평균 상대습도(%)', '합계 일조시간(hr)']]=origin_df[['평균기온(°C)','최저기온(°C)','최고기온(°C)', '강수 계속시간(hr)', '일강수량(mm)', '최대 풍속(m/s)',        \n",
    "          '평균 풍속(m/s)', '최소 상대습도(%)', '평균 상대습도(%)', '합계 일조시간(hr)']].fillna(origin_df.mean())\n",
    "\n"
   ]
  },
  {
   "cell_type": "code",
   "execution_count": 24,
   "metadata": {},
   "outputs": [
    {
     "data": {
      "text/plain": [
       "지점               0\n",
       "지점명              0\n",
       "일시               0\n",
       "평균기온(°C)         0\n",
       "최저기온(°C)         0\n",
       "최고기온(°C)         0\n",
       "강수 계속시간(hr)      0\n",
       "일강수량(mm)         0\n",
       "최대 풍속(m/s)       0\n",
       "평균 풍속(m/s)       0\n",
       "최소 상대습도(%)       0\n",
       "평균 상대습도(%)       0\n",
       "합계 일조시간(hr)      0\n",
       "합계 일사량(MJ/m2)    0\n",
       "dtype: int64"
      ]
     },
     "execution_count": 24,
     "metadata": {},
     "output_type": "execute_result"
    }
   ],
   "source": [
    "origin_df.isnull().sum()"
   ]
  },
  {
   "cell_type": "markdown",
   "metadata": {},
   "source": [
    "### 합계 일사량은 조사자체를 안하는 지역이 많아서 null value가 많다"
   ]
  }
 ],
 "metadata": {
  "kernelspec": {
   "display_name": "Python 3",
   "language": "python",
   "name": "python3"
  },
  "language_info": {
   "codemirror_mode": {
    "name": "ipython",
    "version": 3
   },
   "file_extension": ".py",
   "mimetype": "text/x-python",
   "name": "python",
   "nbconvert_exporter": "python",
   "pygments_lexer": "ipython3",
   "version": "3.7.4"
  }
 },
 "nbformat": 4,
 "nbformat_minor": 2
}
