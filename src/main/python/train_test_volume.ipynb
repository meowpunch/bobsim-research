{
 "cells": [
  {
   "cell_type": "markdown",
   "metadata": {},
   "source": [
    "# SET TRAIN & TEST VOLUME"
   ]
  },
  {
   "cell_type": "markdown",
   "metadata": {},
   "source": [
    "### build dataset for one month"
   ]
  },
  {
   "cell_type": "code",
   "execution_count": 5,
   "metadata": {},
   "outputs": [
    {
     "name": "stderr",
     "output_type": "stream",
     "text": [
      "2020-04-09 09:37:44:manage:<INFO> 1 files is loaded from public_data/open_data_raw_material_price/process/csv/201908.csv in s3 'production-bobsim'\n",
      "2020-04-09 09:37:44:manage:<INFO> 1 files is loaded from public_data/open_data_terrestrial_weather/process/csv/201908.csv in s3 'production-bobsim'\n",
      "2020-04-09 09:37:44:manage:<INFO> 1 files is loaded from public_data/open_data_marine_weather/process/csv/201908.csv in s3 'production-bobsim'\n"
     ]
    }
   ],
   "source": [
    "from util.build_dataset import build_master\n",
    "\n",
    "dataset = build_master(bucket_name=\"production-bobsim\", dataset=\"process_fmp\", date=\"201908\", pipe_data=False)"
   ]
  },
  {
   "cell_type": "code",
   "execution_count": 101,
   "metadata": {},
   "outputs": [],
   "source": [
    "from sklearn.linear_model import LinearRegression, ElasticNet\n",
    "from sklearn.metrics import mean_squared_error, r2_score, mean_absolute_error\n",
    "from model.elastic_net import ElasticNetModel\n",
    "import matplotlib.pyplot as plt\n",
    "import numpy as np\n",
    "import pandas as pd\n",
    "import functools\n",
    "from util.visualize import draw_hist\n",
    "from util.s3_manager.manage import S3Manager\n",
    "\n",
    "def customized_rmse(y, y_pred):\n",
    "    error = y - y_pred\n",
    "    def penalize(x):\n",
    "        if x > 0:\n",
    "            # if y > y_pred, penalize 10%\n",
    "            return x * 1.1\n",
    "        else:\n",
    "            return x\n",
    "    X = np.vectorize(penalize)(error)\n",
    "    return np.sqrt(np.square(X).mean())\n",
    "\n",
    "def split_xy(df: pd.DataFrame):\n",
    "    # print(df.조사일자.drop_duplicates())\n",
    "    return df.drop(columns=[\"price\", \"date\"]), df[\"price\"]\n",
    "\n",
    "def split_train_test(str_day, std_day, df: pd.DataFrame):\n",
    "    train = df[(str_day <= df[\"date\"].dt.date) & (df[\"date\"].dt.date < std_day)]\n",
    "    test = df[df[\"date\"].dt.date >= std_day]\n",
    "    return train, test\n",
    "\n",
    "\n",
    "def get_score(train_size, test_size, df):\n",
    "    time_series = df[\"date\"].drop_duplicates().tolist()\n",
    "    std_day = time_series[-1*test_size]\n",
    "    str_day = time_series[-1*(test_size+train_size)]\n",
    "    train, test = split_train_test(str_day=str_day, std_day=std_day, df=df)\n",
    "    \n",
    "    x_train, y_train = split_xy(train)\n",
    "    x_test, y_test = split_xy(test)\n",
    "    \n",
    "    params = {'alpha': 0.0001, 'l1_ratio': 0.9, 'max_iter': 5}\n",
    "    regr = ElasticNet(**params)\n",
    "    regr.fit(x_train, y_train)\n",
    "    y_pred = regr.predict(x_test)\n",
    "    \n",
    "    mean, std = S3Manager(bucket_name=\"production-bobsim\").load_dump(\n",
    "            key=\"food_material_price_predict_model/price_(mean,std).pkl\"\n",
    "        )\n",
    "    \n",
    "    metric = customized_rmse(y_test*std+mean, y_pred*std+mean)\n",
    "    return metric\n",
    "\n",
    "\n",
    "\n",
    "def rmse_by_train_size(df):\n",
    "    test_size = 5\n",
    "    train_sizes = range(1,16)\n",
    "    score_list = list(map(functools.partial(get_score, test_size=test_size, df=df), train_sizes))\n",
    "    ser = pd.Series(score_list, index=train_sizes)\n",
    "    print(ser)\n",
    "    \n",
    "    plt.xlabel('train size')\n",
    "    plt.ylabel('customized RMSE')\n",
    "    ser.plot(kind=\"bar\", ylim=(ser.min()-1,ser.max()+1), color=\"blue\", title=\"test_size: {}\".format(test_size))\n",
    "    S3Manager(bucket_name=\"production-bobsim\").save_plt_to_png(key=\"food_material_price_predict_model/image/rmse_by_train_size_201908.png\")\n",
    "    \n",
    "    # draw_hist(ser, h_type=\"dist\")\n",
    "    # print(\"metric list for standard '{day}': {metrics}\".format(day=standard_day, metrics=score_list))\n",
    "\n",
    "\n",
    "def split_train_test2(std_day, end_day, df: pd.DataFrame):\n",
    "    train = df[df[\"date\"].dt.date <= std_day] \n",
    "    test = df[(std_day < df[\"date\"].dt.date) & (df[\"date\"].dt.date <= end_day )]\n",
    "    return train, test\n",
    "\n",
    "def get_score2(test_size, train_size, df):\n",
    "    time_series = df[\"date\"].drop_duplicates().tolist()\n",
    "    std_day = time_series[train_size]\n",
    "    end_day = time_series[test_size+train_size]\n",
    "    print(end_day, std_day)\n",
    "    train, test = split_train_test2(std_day=std_day, end_day=end_day, df=df)\n",
    "    \n",
    "    x_train, y_train = split_xy(train)\n",
    "    x_test, y_test = split_xy(test)\n",
    "    \n",
    "    params = {'alpha': 0.0001, 'l1_ratio': 0.9, 'max_iter': 5}\n",
    "    regr = ElasticNet(**params)\n",
    "    regr.fit(x_train, y_train)\n",
    "    y_pred = regr.predict(x_test)\n",
    "    \n",
    "    mean, std = S3Manager(bucket_name=\"production-bobsim\").load_dump(\n",
    "            key=\"food_material_price_predict_model/price_(mean,std).pkl\"\n",
    "        )\n",
    "    \n",
    "    metric = customized_rmse(y_test*std+mean, y_pred*std+mean)\n",
    "    return metric\n",
    "\n",
    "\n",
    "def rmse_by_test_size(df):\n",
    "    test_sizes = range(1,7)\n",
    "    train_size = 14\n",
    "    score_list = list(map(functools.partial(get_score2, train_size=train_size, df=df), test_sizes))\n",
    "    ser = pd.Series(score_list, index=test_sizes)\n",
    "    print(ser)\n",
    "    \n",
    "    plt.xlabel('test size')\n",
    "    plt.ylabel('customized RMSE')\n",
    "    ser.plot(kind=\"bar\", ylim=(ser.min()-1,ser.max()+1), color='red', title=\"train_size: {}\".format(train_size))\n",
    "    S3Manager(bucket_name=\"production-bobsim\").save_plt_to_png(key=\"food_material_price_predict_model/image/rmse_by_test_size_201908.png\")\n",
    "    \n",
    "    "
   ]
  },
  {
   "cell_type": "code",
   "execution_count": 102,
   "metadata": {},
   "outputs": [
    {
     "name": "stderr",
     "output_type": "stream",
     "text": [
      "C:\\Users\\jinho\\Anaconda3\\envs\\BOBSIM\\lib\\site-packages\\sklearn\\linear_model\\_coordinate_descent.py:476: ConvergenceWarning: Objective did not converge. You might want to increase the number of iterations. Duality gap: 19.714235129859077, tolerance: 0.16383815923631115\n",
      "  positive)\n",
      "C:\\Users\\jinho\\Anaconda3\\envs\\BOBSIM\\lib\\site-packages\\sklearn\\linear_model\\_coordinate_descent.py:476: ConvergenceWarning: Objective did not converge. You might want to increase the number of iterations. Duality gap: 40.53939160690132, tolerance: 0.3244808170308517\n",
      "  positive)\n",
      "C:\\Users\\jinho\\Anaconda3\\envs\\BOBSIM\\lib\\site-packages\\sklearn\\linear_model\\_coordinate_descent.py:476: ConvergenceWarning: Objective did not converge. You might want to increase the number of iterations. Duality gap: 152.89925266697378, tolerance: 0.481055700360773\n",
      "  positive)\n",
      "C:\\Users\\jinho\\Anaconda3\\envs\\BOBSIM\\lib\\site-packages\\sklearn\\linear_model\\_coordinate_descent.py:476: ConvergenceWarning: Objective did not converge. You might want to increase the number of iterations. Duality gap: 223.0768103620721, tolerance: 0.6365794756184813\n",
      "  positive)\n",
      "C:\\Users\\jinho\\Anaconda3\\envs\\BOBSIM\\lib\\site-packages\\sklearn\\linear_model\\_coordinate_descent.py:476: ConvergenceWarning: Objective did not converge. You might want to increase the number of iterations. Duality gap: 208.76542670272372, tolerance: 0.7880442386512697\n",
      "  positive)\n",
      "C:\\Users\\jinho\\Anaconda3\\envs\\BOBSIM\\lib\\site-packages\\sklearn\\linear_model\\_coordinate_descent.py:476: ConvergenceWarning: Objective did not converge. You might want to increase the number of iterations. Duality gap: 391.861863941447, tolerance: 0.9493581376487897\n",
      "  positive)\n",
      "C:\\Users\\jinho\\Anaconda3\\envs\\BOBSIM\\lib\\site-packages\\sklearn\\linear_model\\_coordinate_descent.py:476: ConvergenceWarning: Objective did not converge. You might want to increase the number of iterations. Duality gap: 502.048507402191, tolerance: 1.1104332036812874\n",
      "  positive)\n",
      "C:\\Users\\jinho\\Anaconda3\\envs\\BOBSIM\\lib\\site-packages\\sklearn\\linear_model\\_coordinate_descent.py:476: ConvergenceWarning: Objective did not converge. You might want to increase the number of iterations. Duality gap: 546.0397119356038, tolerance: 1.273386323049324\n",
      "  positive)\n",
      "C:\\Users\\jinho\\Anaconda3\\envs\\BOBSIM\\lib\\site-packages\\sklearn\\linear_model\\_coordinate_descent.py:476: ConvergenceWarning: Objective did not converge. You might want to increase the number of iterations. Duality gap: 655.5038648283928, tolerance: 1.4365148836699946\n",
      "  positive)\n",
      "C:\\Users\\jinho\\Anaconda3\\envs\\BOBSIM\\lib\\site-packages\\sklearn\\linear_model\\_coordinate_descent.py:476: ConvergenceWarning: Objective did not converge. You might want to increase the number of iterations. Duality gap: 710.6497062581393, tolerance: 1.6002264544281444\n",
      "  positive)\n",
      "C:\\Users\\jinho\\Anaconda3\\envs\\BOBSIM\\lib\\site-packages\\sklearn\\linear_model\\_coordinate_descent.py:476: ConvergenceWarning: Objective did not converge. You might want to increase the number of iterations. Duality gap: 766.2349486803575, tolerance: 1.762887907267314\n",
      "  positive)\n",
      "C:\\Users\\jinho\\Anaconda3\\envs\\BOBSIM\\lib\\site-packages\\sklearn\\linear_model\\_coordinate_descent.py:476: ConvergenceWarning: Objective did not converge. You might want to increase the number of iterations. Duality gap: 826.0288342989502, tolerance: 1.9228805372291289\n",
      "  positive)\n",
      "C:\\Users\\jinho\\Anaconda3\\envs\\BOBSIM\\lib\\site-packages\\sklearn\\linear_model\\_coordinate_descent.py:476: ConvergenceWarning: Objective did not converge. You might want to increase the number of iterations. Duality gap: 765.9786564072385, tolerance: 2.084792305701964\n",
      "  positive)\n",
      "C:\\Users\\jinho\\Anaconda3\\envs\\BOBSIM\\lib\\site-packages\\sklearn\\linear_model\\_coordinate_descent.py:476: ConvergenceWarning: Objective did not converge. You might want to increase the number of iterations. Duality gap: 908.8121627915224, tolerance: 2.245288443367031\n",
      "  positive)\n",
      "C:\\Users\\jinho\\Anaconda3\\envs\\BOBSIM\\lib\\site-packages\\sklearn\\linear_model\\_coordinate_descent.py:476: ConvergenceWarning: Objective did not converge. You might want to increase the number of iterations. Duality gap: 1030.6852331746718, tolerance: 2.4067214137641173\n",
      "  positive)\n"
     ]
    },
    {
     "name": "stdout",
     "output_type": "stream",
     "text": [
      "1     821.968670\n",
      "2     820.962940\n",
      "3     822.560033\n",
      "4     824.313692\n",
      "5     825.896387\n",
      "6     827.288438\n",
      "7     830.864456\n",
      "8     831.905845\n",
      "9     832.834150\n",
      "10    833.427893\n",
      "11    834.385738\n",
      "12    835.232139\n",
      "13    835.593942\n",
      "14    836.243278\n",
      "15    836.691582\n",
      "dtype: float64\n"
     ]
    },
    {
     "name": "stderr",
     "output_type": "stream",
     "text": [
      "2020-04-09 10:50:04:manage:<INFO> success to save 'food_material_price_predict_model/image/rmse_by_train_size_201908.png' in s3 'production-bobsim'\n"
     ]
    },
    {
     "data": {
      "image/png": "[encoded data removed]",
      "text/plain": [
       "<Figure size 432x288 with 1 Axes>"
      ]
     },
     "metadata": {
      "needs_background": "light"
     },
     "output_type": "display_data"
    },
    {
     "data": {
      "text/plain": [
       "<Figure size 432x288 with 0 Axes>"
      ]
     },
     "metadata": {},
     "output_type": "display_data"
    }
   ],
   "source": [
    "rmse_by_train_size(dataset)"
   ]
  },
  {
   "cell_type": "code",
   "execution_count": 100,
   "metadata": {},
   "outputs": [
    {
     "name": "stderr",
     "output_type": "stream",
     "text": [
      "C:\\Users\\jinho\\Anaconda3\\envs\\BOBSIM\\lib\\site-packages\\sklearn\\linear_model\\_coordinate_descent.py:476: ConvergenceWarning: Objective did not converge. You might want to increase the number of iterations. Duality gap: 77.38376714962152, tolerance: 0.479896611929776\n",
      "  positive)\n"
     ]
    },
    {
     "name": "stdout",
     "output_type": "stream",
     "text": [
      "2019-08-06 00:00:00 2019-08-05 00:00:00\n"
     ]
    },
    {
     "name": "stderr",
     "output_type": "stream",
     "text": [
      "C:\\Users\\jinho\\Anaconda3\\envs\\BOBSIM\\lib\\site-packages\\sklearn\\linear_model\\_coordinate_descent.py:476: ConvergenceWarning: Objective did not converge. You might want to increase the number of iterations. Duality gap: 77.38376714962152, tolerance: 0.479896611929776\n",
      "  positive)\n"
     ]
    },
    {
     "name": "stdout",
     "output_type": "stream",
     "text": [
      "2019-08-07 00:00:00 2019-08-05 00:00:00\n"
     ]
    },
    {
     "name": "stderr",
     "output_type": "stream",
     "text": [
      "C:\\Users\\jinho\\Anaconda3\\envs\\BOBSIM\\lib\\site-packages\\sklearn\\linear_model\\_coordinate_descent.py:476: ConvergenceWarning: Objective did not converge. You might want to increase the number of iterations. Duality gap: 77.38376714962152, tolerance: 0.479896611929776\n",
      "  positive)\n"
     ]
    },
    {
     "name": "stdout",
     "output_type": "stream",
     "text": [
      "2019-08-08 00:00:00 2019-08-05 00:00:00\n"
     ]
    },
    {
     "name": "stderr",
     "output_type": "stream",
     "text": [
      "C:\\Users\\jinho\\Anaconda3\\envs\\BOBSIM\\lib\\site-packages\\sklearn\\linear_model\\_coordinate_descent.py:476: ConvergenceWarning: Objective did not converge. You might want to increase the number of iterations. Duality gap: 77.38376714962152, tolerance: 0.479896611929776\n",
      "  positive)\n"
     ]
    },
    {
     "name": "stdout",
     "output_type": "stream",
     "text": [
      "2019-08-09 00:00:00 2019-08-05 00:00:00\n"
     ]
    },
    {
     "name": "stderr",
     "output_type": "stream",
     "text": [
      "C:\\Users\\jinho\\Anaconda3\\envs\\BOBSIM\\lib\\site-packages\\sklearn\\linear_model\\_coordinate_descent.py:476: ConvergenceWarning: Objective did not converge. You might want to increase the number of iterations. Duality gap: 77.38376714962152, tolerance: 0.479896611929776\n",
      "  positive)\n"
     ]
    },
    {
     "name": "stdout",
     "output_type": "stream",
     "text": [
      "2019-08-12 00:00:00 2019-08-05 00:00:00\n"
     ]
    },
    {
     "name": "stderr",
     "output_type": "stream",
     "text": [
      "C:\\Users\\jinho\\Anaconda3\\envs\\BOBSIM\\lib\\site-packages\\sklearn\\linear_model\\_coordinate_descent.py:476: ConvergenceWarning: Objective did not converge. You might want to increase the number of iterations. Duality gap: 77.38376714962152, tolerance: 0.479896611929776\n",
      "  positive)\n"
     ]
    },
    {
     "name": "stdout",
     "output_type": "stream",
     "text": [
      "2019-08-13 00:00:00 2019-08-05 00:00:00\n"
     ]
    },
    {
     "name": "stderr",
     "output_type": "stream",
     "text": [
      "C:\\Users\\jinho\\Anaconda3\\envs\\BOBSIM\\lib\\site-packages\\sklearn\\linear_model\\_coordinate_descent.py:476: ConvergenceWarning: Objective did not converge. You might want to increase the number of iterations. Duality gap: 77.38376714962152, tolerance: 0.479896611929776\n",
      "  positive)\n"
     ]
    },
    {
     "name": "stdout",
     "output_type": "stream",
     "text": [
      "2019-08-14 00:00:00 2019-08-05 00:00:00\n"
     ]
    },
    {
     "name": "stderr",
     "output_type": "stream",
     "text": [
      "C:\\Users\\jinho\\Anaconda3\\envs\\BOBSIM\\lib\\site-packages\\sklearn\\linear_model\\_coordinate_descent.py:476: ConvergenceWarning: Objective did not converge. You might want to increase the number of iterations. Duality gap: 77.38376714962152, tolerance: 0.479896611929776\n",
      "  positive)\n"
     ]
    },
    {
     "name": "stdout",
     "output_type": "stream",
     "text": [
      "2019-08-16 00:00:00 2019-08-05 00:00:00\n"
     ]
    },
    {
     "name": "stderr",
     "output_type": "stream",
     "text": [
      "C:\\Users\\jinho\\Anaconda3\\envs\\BOBSIM\\lib\\site-packages\\sklearn\\linear_model\\_coordinate_descent.py:476: ConvergenceWarning: Objective did not converge. You might want to increase the number of iterations. Duality gap: 77.38376714962152, tolerance: 0.479896611929776\n",
      "  positive)\n"
     ]
    },
    {
     "name": "stdout",
     "output_type": "stream",
     "text": [
      "2019-08-19 00:00:00 2019-08-05 00:00:00\n"
     ]
    },
    {
     "name": "stderr",
     "output_type": "stream",
     "text": [
      "C:\\Users\\jinho\\Anaconda3\\envs\\BOBSIM\\lib\\site-packages\\sklearn\\linear_model\\_coordinate_descent.py:476: ConvergenceWarning: Objective did not converge. You might want to increase the number of iterations. Duality gap: 77.38376714962152, tolerance: 0.479896611929776\n",
      "  positive)\n"
     ]
    },
    {
     "name": "stdout",
     "output_type": "stream",
     "text": [
      "2019-08-20 00:00:00 2019-08-05 00:00:00\n"
     ]
    },
    {
     "name": "stderr",
     "output_type": "stream",
     "text": [
      "C:\\Users\\jinho\\Anaconda3\\envs\\BOBSIM\\lib\\site-packages\\sklearn\\linear_model\\_coordinate_descent.py:476: ConvergenceWarning: Objective did not converge. You might want to increase the number of iterations. Duality gap: 77.38376714962152, tolerance: 0.479896611929776\n",
      "  positive)\n"
     ]
    },
    {
     "name": "stdout",
     "output_type": "stream",
     "text": [
      "2019-08-21 00:00:00 2019-08-05 00:00:00\n"
     ]
    },
    {
     "name": "stderr",
     "output_type": "stream",
     "text": [
      "C:\\Users\\jinho\\Anaconda3\\envs\\BOBSIM\\lib\\site-packages\\sklearn\\linear_model\\_coordinate_descent.py:476: ConvergenceWarning: Objective did not converge. You might want to increase the number of iterations. Duality gap: 77.38376714962152, tolerance: 0.479896611929776\n",
      "  positive)\n"
     ]
    },
    {
     "name": "stdout",
     "output_type": "stream",
     "text": [
      "2019-08-22 00:00:00 2019-08-05 00:00:00\n"
     ]
    },
    {
     "name": "stderr",
     "output_type": "stream",
     "text": [
      "C:\\Users\\jinho\\Anaconda3\\envs\\BOBSIM\\lib\\site-packages\\sklearn\\linear_model\\_coordinate_descent.py:476: ConvergenceWarning: Objective did not converge. You might want to increase the number of iterations. Duality gap: 77.38376714962152, tolerance: 0.479896611929776\n",
      "  positive)\n"
     ]
    },
    {
     "name": "stdout",
     "output_type": "stream",
     "text": [
      "2019-08-23 00:00:00 2019-08-05 00:00:00\n"
     ]
    },
    {
     "name": "stderr",
     "output_type": "stream",
     "text": [
      "C:\\Users\\jinho\\Anaconda3\\envs\\BOBSIM\\lib\\site-packages\\sklearn\\linear_model\\_coordinate_descent.py:476: ConvergenceWarning: Objective did not converge. You might want to increase the number of iterations. Duality gap: 77.38376714962152, tolerance: 0.479896611929776\n",
      "  positive)\n"
     ]
    },
    {
     "name": "stdout",
     "output_type": "stream",
     "text": [
      "2019-08-26 00:00:00 2019-08-05 00:00:00\n"
     ]
    },
    {
     "name": "stderr",
     "output_type": "stream",
     "text": [
      "C:\\Users\\jinho\\Anaconda3\\envs\\BOBSIM\\lib\\site-packages\\sklearn\\linear_model\\_coordinate_descent.py:476: ConvergenceWarning: Objective did not converge. You might want to increase the number of iterations. Duality gap: 77.38376714962152, tolerance: 0.479896611929776\n",
      "  positive)\n"
     ]
    },
    {
     "name": "stdout",
     "output_type": "stream",
     "text": [
      "2019-08-27 00:00:00 2019-08-05 00:00:00\n",
      "1     854.792763\n",
      "2     857.031577\n",
      "3     854.664075\n",
      "4     852.955344\n",
      "5     850.812280\n",
      "6     847.029172\n",
      "7     845.496428\n",
      "8     843.185251\n",
      "9     839.020461\n",
      "10    839.039687\n",
      "11    839.789238\n",
      "12    844.056307\n",
      "13    846.092454\n",
      "14    848.809803\n",
      "15    848.162019\n",
      "dtype: float64\n"
     ]
    },
    {
     "name": "stderr",
     "output_type": "stream",
     "text": [
      "2020-04-09 10:48:10:manage:<INFO> success to save 'food_material_price_predict_model/image/rmse_by_test_size_201908.png' in s3 'production-bobsim'\n"
     ]
    },
    {
     "data": {
      "image/png": "[encoded data removed]",
      "text/plain": [
       "<Figure size 432x288 with 1 Axes>"
      ]
     },
     "metadata": {
      "needs_background": "light"
     },
     "output_type": "display_data"
    },
    {
     "data": {
      "text/plain": [
       "<Figure size 432x288 with 0 Axes>"
      ]
     },
     "metadata": {},
     "output_type": "display_data"
    }
   ],
   "source": [
    "rmse_by_test_size(dataset)"
   ]
  },
  {
   "cell_type": "code",
   "execution_count": null,
   "metadata": {},
   "outputs": [],
   "source": []
  },
  {
   "cell_type": "code",
   "execution_count": null,
   "metadata": {},
   "outputs": [],
   "source": []
  },
  {
   "cell_type": "code",
   "execution_count": 4,
   "metadata": {},
   "outputs": [
    {
     "name": "stderr",
     "output_type": "stream",
     "text": [
      "C:\\Users\\jinho\\Anaconda3\\envs\\BOBSIM\\lib\\site-packages\\ipykernel_launcher.py:4: UserWarning: With alpha=0, this algorithm does not converge well. You are advised to use the LinearRegression estimator\n",
      "  after removing the cwd from sys.path.\n",
      "C:\\Users\\jinho\\Anaconda3\\envs\\BOBSIM\\lib\\site-packages\\sklearn\\linear_model\\_coordinate_descent.py:476: UserWarning: Coordinate descent with no regularization may lead to unexpected results and is discouraged.\n",
      "  positive)\n",
      "C:\\Users\\jinho\\Anaconda3\\envs\\BOBSIM\\lib\\site-packages\\sklearn\\linear_model\\_coordinate_descent.py:476: ConvergenceWarning: Objective did not converge. You might want to increase the number of iterations. Duality gap: 2960803954.906143, tolerance: 16733436.770004129\n",
      "  positive)\n"
     ]
    },
    {
     "data": {
      "text/plain": [
       "568.4727293334064"
      ]
     },
     "execution_count": 4,
     "metadata": {},
     "output_type": "execute_result"
    }
   ],
   "source": [
    "from sklearn.linear_model import ElasticNet\n",
    "\n",
    "en = ElasticNet(alpha=0, l1_ratio=0.0, max_iter=5)\n",
    "en.fit(train_x, train_y)\n",
    "pred = en.predict(test_x)\n",
    "model_pipeline.customized_rmse(test_y, pred)"
   ]
  },
  {
   "cell_type": "code",
   "execution_count": null,
   "metadata": {},
   "outputs": [],
   "source": []
  }
 ],
 "metadata": {
  "kernelspec": {
   "display_name": "BOBSIM",
   "language": "python",
   "name": "bobsim"
  },
  "language_info": {
   "codemirror_mode": {
    "name": "ipython",
    "version": 3
   },
   "file_extension": ".py",
   "mimetype": "text/x-python",
   "name": "python",
   "nbconvert_exporter": "python",
   "pygments_lexer": "ipython3",
   "version": "3.7.6"
  }
 },
 "nbformat": 4,
 "nbformat_minor": 4
}
