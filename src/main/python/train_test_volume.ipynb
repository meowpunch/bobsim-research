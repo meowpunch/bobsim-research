{
 "cells": [
  {
   "cell_type": "markdown",
   "metadata": {},
   "source": [
    "# SET TRAIN & TEST VOLUME"
   ]
  },
  {
   "cell_type": "markdown",
   "metadata": {},
   "source": [
    "### build dataset for one month"
   ]
  },
  {
   "cell_type": "code",
   "execution_count": 1,
   "metadata": {},
   "outputs": [
    {
     "name": "stderr",
     "output_type": "stream",
     "text": [
      "2020-04-22 19:14:49:manage:<INFO> 1 files is loaded from public_data/open_data_raw_material_price/process/csv/201908.csv in s3 'production-bobsim'\n",
      "2020-04-22 19:14:49:manage:<INFO> 1 files is loaded from public_data/open_data_terrestrial_weather/process/csv/201908.csv in s3 'production-bobsim'\n",
      "2020-04-22 19:14:49:manage:<INFO> 1 files is loaded from public_data/open_data_marine_weather/process/csv/201908.csv in s3 'production-bobsim'\n"
     ]
    }
   ],
   "source": [
    "from util.build_dataset import build_master\n",
    "\n",
    "dataset = build_master(bucket_name=\"production-bobsim\", dataset=\"process_fmp\", date=\"201908\", pipe_data=False)"
   ]
  },
  {
   "cell_type": "code",
   "execution_count": 5,
   "metadata": {},
   "outputs": [],
   "source": [
    "from analysis.food_material_price.research import *"
   ]
  },
  {
   "cell_type": "code",
   "execution_count": 8,
   "metadata": {},
   "outputs": [
    {
     "name": "stderr",
     "output_type": "stream",
     "text": [
      "2020-04-22 19:16:33:manage:<INFO> success to download from 'food_material_price_predict_model/research/tuned_params.pkl'\n",
      "C:\\BOBSIM\\production-bobsim-python\\src\\main\\python\\analysis\\food_material_price\\research.py:159: UserWarning: With alpha=0, this algorithm does not converge well. You are advised to use the LinearRegression estimator\n",
      "  regr.fit(x_train, y_train)\n",
      "C:\\Users\\jinho\\Anaconda3\\envs\\BOBSIM\\lib\\site-packages\\sklearn\\linear_model\\_coordinate_descent.py:476: UserWarning: Coordinate descent with no regularization may lead to unexpected results and is discouraged.\n",
      "  positive)\n",
      "C:\\Users\\jinho\\Anaconda3\\envs\\BOBSIM\\lib\\site-packages\\sklearn\\linear_model\\_coordinate_descent.py:476: ConvergenceWarning: Objective did not converge. You might want to increase the number of iterations. Duality gap: 1451108856.3248856, tolerance: 9680945.629623774\n",
      "  positive)\n",
      "2020-04-22 19:16:34:manage:<INFO> success to download from 'food_material_price_predict_model/research/tuned_params.pkl'\n",
      "C:\\BOBSIM\\production-bobsim-python\\src\\main\\python\\analysis\\food_material_price\\research.py:159: UserWarning: With alpha=0, this algorithm does not converge well. You are advised to use the LinearRegression estimator\n",
      "  regr.fit(x_train, y_train)\n",
      "C:\\Users\\jinho\\Anaconda3\\envs\\BOBSIM\\lib\\site-packages\\sklearn\\linear_model\\_coordinate_descent.py:476: UserWarning: Coordinate descent with no regularization may lead to unexpected results and is discouraged.\n",
      "  positive)\n",
      "C:\\Users\\jinho\\Anaconda3\\envs\\BOBSIM\\lib\\site-packages\\sklearn\\linear_model\\_coordinate_descent.py:476: ConvergenceWarning: Objective did not converge. You might want to increase the number of iterations. Duality gap: 1451108856.3248856, tolerance: 9680945.629623774\n",
      "  positive)\n",
      "2020-04-22 19:16:34:manage:<INFO> success to download from 'food_material_price_predict_model/research/tuned_params.pkl'\n",
      "C:\\BOBSIM\\production-bobsim-python\\src\\main\\python\\analysis\\food_material_price\\research.py:159: UserWarning: With alpha=0, this algorithm does not converge well. You are advised to use the LinearRegression estimator\n",
      "  regr.fit(x_train, y_train)\n",
      "C:\\Users\\jinho\\Anaconda3\\envs\\BOBSIM\\lib\\site-packages\\sklearn\\linear_model\\_coordinate_descent.py:476: UserWarning: Coordinate descent with no regularization may lead to unexpected results and is discouraged.\n",
      "  positive)\n",
      "C:\\Users\\jinho\\Anaconda3\\envs\\BOBSIM\\lib\\site-packages\\sklearn\\linear_model\\_coordinate_descent.py:476: ConvergenceWarning: Objective did not converge. You might want to increase the number of iterations. Duality gap: 1451108856.3248856, tolerance: 9680945.629623774\n",
      "  positive)\n",
      "2020-04-22 19:16:34:manage:<INFO> success to download from 'food_material_price_predict_model/research/tuned_params.pkl'\n",
      "C:\\BOBSIM\\production-bobsim-python\\src\\main\\python\\analysis\\food_material_price\\research.py:159: UserWarning: With alpha=0, this algorithm does not converge well. You are advised to use the LinearRegression estimator\n",
      "  regr.fit(x_train, y_train)\n",
      "C:\\Users\\jinho\\Anaconda3\\envs\\BOBSIM\\lib\\site-packages\\sklearn\\linear_model\\_coordinate_descent.py:476: UserWarning: Coordinate descent with no regularization may lead to unexpected results and is discouraged.\n",
      "  positive)\n",
      "C:\\Users\\jinho\\Anaconda3\\envs\\BOBSIM\\lib\\site-packages\\sklearn\\linear_model\\_coordinate_descent.py:476: ConvergenceWarning: Objective did not converge. You might want to increase the number of iterations. Duality gap: 1451108856.3248856, tolerance: 9680945.629623774\n",
      "  positive)\n",
      "2020-04-22 19:16:34:manage:<INFO> success to download from 'food_material_price_predict_model/research/tuned_params.pkl'\n",
      "C:\\BOBSIM\\production-bobsim-python\\src\\main\\python\\analysis\\food_material_price\\research.py:159: UserWarning: With alpha=0, this algorithm does not converge well. You are advised to use the LinearRegression estimator\n",
      "  regr.fit(x_train, y_train)\n",
      "C:\\Users\\jinho\\Anaconda3\\envs\\BOBSIM\\lib\\site-packages\\sklearn\\linear_model\\_coordinate_descent.py:476: UserWarning: Coordinate descent with no regularization may lead to unexpected results and is discouraged.\n",
      "  positive)\n",
      "C:\\Users\\jinho\\Anaconda3\\envs\\BOBSIM\\lib\\site-packages\\sklearn\\linear_model\\_coordinate_descent.py:476: ConvergenceWarning: Objective did not converge. You might want to increase the number of iterations. Duality gap: 1451108856.3248856, tolerance: 9680945.629623774\n",
      "  positive)\n",
      "2020-04-22 19:16:35:manage:<INFO> success to download from 'food_material_price_predict_model/research/tuned_params.pkl'\n",
      "C:\\BOBSIM\\production-bobsim-python\\src\\main\\python\\analysis\\food_material_price\\research.py:159: UserWarning: With alpha=0, this algorithm does not converge well. You are advised to use the LinearRegression estimator\n",
      "  regr.fit(x_train, y_train)\n",
      "C:\\Users\\jinho\\Anaconda3\\envs\\BOBSIM\\lib\\site-packages\\sklearn\\linear_model\\_coordinate_descent.py:476: UserWarning: Coordinate descent with no regularization may lead to unexpected results and is discouraged.\n",
      "  positive)\n",
      "C:\\Users\\jinho\\Anaconda3\\envs\\BOBSIM\\lib\\site-packages\\sklearn\\linear_model\\_coordinate_descent.py:476: ConvergenceWarning: Objective did not converge. You might want to increase the number of iterations. Duality gap: 1451108856.3248856, tolerance: 9680945.629623774\n",
      "  positive)\n",
      "2020-04-22 19:16:35:manage:<INFO> success to download from 'food_material_price_predict_model/research/tuned_params.pkl'\n",
      "C:\\BOBSIM\\production-bobsim-python\\src\\main\\python\\analysis\\food_material_price\\research.py:159: UserWarning: With alpha=0, this algorithm does not converge well. You are advised to use the LinearRegression estimator\n",
      "  regr.fit(x_train, y_train)\n",
      "C:\\Users\\jinho\\Anaconda3\\envs\\BOBSIM\\lib\\site-packages\\sklearn\\linear_model\\_coordinate_descent.py:476: UserWarning: Coordinate descent with no regularization may lead to unexpected results and is discouraged.\n",
      "  positive)\n",
      "C:\\Users\\jinho\\Anaconda3\\envs\\BOBSIM\\lib\\site-packages\\sklearn\\linear_model\\_coordinate_descent.py:476: ConvergenceWarning: Objective did not converge. You might want to increase the number of iterations. Duality gap: 1451108856.3248856, tolerance: 9680945.629623774\n",
      "  positive)\n",
      "2020-04-22 19:16:35:manage:<INFO> success to download from 'food_material_price_predict_model/research/tuned_params.pkl'\n",
      "C:\\BOBSIM\\production-bobsim-python\\src\\main\\python\\analysis\\food_material_price\\research.py:159: UserWarning: With alpha=0, this algorithm does not converge well. You are advised to use the LinearRegression estimator\n",
      "  regr.fit(x_train, y_train)\n",
      "C:\\Users\\jinho\\Anaconda3\\envs\\BOBSIM\\lib\\site-packages\\sklearn\\linear_model\\_coordinate_descent.py:476: UserWarning: Coordinate descent with no regularization may lead to unexpected results and is discouraged.\n",
      "  positive)\n",
      "C:\\Users\\jinho\\Anaconda3\\envs\\BOBSIM\\lib\\site-packages\\sklearn\\linear_model\\_coordinate_descent.py:476: ConvergenceWarning: Objective did not converge. You might want to increase the number of iterations. Duality gap: 1451108856.3248856, tolerance: 9680945.629623774\n",
      "  positive)\n",
      "2020-04-22 19:16:35:manage:<INFO> success to download from 'food_material_price_predict_model/research/tuned_params.pkl'\n",
      "C:\\BOBSIM\\production-bobsim-python\\src\\main\\python\\analysis\\food_material_price\\research.py:159: UserWarning: With alpha=0, this algorithm does not converge well. You are advised to use the LinearRegression estimator\n",
      "  regr.fit(x_train, y_train)\n",
      "C:\\Users\\jinho\\Anaconda3\\envs\\BOBSIM\\lib\\site-packages\\sklearn\\linear_model\\_coordinate_descent.py:476: UserWarning: Coordinate descent with no regularization may lead to unexpected results and is discouraged.\n",
      "  positive)\n",
      "C:\\Users\\jinho\\Anaconda3\\envs\\BOBSIM\\lib\\site-packages\\sklearn\\linear_model\\_coordinate_descent.py:476: ConvergenceWarning: Objective did not converge. You might want to increase the number of iterations. Duality gap: 1451108856.3248856, tolerance: 9680945.629623774\n",
      "  positive)\n"
     ]
    },
    {
     "name": "stdout",
     "output_type": "stream",
     "text": [
      "1    807.671685\n",
      "2    828.537309\n",
      "3    852.901672\n",
      "4    898.045575\n",
      "5    918.948714\n",
      "6    941.898621\n",
      "7    928.259237\n",
      "8    926.782099\n",
      "9    925.616190\n",
      "dtype: float64\n"
     ]
    },
    {
     "name": "stderr",
     "output_type": "stream",
     "text": [
      "2020-04-22 19:16:36:manage:<INFO> success to save 'food_material_price_predict_model/research/042020/image/rmse_fixing_train_size_10.png' in s3 'production-bobsim'\n"
     ]
    },
    {
     "data": {
      "image/png": "[encoded data removed]",
      "text/plain": [
       "<Figure size 432x288 with 1 Axes>"
      ]
     },
     "metadata": {
      "needs_background": "light"
     },
     "output_type": "display_data"
    },
    {
     "data": {
      "text/plain": [
       "<Figure size 432x288 with 0 Axes>"
      ]
     },
     "metadata": {},
     "output_type": "display_data"
    }
   ],
   "source": [
    "rmse_by_test_size(dataset, train_size=10)"
   ]
  },
  {
   "cell_type": "code",
   "execution_count": null,
   "metadata": {},
   "outputs": [],
   "source": []
  },
  {
   "cell_type": "code",
   "execution_count": null,
   "metadata": {},
   "outputs": [],
   "source": []
  },
  {
   "cell_type": "code",
   "execution_count": null,
   "metadata": {},
   "outputs": [],
   "source": []
  }
 ],
 "metadata": {
  "kernelspec": {
   "display_name": "BOBSIM",
   "language": "python",
   "name": "bobsim"
  },
  "language_info": {
   "codemirror_mode": {
    "name": "ipython",
    "version": 3
   },
   "file_extension": ".py",
   "mimetype": "text/x-python",
   "name": "python",
   "nbconvert_exporter": "python",
   "pygments_lexer": "ipython3",
   "version": "3.7.6"
  }
 },
 "nbformat": 4,
 "nbformat_minor": 4
}
