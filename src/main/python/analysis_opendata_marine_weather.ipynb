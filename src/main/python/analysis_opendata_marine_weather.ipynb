{
 "cells": [
  {
   "cell_type": "code",
   "execution_count": 1,
   "metadata": {},
   "outputs": [],
   "source": [
    "import pandas as pd\n",
    "import numpy as np\n",
    "import matplotlib.pyplot as plt\n",
    "import seaborn as sns\n",
    "%matplotlib inline"
   ]
  },
  {
   "cell_type": "code",
   "execution_count": 4,
   "metadata": {},
   "outputs": [],
   "source": [
    "origin_df = pd.read_csv('https://production-bobsim.s3.ap-northeast-2.amazonaws.com/public_data/opend_data_marine_weather/origin/2014-2020+.csv', encoding='euc-kr')"
   ]
  },
  {
   "cell_type": "code",
   "execution_count": 5,
   "metadata": {},
   "outputs": [
    {
     "data": {
      "text/html": [
       "<div>\n",
       "<style scoped>\n",
       "    .dataframe tbody tr th:only-of-type {\n",
       "        vertical-align: middle;\n",
       "    }\n",
       "\n",
       "    .dataframe tbody tr th {\n",
       "        vertical-align: top;\n",
       "    }\n",
       "\n",
       "    .dataframe thead th {\n",
       "        text-align: right;\n",
       "    }\n",
       "</style>\n",
       "<table border=\"1\" class=\"dataframe\">\n",
       "  <thead>\n",
       "    <tr style=\"text-align: right;\">\n",
       "      <th></th>\n",
       "      <th>지점</th>\n",
       "      <th>일시</th>\n",
       "      <th>평균 풍속(m/s)</th>\n",
       "      <th>평균기압(hPa)</th>\n",
       "      <th>평균 상대습도(pct)</th>\n",
       "      <th>평균 기온(°C)</th>\n",
       "      <th>평균 수온(°C)</th>\n",
       "      <th>평균 최대 파고(m)</th>\n",
       "      <th>평균 유의 파고(m)</th>\n",
       "      <th>최고 유의 파고(m)</th>\n",
       "      <th>최고 최대 파고(m)</th>\n",
       "      <th>평균 파주기(sec)</th>\n",
       "      <th>최고 파주기(sec)</th>\n",
       "    </tr>\n",
       "  </thead>\n",
       "  <tbody>\n",
       "    <tr>\n",
       "      <td>0</td>\n",
       "      <td>21229</td>\n",
       "      <td>2014-01-01</td>\n",
       "      <td>10.9</td>\n",
       "      <td>1009.0</td>\n",
       "      <td>44.0</td>\n",
       "      <td>8.8</td>\n",
       "      <td>14.5</td>\n",
       "      <td>4.5</td>\n",
       "      <td>2.8</td>\n",
       "      <td>3.5</td>\n",
       "      <td>5.9</td>\n",
       "      <td>7.6</td>\n",
       "      <td>9.1</td>\n",
       "    </tr>\n",
       "    <tr>\n",
       "      <td>1</td>\n",
       "      <td>21229</td>\n",
       "      <td>2014-01-02</td>\n",
       "      <td>5.6</td>\n",
       "      <td>1017.8</td>\n",
       "      <td>61.0</td>\n",
       "      <td>6.4</td>\n",
       "      <td>14.4</td>\n",
       "      <td>3.7</td>\n",
       "      <td>2.4</td>\n",
       "      <td>3.7</td>\n",
       "      <td>6.1</td>\n",
       "      <td>7.8</td>\n",
       "      <td>9.1</td>\n",
       "    </tr>\n",
       "    <tr>\n",
       "      <td>2</td>\n",
       "      <td>21229</td>\n",
       "      <td>2014-01-03</td>\n",
       "      <td>6.5</td>\n",
       "      <td>1014.8</td>\n",
       "      <td>45.0</td>\n",
       "      <td>10.0</td>\n",
       "      <td>13.9</td>\n",
       "      <td>1.9</td>\n",
       "      <td>1.2</td>\n",
       "      <td>1.7</td>\n",
       "      <td>2.8</td>\n",
       "      <td>5.6</td>\n",
       "      <td>8.0</td>\n",
       "    </tr>\n",
       "    <tr>\n",
       "      <td>3</td>\n",
       "      <td>21229</td>\n",
       "      <td>2014-01-04</td>\n",
       "      <td>9.5</td>\n",
       "      <td>1017.9</td>\n",
       "      <td>68.0</td>\n",
       "      <td>3.1</td>\n",
       "      <td>13.5</td>\n",
       "      <td>3.7</td>\n",
       "      <td>2.3</td>\n",
       "      <td>3.0</td>\n",
       "      <td>5.7</td>\n",
       "      <td>7.2</td>\n",
       "      <td>9.1</td>\n",
       "    </tr>\n",
       "    <tr>\n",
       "      <td>4</td>\n",
       "      <td>21229</td>\n",
       "      <td>2014-01-05</td>\n",
       "      <td>7.4</td>\n",
       "      <td>1021.6</td>\n",
       "      <td>71.0</td>\n",
       "      <td>3.4</td>\n",
       "      <td>13.2</td>\n",
       "      <td>2.6</td>\n",
       "      <td>1.6</td>\n",
       "      <td>2.2</td>\n",
       "      <td>3.8</td>\n",
       "      <td>7.1</td>\n",
       "      <td>8.0</td>\n",
       "    </tr>\n",
       "  </tbody>\n",
       "</table>\n",
       "</div>"
      ],
      "text/plain": [
       "      지점          일시  평균 풍속(m/s)  평균기압(hPa)  평균 상대습도(pct)  평균 기온(°C)  \\\n",
       "0  21229  2014-01-01        10.9     1009.0          44.0        8.8   \n",
       "1  21229  2014-01-02         5.6     1017.8          61.0        6.4   \n",
       "2  21229  2014-01-03         6.5     1014.8          45.0       10.0   \n",
       "3  21229  2014-01-04         9.5     1017.9          68.0        3.1   \n",
       "4  21229  2014-01-05         7.4     1021.6          71.0        3.4   \n",
       "\n",
       "   평균 수온(°C)  평균 최대 파고(m)  평균 유의 파고(m)  최고 유의 파고(m)  최고 최대 파고(m)  평균 파주기(sec)  \\\n",
       "0       14.5          4.5          2.8          3.5          5.9          7.6   \n",
       "1       14.4          3.7          2.4          3.7          6.1          7.8   \n",
       "2       13.9          1.9          1.2          1.7          2.8          5.6   \n",
       "3       13.5          3.7          2.3          3.0          5.7          7.2   \n",
       "4       13.2          2.6          1.6          2.2          3.8          7.1   \n",
       "\n",
       "   최고 파주기(sec)  \n",
       "0          9.1  \n",
       "1          9.1  \n",
       "2          8.0  \n",
       "3          9.1  \n",
       "4          8.0  "
      ]
     },
     "execution_count": 5,
     "metadata": {},
     "output_type": "execute_result"
    }
   ],
   "source": [
    "origin_df.head()"
   ]
  },
  {
   "cell_type": "code",
   "execution_count": 6,
   "metadata": {},
   "outputs": [
    {
     "name": "stdout",
     "output_type": "stream",
     "text": [
      "<class 'pandas.core.frame.DataFrame'>\n",
      "RangeIndex: 34061 entries, 0 to 34060\n",
      "Data columns (total 13 columns):\n",
      "지점              34061 non-null int64\n",
      "일시              34061 non-null object\n",
      "평균 풍속(m/s)      33172 non-null float64\n",
      "평균기압(hPa)       33145 non-null float64\n",
      "평균 상대습도(pct)    33024 non-null float64\n",
      "평균 기온(°C)       33174 non-null float64\n",
      "평균 수온(°C)       33255 non-null float64\n",
      "평균 최대 파고(m)     33418 non-null float64\n",
      "평균 유의 파고(m)     33228 non-null float64\n",
      "최고 유의 파고(m)     33988 non-null float64\n",
      "최고 최대 파고(m)     33989 non-null float64\n",
      "평균 파주기(sec)     33156 non-null float64\n",
      "최고 파주기(sec)     33994 non-null float64\n",
      "dtypes: float64(11), int64(1), object(1)\n",
      "memory usage: 3.4+ MB\n"
     ]
    }
   ],
   "source": [
    "origin_df.info()"
   ]
  },
  {
   "cell_type": "code",
   "execution_count": null,
   "metadata": {},
   "outputs": [],
   "source": [
    "origin_df.isnull().sum()"
   ]
  },
  {
   "cell_type": "markdown",
   "metadata": {},
   "source": [
    "** null % **"
   ]
  },
  {
   "cell_type": "code",
   "execution_count": 9,
   "metadata": {},
   "outputs": [
    {
     "data": {
      "text/plain": [
       "지점              0.000000\n",
       "일시              0.000000\n",
       "평균 풍속(m/s)      2.610023\n",
       "평균기압(hPa)       2.689293\n",
       "평균 상대습도(pct)    3.044538\n",
       "평균 기온(°C)       2.604151\n",
       "평균 수온(°C)       2.366343\n",
       "평균 최대 파고(m)     1.887790\n",
       "평균 유의 파고(m)     2.445612\n",
       "최고 유의 파고(m)     0.214321\n",
       "최고 최대 파고(m)     0.211385\n",
       "평균 파주기(sec)     2.656998\n",
       "최고 파주기(sec)     0.196706\n",
       "dtype: float64"
      ]
     },
     "execution_count": 9,
     "metadata": {},
     "output_type": "execute_result"
    }
   ],
   "source": [
    "origin_df.isnull().sum()/34061 * 100"
   ]
  },
  {
   "cell_type": "markdown",
   "metadata": {},
   "source": [
    "#### 평균 풍속,기압, 습도,기온,수온 -> mean \n",
    "#### 파고에 관한것 -> 0"
   ]
  },
  {
   "cell_type": "code",
   "execution_count": 25,
   "metadata": {},
   "outputs": [],
   "source": [
    "origin_df['평균 풍속(m/s)']= origin_df['평균 풍속(m/s)'].fillna(origin_df['평균 풍속(m/s)'].mean())"
   ]
  },
  {
   "cell_type": "code",
   "execution_count": 26,
   "metadata": {},
   "outputs": [
    {
     "data": {
      "text/plain": [
       "지점                 0\n",
       "일시                 0\n",
       "평균 풍속(m/s)         0\n",
       "평균기압(hPa)        916\n",
       "평균 상대습도(pct)    1037\n",
       "평균 기온(°C)        887\n",
       "평균 수온(°C)        806\n",
       "평균 최대 파고(m)      643\n",
       "평균 유의 파고(m)      833\n",
       "최고 유의 파고(m)       73\n",
       "최고 최대 파고(m)       72\n",
       "평균 파주기(sec)      905\n",
       "최고 파주기(sec)       67\n",
       "dtype: int64"
      ]
     },
     "execution_count": 26,
     "metadata": {},
     "output_type": "execute_result"
    }
   ],
   "source": [
    "origin_df.isnull().sum()"
   ]
  },
  {
   "cell_type": "code",
   "execution_count": 27,
   "metadata": {},
   "outputs": [],
   "source": [
    "origin_df[['평균기압(hPa)','평균 상대습도(pct)','평균 기온(°C)','평균 수온(°C)']]= origin_df[['평균기압(hPa)','평균 상대습도(pct)','평균 기온(°C)','평균 수온(°C)']].fillna(origin_df.mean())"
   ]
  },
  {
   "cell_type": "code",
   "execution_count": 28,
   "metadata": {},
   "outputs": [
    {
     "data": {
      "text/plain": [
       "지점                0\n",
       "일시                0\n",
       "평균 풍속(m/s)        0\n",
       "평균기압(hPa)         0\n",
       "평균 상대습도(pct)      0\n",
       "평균 기온(°C)         0\n",
       "평균 수온(°C)         0\n",
       "평균 최대 파고(m)     643\n",
       "평균 유의 파고(m)     833\n",
       "최고 유의 파고(m)      73\n",
       "최고 최대 파고(m)      72\n",
       "평균 파주기(sec)     905\n",
       "최고 파주기(sec)      67\n",
       "dtype: int64"
      ]
     },
     "execution_count": 28,
     "metadata": {},
     "output_type": "execute_result"
    }
   ],
   "source": [
    "origin_df.isnull().sum()"
   ]
  },
  {
   "cell_type": "code",
   "execution_count": 34,
   "metadata": {},
   "outputs": [],
   "source": [
    "origin_df.fillna(value=0,inplace=True)"
   ]
  },
  {
   "cell_type": "code",
   "execution_count": 35,
   "metadata": {},
   "outputs": [
    {
     "data": {
      "text/plain": [
       "지점              0\n",
       "일시              0\n",
       "평균 풍속(m/s)      0\n",
       "평균기압(hPa)       0\n",
       "평균 상대습도(pct)    0\n",
       "평균 기온(°C)       0\n",
       "평균 수온(°C)       0\n",
       "평균 최대 파고(m)     0\n",
       "평균 유의 파고(m)     0\n",
       "최고 유의 파고(m)     0\n",
       "최고 최대 파고(m)     0\n",
       "평균 파주기(sec)     0\n",
       "최고 파주기(sec)     0\n",
       "dtype: int64"
      ]
     },
     "execution_count": 35,
     "metadata": {},
     "output_type": "execute_result"
    }
   ],
   "source": [
    "origin_df.isnull().sum()"
   ]
  },
  {
   "cell_type": "markdown",
   "metadata": {},
   "source": [
    " ** 왜곡도 추출 **"
   ]
  },
  {
   "cell_type": "code",
   "execution_count": 37,
   "metadata": {},
   "outputs": [
    {
     "name": "stdout",
     "output_type": "stream",
     "text": [
      "최고 파주기(sec)     7.763082\n",
      "최고 유의 파고(m)     1.693847\n",
      "최고 최대 파고(m)     1.627927\n",
      "평균 최대 파고(m)     1.573460\n",
      "평균 유의 파고(m)     1.556484\n",
      "평균 파주기(sec)     0.869491\n",
      "평균 풍속(m/s)      0.648314\n",
      "평균기압(hPa)      -0.067499\n",
      "평균 기온(°C)      -0.102349\n",
      "평균 수온(°C)      -0.139100\n",
      "평균 상대습도(pct)   -0.320732\n",
      "지점             -3.309556\n",
      "dtype: float64\n"
     ]
    }
   ],
   "source": [
    "from scipy.stats import skew\n",
    "\n",
    "features_index = origin_df.dtypes[origin_df.dtypes != 'object'].index\n",
    "\n",
    "skew_features = origin_df[features_index].apply(lambda x : skew(x))\n",
    "\n",
    "skew_features_top = skew_features[skew_features > 1]\n",
    "print(skew_features.sort_values(ascending=False))"
   ]
  },
  {
   "cell_type": "markdown",
   "metadata": {},
   "source": [
    " ** 1이상 log 변환**"
   ]
  },
  {
   "cell_type": "code",
   "execution_count": 39,
   "metadata": {},
   "outputs": [],
   "source": [
    "origin_df[skew_features_top.index] = np.log1p(origin_df[skew_features_top.index])"
   ]
  },
  {
   "cell_type": "code",
   "execution_count": 40,
   "metadata": {},
   "outputs": [
    {
     "name": "stdout",
     "output_type": "stream",
     "text": [
      "최고 파주기(sec)     0.914432\n",
      "평균 파주기(sec)     0.869491\n",
      "평균 풍속(m/s)      0.648314\n",
      "평균 유의 파고(m)     0.478406\n",
      "최고 유의 파고(m)     0.424752\n",
      "평균 최대 파고(m)     0.380923\n",
      "최고 최대 파고(m)     0.356408\n",
      "평균기압(hPa)      -0.067499\n",
      "평균 기온(°C)      -0.102349\n",
      "평균 수온(°C)      -0.139100\n",
      "평균 상대습도(pct)   -0.320732\n",
      "지점             -3.309556\n",
      "dtype: float64\n"
     ]
    }
   ],
   "source": [
    "skew_features_logs = origin_df[features_index].apply(lambda x : skew(x))\n",
    "\n",
    "print(skew_features_logs.sort_values(ascending=False))"
   ]
  }
 ],
 "metadata": {
  "kernelspec": {
   "display_name": "Python 3",
   "language": "python",
   "name": "python3"
  },
  "language_info": {
   "codemirror_mode": {
    "name": "ipython",
    "version": 3
   },
   "file_extension": ".py",
   "mimetype": "text/x-python",
   "name": "python",
   "nbconvert_exporter": "python",
   "pygments_lexer": "ipython3",
   "version": "3.7.4"
  }
 },
 "nbformat": 4,
 "nbformat_minor": 2
}
