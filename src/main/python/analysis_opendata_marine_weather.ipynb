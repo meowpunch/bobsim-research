{
 "cells": [
  {
   "cell_type": "code",
   "execution_count": 28,
   "metadata": {},
   "outputs": [],
   "source": [
    "import pandas as pd\n",
    "import numpy as np\n",
    "import matplotlib.pyplot as plt\n",
    "import seaborn as sns\n",
    "%matplotlib inline"
   ]
  },
  {
   "cell_type": "code",
   "execution_count": 29,
   "metadata": {},
   "outputs": [],
   "source": [
    "origin_df = pd.read_csv('https://production-bobsim.s3.ap-northeast-2.amazonaws.com/public_data/open_data_marine_weather/origin/csv/2014-2020+.csv', encoding='euc-kr')"
   ]
  },
  {
   "cell_type": "code",
   "execution_count": 30,
   "metadata": {},
   "outputs": [
    {
     "data": {
      "text/html": [
       "<div>\n",
       "<style scoped>\n",
       "    .dataframe tbody tr th:only-of-type {\n",
       "        vertical-align: middle;\n",
       "    }\n",
       "\n",
       "    .dataframe tbody tr th {\n",
       "        vertical-align: top;\n",
       "    }\n",
       "\n",
       "    .dataframe thead th {\n",
       "        text-align: right;\n",
       "    }\n",
       "</style>\n",
       "<table border=\"1\" class=\"dataframe\">\n",
       "  <thead>\n",
       "    <tr style=\"text-align: right;\">\n",
       "      <th></th>\n",
       "      <th>지점</th>\n",
       "      <th>일시</th>\n",
       "      <th>평균 풍속(m/s)</th>\n",
       "      <th>평균기압(hPa)</th>\n",
       "      <th>평균 상대습도(pct)</th>\n",
       "      <th>평균 기온(°C)</th>\n",
       "      <th>평균 수온(°C)</th>\n",
       "      <th>평균 최대 파고(m)</th>\n",
       "      <th>평균 유의 파고(m)</th>\n",
       "      <th>최고 유의 파고(m)</th>\n",
       "      <th>최고 최대 파고(m)</th>\n",
       "      <th>평균 파주기(sec)</th>\n",
       "      <th>최고 파주기(sec)</th>\n",
       "    </tr>\n",
       "  </thead>\n",
       "  <tbody>\n",
       "    <tr>\n",
       "      <td>0</td>\n",
       "      <td>21229</td>\n",
       "      <td>2014-01-01</td>\n",
       "      <td>10.9</td>\n",
       "      <td>1009.0</td>\n",
       "      <td>44.0</td>\n",
       "      <td>8.8</td>\n",
       "      <td>14.5</td>\n",
       "      <td>4.5</td>\n",
       "      <td>2.8</td>\n",
       "      <td>3.5</td>\n",
       "      <td>5.9</td>\n",
       "      <td>7.6</td>\n",
       "      <td>9.1</td>\n",
       "    </tr>\n",
       "    <tr>\n",
       "      <td>1</td>\n",
       "      <td>21229</td>\n",
       "      <td>2014-01-02</td>\n",
       "      <td>5.6</td>\n",
       "      <td>1017.8</td>\n",
       "      <td>61.0</td>\n",
       "      <td>6.4</td>\n",
       "      <td>14.4</td>\n",
       "      <td>3.7</td>\n",
       "      <td>2.4</td>\n",
       "      <td>3.7</td>\n",
       "      <td>6.1</td>\n",
       "      <td>7.8</td>\n",
       "      <td>9.1</td>\n",
       "    </tr>\n",
       "    <tr>\n",
       "      <td>2</td>\n",
       "      <td>21229</td>\n",
       "      <td>2014-01-03</td>\n",
       "      <td>6.5</td>\n",
       "      <td>1014.8</td>\n",
       "      <td>45.0</td>\n",
       "      <td>10.0</td>\n",
       "      <td>13.9</td>\n",
       "      <td>1.9</td>\n",
       "      <td>1.2</td>\n",
       "      <td>1.7</td>\n",
       "      <td>2.8</td>\n",
       "      <td>5.6</td>\n",
       "      <td>8.0</td>\n",
       "    </tr>\n",
       "    <tr>\n",
       "      <td>3</td>\n",
       "      <td>21229</td>\n",
       "      <td>2014-01-04</td>\n",
       "      <td>9.5</td>\n",
       "      <td>1017.9</td>\n",
       "      <td>68.0</td>\n",
       "      <td>3.1</td>\n",
       "      <td>13.5</td>\n",
       "      <td>3.7</td>\n",
       "      <td>2.3</td>\n",
       "      <td>3.0</td>\n",
       "      <td>5.7</td>\n",
       "      <td>7.2</td>\n",
       "      <td>9.1</td>\n",
       "    </tr>\n",
       "    <tr>\n",
       "      <td>4</td>\n",
       "      <td>21229</td>\n",
       "      <td>2014-01-05</td>\n",
       "      <td>7.4</td>\n",
       "      <td>1021.6</td>\n",
       "      <td>71.0</td>\n",
       "      <td>3.4</td>\n",
       "      <td>13.2</td>\n",
       "      <td>2.6</td>\n",
       "      <td>1.6</td>\n",
       "      <td>2.2</td>\n",
       "      <td>3.8</td>\n",
       "      <td>7.1</td>\n",
       "      <td>8.0</td>\n",
       "    </tr>\n",
       "  </tbody>\n",
       "</table>\n",
       "</div>"
      ],
      "text/plain": [
       "      지점          일시  평균 풍속(m/s)  평균기압(hPa)  평균 상대습도(pct)  평균 기온(°C)  \\\n",
       "0  21229  2014-01-01        10.9     1009.0          44.0        8.8   \n",
       "1  21229  2014-01-02         5.6     1017.8          61.0        6.4   \n",
       "2  21229  2014-01-03         6.5     1014.8          45.0       10.0   \n",
       "3  21229  2014-01-04         9.5     1017.9          68.0        3.1   \n",
       "4  21229  2014-01-05         7.4     1021.6          71.0        3.4   \n",
       "\n",
       "   평균 수온(°C)  평균 최대 파고(m)  평균 유의 파고(m)  최고 유의 파고(m)  최고 최대 파고(m)  평균 파주기(sec)  \\\n",
       "0       14.5          4.5          2.8          3.5          5.9          7.6   \n",
       "1       14.4          3.7          2.4          3.7          6.1          7.8   \n",
       "2       13.9          1.9          1.2          1.7          2.8          5.6   \n",
       "3       13.5          3.7          2.3          3.0          5.7          7.2   \n",
       "4       13.2          2.6          1.6          2.2          3.8          7.1   \n",
       "\n",
       "   최고 파주기(sec)  \n",
       "0          9.1  \n",
       "1          9.1  \n",
       "2          8.0  \n",
       "3          9.1  \n",
       "4          8.0  "
      ]
     },
     "execution_count": 30,
     "metadata": {},
     "output_type": "execute_result"
    }
   ],
   "source": [
    "origin_df.head()"
   ]
  },
  {
   "cell_type": "code",
   "execution_count": 31,
   "metadata": {},
   "outputs": [
    {
     "name": "stdout",
     "output_type": "stream",
     "text": [
      "<class 'pandas.core.frame.DataFrame'>\n",
      "RangeIndex: 34061 entries, 0 to 34060\n",
      "Data columns (total 13 columns):\n",
      "지점              34061 non-null int64\n",
      "일시              34061 non-null object\n",
      "평균 풍속(m/s)      33172 non-null float64\n",
      "평균기압(hPa)       33145 non-null float64\n",
      "평균 상대습도(pct)    33024 non-null float64\n",
      "평균 기온(°C)       33174 non-null float64\n",
      "평균 수온(°C)       33255 non-null float64\n",
      "평균 최대 파고(m)     33418 non-null float64\n",
      "평균 유의 파고(m)     33228 non-null float64\n",
      "최고 유의 파고(m)     33988 non-null float64\n",
      "최고 최대 파고(m)     33989 non-null float64\n",
      "평균 파주기(sec)     33156 non-null float64\n",
      "최고 파주기(sec)     33994 non-null float64\n",
      "dtypes: float64(11), int64(1), object(1)\n",
      "memory usage: 3.4+ MB\n"
     ]
    }
   ],
   "source": [
    "origin_df.info()"
   ]
  },
  {
   "cell_type": "code",
   "execution_count": 32,
   "metadata": {},
   "outputs": [
    {
     "data": {
      "text/plain": [
       "지점                 0\n",
       "일시                 0\n",
       "평균 풍속(m/s)       889\n",
       "평균기압(hPa)        916\n",
       "평균 상대습도(pct)    1037\n",
       "평균 기온(°C)        887\n",
       "평균 수온(°C)        806\n",
       "평균 최대 파고(m)      643\n",
       "평균 유의 파고(m)      833\n",
       "최고 유의 파고(m)       73\n",
       "최고 최대 파고(m)       72\n",
       "평균 파주기(sec)      905\n",
       "최고 파주기(sec)       67\n",
       "dtype: int64"
      ]
     },
     "execution_count": 32,
     "metadata": {},
     "output_type": "execute_result"
    }
   ],
   "source": [
    "origin_df.isnull().sum()"
   ]
  },
  {
   "cell_type": "markdown",
   "metadata": {},
   "source": [
    "** null % **"
   ]
  },
  {
   "cell_type": "code",
   "execution_count": 33,
   "metadata": {},
   "outputs": [
    {
     "data": {
      "text/plain": [
       "지점              0.000000\n",
       "일시              0.000000\n",
       "평균 풍속(m/s)      2.610023\n",
       "평균기압(hPa)       2.689293\n",
       "평균 상대습도(pct)    3.044538\n",
       "평균 기온(°C)       2.604151\n",
       "평균 수온(°C)       2.366343\n",
       "평균 최대 파고(m)     1.887790\n",
       "평균 유의 파고(m)     2.445612\n",
       "최고 유의 파고(m)     0.214321\n",
       "최고 최대 파고(m)     0.211385\n",
       "평균 파주기(sec)     2.656998\n",
       "최고 파주기(sec)     0.196706\n",
       "dtype: float64"
      ]
     },
     "execution_count": 33,
     "metadata": {},
     "output_type": "execute_result"
    }
   ],
   "source": [
    "origin_df.isnull().sum()/34061 * 100"
   ]
  },
  {
   "cell_type": "markdown",
   "metadata": {},
   "source": [
    "#### 평균 풍속,기압, 습도,기온,수온 -> mean \n",
    "#### 파고에 관한것 -> 0"
   ]
  },
  {
   "cell_type": "code",
   "execution_count": 34,
   "metadata": {},
   "outputs": [],
   "source": [
    "origin_df['평균 풍속(m/s)']= origin_df['평균 풍속(m/s)'].fillna(origin_df['평균 풍속(m/s)'].mean())"
   ]
  },
  {
   "cell_type": "code",
   "execution_count": 35,
   "metadata": {},
   "outputs": [
    {
     "data": {
      "text/plain": [
       "지점                 0\n",
       "일시                 0\n",
       "평균 풍속(m/s)         0\n",
       "평균기압(hPa)        916\n",
       "평균 상대습도(pct)    1037\n",
       "평균 기온(°C)        887\n",
       "평균 수온(°C)        806\n",
       "평균 최대 파고(m)      643\n",
       "평균 유의 파고(m)      833\n",
       "최고 유의 파고(m)       73\n",
       "최고 최대 파고(m)       72\n",
       "평균 파주기(sec)      905\n",
       "최고 파주기(sec)       67\n",
       "dtype: int64"
      ]
     },
     "execution_count": 35,
     "metadata": {},
     "output_type": "execute_result"
    }
   ],
   "source": [
    "origin_df.isnull().sum()"
   ]
  },
  {
   "cell_type": "code",
   "execution_count": 36,
   "metadata": {},
   "outputs": [],
   "source": [
    "origin_df[['평균기압(hPa)','평균 상대습도(pct)','평균 기온(°C)','평균 수온(°C)']]= origin_df[['평균기압(hPa)','평균 상대습도(pct)','평균 기온(°C)','평균 수온(°C)']].fillna(origin_df.mean())"
   ]
  },
  {
   "cell_type": "code",
   "execution_count": 37,
   "metadata": {},
   "outputs": [
    {
     "data": {
      "text/plain": [
       "지점                0\n",
       "일시                0\n",
       "평균 풍속(m/s)        0\n",
       "평균기압(hPa)         0\n",
       "평균 상대습도(pct)      0\n",
       "평균 기온(°C)         0\n",
       "평균 수온(°C)         0\n",
       "평균 최대 파고(m)     643\n",
       "평균 유의 파고(m)     833\n",
       "최고 유의 파고(m)      73\n",
       "최고 최대 파고(m)      72\n",
       "평균 파주기(sec)     905\n",
       "최고 파주기(sec)      67\n",
       "dtype: int64"
      ]
     },
     "execution_count": 37,
     "metadata": {},
     "output_type": "execute_result"
    }
   ],
   "source": [
    "origin_df.isnull().sum()"
   ]
  },
  {
   "cell_type": "code",
   "execution_count": 38,
   "metadata": {},
   "outputs": [],
   "source": [
    "origin_df.fillna(value=0,inplace=True)"
   ]
  },
  {
   "cell_type": "code",
   "execution_count": 39,
   "metadata": {},
   "outputs": [
    {
     "data": {
      "text/plain": [
       "지점              0\n",
       "일시              0\n",
       "평균 풍속(m/s)      0\n",
       "평균기압(hPa)       0\n",
       "평균 상대습도(pct)    0\n",
       "평균 기온(°C)       0\n",
       "평균 수온(°C)       0\n",
       "평균 최대 파고(m)     0\n",
       "평균 유의 파고(m)     0\n",
       "최고 유의 파고(m)     0\n",
       "최고 최대 파고(m)     0\n",
       "평균 파주기(sec)     0\n",
       "최고 파주기(sec)     0\n",
       "dtype: int64"
      ]
     },
     "execution_count": 39,
     "metadata": {},
     "output_type": "execute_result"
    }
   ],
   "source": [
    "origin_df.isnull().sum()"
   ]
  },
  {
   "cell_type": "markdown",
   "metadata": {},
   "source": [
    " ** 왜곡도 추출 **"
   ]
  },
  {
   "cell_type": "code",
   "execution_count": 40,
   "metadata": {},
   "outputs": [
    {
     "data": {
      "text/html": [
       "<div>\n",
       "<style scoped>\n",
       "    .dataframe tbody tr th:only-of-type {\n",
       "        vertical-align: middle;\n",
       "    }\n",
       "\n",
       "    .dataframe tbody tr th {\n",
       "        vertical-align: top;\n",
       "    }\n",
       "\n",
       "    .dataframe thead th {\n",
       "        text-align: right;\n",
       "    }\n",
       "</style>\n",
       "<table border=\"1\" class=\"dataframe\">\n",
       "  <thead>\n",
       "    <tr style=\"text-align: right;\">\n",
       "      <th></th>\n",
       "      <th>지점</th>\n",
       "      <th>평균 풍속(m/s)</th>\n",
       "      <th>평균기압(hPa)</th>\n",
       "      <th>평균 상대습도(pct)</th>\n",
       "      <th>평균 기온(°C)</th>\n",
       "      <th>평균 수온(°C)</th>\n",
       "      <th>평균 최대 파고(m)</th>\n",
       "      <th>평균 유의 파고(m)</th>\n",
       "      <th>최고 유의 파고(m)</th>\n",
       "      <th>최고 최대 파고(m)</th>\n",
       "      <th>평균 파주기(sec)</th>\n",
       "      <th>최고 파주기(sec)</th>\n",
       "    </tr>\n",
       "  </thead>\n",
       "  <tbody>\n",
       "    <tr>\n",
       "      <td>count</td>\n",
       "      <td>34061.000000</td>\n",
       "      <td>34061.000000</td>\n",
       "      <td>34061.000000</td>\n",
       "      <td>34061.000000</td>\n",
       "      <td>34061.000000</td>\n",
       "      <td>34061.000000</td>\n",
       "      <td>34061.000000</td>\n",
       "      <td>34061.000000</td>\n",
       "      <td>34061.000000</td>\n",
       "      <td>34061.000000</td>\n",
       "      <td>34061.000000</td>\n",
       "      <td>34061.000000</td>\n",
       "    </tr>\n",
       "    <tr>\n",
       "      <td>mean</td>\n",
       "      <td>22079.921141</td>\n",
       "      <td>5.625133</td>\n",
       "      <td>1016.389127</td>\n",
       "      <td>74.240764</td>\n",
       "      <td>14.792533</td>\n",
       "      <td>16.979955</td>\n",
       "      <td>1.628100</td>\n",
       "      <td>0.990094</td>\n",
       "      <td>1.454584</td>\n",
       "      <td>2.471260</td>\n",
       "      <td>5.395191</td>\n",
       "      <td>7.552262</td>\n",
       "    </tr>\n",
       "    <tr>\n",
       "      <td>std</td>\n",
       "      <td>230.179519</td>\n",
       "      <td>2.668455</td>\n",
       "      <td>7.735999</td>\n",
       "      <td>14.382948</td>\n",
       "      <td>7.584384</td>\n",
       "      <td>5.983861</td>\n",
       "      <td>1.157588</td>\n",
       "      <td>0.730417</td>\n",
       "      <td>1.028132</td>\n",
       "      <td>1.681774</td>\n",
       "      <td>1.849509</td>\n",
       "      <td>2.724616</td>\n",
       "    </tr>\n",
       "    <tr>\n",
       "      <td>min</td>\n",
       "      <td>21229.000000</td>\n",
       "      <td>0.000000</td>\n",
       "      <td>982.300000</td>\n",
       "      <td>0.000000</td>\n",
       "      <td>-11.000000</td>\n",
       "      <td>1.100000</td>\n",
       "      <td>0.000000</td>\n",
       "      <td>0.000000</td>\n",
       "      <td>0.000000</td>\n",
       "      <td>0.000000</td>\n",
       "      <td>0.000000</td>\n",
       "      <td>0.000000</td>\n",
       "    </tr>\n",
       "    <tr>\n",
       "      <td>25%</td>\n",
       "      <td>22103.000000</td>\n",
       "      <td>3.600000</td>\n",
       "      <td>1010.400000</td>\n",
       "      <td>63.000000</td>\n",
       "      <td>8.500000</td>\n",
       "      <td>13.100000</td>\n",
       "      <td>0.800000</td>\n",
       "      <td>0.500000</td>\n",
       "      <td>0.700000</td>\n",
       "      <td>1.200000</td>\n",
       "      <td>4.300000</td>\n",
       "      <td>6.100000</td>\n",
       "    </tr>\n",
       "    <tr>\n",
       "      <td>50%</td>\n",
       "      <td>22107.000000</td>\n",
       "      <td>5.400000</td>\n",
       "      <td>1016.389127</td>\n",
       "      <td>75.000000</td>\n",
       "      <td>14.800000</td>\n",
       "      <td>16.979955</td>\n",
       "      <td>1.400000</td>\n",
       "      <td>0.800000</td>\n",
       "      <td>1.200000</td>\n",
       "      <td>2.100000</td>\n",
       "      <td>5.300000</td>\n",
       "      <td>7.100000</td>\n",
       "    </tr>\n",
       "    <tr>\n",
       "      <td>75%</td>\n",
       "      <td>22185.000000</td>\n",
       "      <td>7.300000</td>\n",
       "      <td>1022.300000</td>\n",
       "      <td>87.000000</td>\n",
       "      <td>21.000000</td>\n",
       "      <td>21.600000</td>\n",
       "      <td>2.200000</td>\n",
       "      <td>1.300000</td>\n",
       "      <td>1.900000</td>\n",
       "      <td>3.300000</td>\n",
       "      <td>6.400000</td>\n",
       "      <td>8.500000</td>\n",
       "    </tr>\n",
       "    <tr>\n",
       "      <td>max</td>\n",
       "      <td>22194.000000</td>\n",
       "      <td>19.600000</td>\n",
       "      <td>1038.500000</td>\n",
       "      <td>100.000000</td>\n",
       "      <td>34.600000</td>\n",
       "      <td>31.500000</td>\n",
       "      <td>12.700000</td>\n",
       "      <td>7.600000</td>\n",
       "      <td>12.000000</td>\n",
       "      <td>17.600000</td>\n",
       "      <td>24.400000</td>\n",
       "      <td>64.000000</td>\n",
       "    </tr>\n",
       "  </tbody>\n",
       "</table>\n",
       "</div>"
      ],
      "text/plain": [
       "                 지점    평균 풍속(m/s)     평균기압(hPa)  평균 상대습도(pct)     평균 기온(°C)  \\\n",
       "count  34061.000000  34061.000000  34061.000000  34061.000000  34061.000000   \n",
       "mean   22079.921141      5.625133   1016.389127     74.240764     14.792533   \n",
       "std      230.179519      2.668455      7.735999     14.382948      7.584384   \n",
       "min    21229.000000      0.000000    982.300000      0.000000    -11.000000   \n",
       "25%    22103.000000      3.600000   1010.400000     63.000000      8.500000   \n",
       "50%    22107.000000      5.400000   1016.389127     75.000000     14.800000   \n",
       "75%    22185.000000      7.300000   1022.300000     87.000000     21.000000   \n",
       "max    22194.000000     19.600000   1038.500000    100.000000     34.600000   \n",
       "\n",
       "          평균 수온(°C)   평균 최대 파고(m)   평균 유의 파고(m)   최고 유의 파고(m)   최고 최대 파고(m)  \\\n",
       "count  34061.000000  34061.000000  34061.000000  34061.000000  34061.000000   \n",
       "mean      16.979955      1.628100      0.990094      1.454584      2.471260   \n",
       "std        5.983861      1.157588      0.730417      1.028132      1.681774   \n",
       "min        1.100000      0.000000      0.000000      0.000000      0.000000   \n",
       "25%       13.100000      0.800000      0.500000      0.700000      1.200000   \n",
       "50%       16.979955      1.400000      0.800000      1.200000      2.100000   \n",
       "75%       21.600000      2.200000      1.300000      1.900000      3.300000   \n",
       "max       31.500000     12.700000      7.600000     12.000000     17.600000   \n",
       "\n",
       "        평균 파주기(sec)   최고 파주기(sec)  \n",
       "count  34061.000000  34061.000000  \n",
       "mean       5.395191      7.552262  \n",
       "std        1.849509      2.724616  \n",
       "min        0.000000      0.000000  \n",
       "25%        4.300000      6.100000  \n",
       "50%        5.300000      7.100000  \n",
       "75%        6.400000      8.500000  \n",
       "max       24.400000     64.000000  "
      ]
     },
     "execution_count": 40,
     "metadata": {},
     "output_type": "execute_result"
    }
   ],
   "source": [
    "origin_df.describe()"
   ]
  },
  {
   "cell_type": "code",
   "execution_count": 41,
   "metadata": {},
   "outputs": [
    {
     "name": "stdout",
     "output_type": "stream",
     "text": [
      "최고 파주기(sec)     7.561658\n",
      "최고 유의 파고(m)     1.685943\n",
      "최고 최대 파고(m)     1.619359\n",
      "평균 최대 파고(m)     1.510078\n",
      "평균 유의 파고(m)     1.486558\n",
      "평균 풍속(m/s)      0.648314\n",
      "평균 파주기(sec)     0.109200\n",
      "평균기압(hPa)      -0.067499\n",
      "평균 기온(°C)      -0.102349\n",
      "평균 수온(°C)      -0.139100\n",
      "평균 상대습도(pct)   -0.320732\n",
      "지점             -3.309556\n",
      "dtype: float64\n"
     ]
    }
   ],
   "source": [
    "from scipy.stats import skew\n",
    "\n",
    "features_index = origin_df.dtypes[origin_df.dtypes != 'object'].index\n",
    "\n",
    "skew_features = origin_df[features_index].apply(lambda x : skew(x))\n",
    "\n",
    "skew_features_top = skew_features[skew_features > 1]\n",
    "print(skew_features.sort_values(ascending=False))"
   ]
  },
  {
   "cell_type": "markdown",
   "metadata": {},
   "source": [
    " ** 1이상 log 변환**"
   ]
  },
  {
   "cell_type": "code",
   "execution_count": 42,
   "metadata": {},
   "outputs": [],
   "source": [
    "origin_df[skew_features_top.index] = np.log1p(origin_df[skew_features_top.index])"
   ]
  },
  {
   "cell_type": "code",
   "execution_count": 43,
   "metadata": {},
   "outputs": [
    {
     "name": "stdout",
     "output_type": "stream",
     "text": [
      "평균 풍속(m/s)      0.648314\n",
      "최고 유의 파고(m)     0.411072\n",
      "평균 유의 파고(m)     0.394427\n",
      "최고 최대 파고(m)     0.328965\n",
      "평균 최대 파고(m)     0.259490\n",
      "평균 파주기(sec)     0.109200\n",
      "평균기압(hPa)      -0.067499\n",
      "평균 기온(°C)      -0.102349\n",
      "평균 수온(°C)      -0.139100\n",
      "최고 파주기(sec)    -0.263186\n",
      "평균 상대습도(pct)   -0.320732\n",
      "지점             -3.309556\n",
      "dtype: float64\n"
     ]
    }
   ],
   "source": [
    "skew_features_logs = origin_df[features_index].apply(lambda x : skew(x))\n",
    "\n",
    "print(skew_features_logs.sort_values(ascending=False))"
   ]
  }
 ],
 "metadata": {
  "kernelspec": {
   "display_name": "Python 3",
   "language": "python",
   "name": "python3"
  },
  "language_info": {
   "codemirror_mode": {
    "name": "ipython",
    "version": 3
   },
   "file_extension": ".py",
   "mimetype": "text/x-python",
   "name": "python",
   "nbconvert_exporter": "python",
   "pygments_lexer": "ipython3",
   "version": "3.7.4"
  }
 },
 "nbformat": 4,
 "nbformat_minor": 2
}
