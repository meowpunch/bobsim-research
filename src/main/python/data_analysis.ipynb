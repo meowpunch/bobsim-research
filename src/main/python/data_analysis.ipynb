{
 "cells": [
  {
   "cell_type": "markdown",
   "metadata": {},
   "source": [
    "# Data Anaysis"
   ]
  },
  {
   "cell_type": "markdown",
   "metadata": {},
   "source": [
    "## load data"
   ]
  },
  {
   "cell_type": "code",
   "execution_count": 3,
   "metadata": {},
   "outputs": [
    {
     "name": "stderr",
     "output_type": "stream",
     "text": [
      "2020-04-04 14:50:27:manager:<INFO> 1 files is loaded from public_data/open_data_terrestrial_weather/origin/csv/2014-2020.csv in s3 'production-bobsim'\n",
      "2020-04-04 14:50:28:manager:<INFO> 1 files is loaded from public_data/open_data_marine_weather/origin/csv/2014-2020.csv in s3 'production-bobsim'\n",
      "2020-04-04 14:50:31:manager:<INFO> 1 files is loaded from public_data/open_data_raw_material_price/origin/csv/201908.csv in s3 'production-bobsim'\n"
     ]
    }
   ],
   "source": [
    "from util.build_dataset import build_master\n",
    "\n",
    "origin_df = build_master(dataset=\"origin_fmp\", date=\"201908\")"
   ]
  },
  {
   "cell_type": "code",
   "execution_count": 4,
   "metadata": {},
   "outputs": [
    {
     "data": {
      "text/html": [
       "<div>\n",
       "<style scoped>\n",
       "    .dataframe tbody tr th:only-of-type {\n",
       "        vertical-align: middle;\n",
       "    }\n",
       "\n",
       "    .dataframe tbody tr th {\n",
       "        vertical-align: top;\n",
       "    }\n",
       "\n",
       "    .dataframe thead th {\n",
       "        text-align: right;\n",
       "    }\n",
       "</style>\n",
       "<table border=\"1\" class=\"dataframe\">\n",
       "  <thead>\n",
       "    <tr style=\"text-align: right;\">\n",
       "      <th></th>\n",
       "      <th>조사일자</th>\n",
       "      <th>조사지역명</th>\n",
       "      <th>품목명</th>\n",
       "      <th>당일조사가격</th>\n",
       "      <th>평균기온(°C)</th>\n",
       "      <th>최저기온(°C)</th>\n",
       "      <th>최고기온(°C)</th>\n",
       "      <th>강수 계속시간(hr)</th>\n",
       "      <th>일강수량(mm)</th>\n",
       "      <th>최대 풍속(m/s)</th>\n",
       "      <th>...</th>\n",
       "      <th>평균기압(hPa)</th>\n",
       "      <th>평균 상대습도(pct)_y</th>\n",
       "      <th>평균 기온(°C)</th>\n",
       "      <th>평균 수온(°C)</th>\n",
       "      <th>평균 최대 파고(m)</th>\n",
       "      <th>평균 유의 파고(m)</th>\n",
       "      <th>최고 유의 파고(m)</th>\n",
       "      <th>최고 최대 파고(m)</th>\n",
       "      <th>평균 파주기(sec)</th>\n",
       "      <th>최고 파주기(sec)</th>\n",
       "    </tr>\n",
       "  </thead>\n",
       "  <tbody>\n",
       "    <tr>\n",
       "      <th>0</th>\n",
       "      <td>2019-08-01</td>\n",
       "      <td>강원</td>\n",
       "      <td>감자감자수미수미</td>\n",
       "      <td>238.0</td>\n",
       "      <td>28.048422</td>\n",
       "      <td>24.331579</td>\n",
       "      <td>32.701054</td>\n",
       "      <td>4.1</td>\n",
       "      <td>11.83077</td>\n",
       "      <td>3.921053</td>\n",
       "      <td>...</td>\n",
       "      <td>1011.594116</td>\n",
       "      <td>91.0625</td>\n",
       "      <td>25.694117</td>\n",
       "      <td>24.729412</td>\n",
       "      <td>0.882353</td>\n",
       "      <td>0.529412</td>\n",
       "      <td>0.735294</td>\n",
       "      <td>1.252941</td>\n",
       "      <td>4.458824</td>\n",
       "      <td>5.547059</td>\n",
       "    </tr>\n",
       "    <tr>\n",
       "      <th>1</th>\n",
       "      <td>2019-08-01</td>\n",
       "      <td>강원</td>\n",
       "      <td>건제품건포도건포도(수입)수입</td>\n",
       "      <td>1450.0</td>\n",
       "      <td>28.048422</td>\n",
       "      <td>24.331579</td>\n",
       "      <td>32.701054</td>\n",
       "      <td>4.1</td>\n",
       "      <td>11.83077</td>\n",
       "      <td>3.921053</td>\n",
       "      <td>...</td>\n",
       "      <td>1011.594116</td>\n",
       "      <td>91.0625</td>\n",
       "      <td>25.694117</td>\n",
       "      <td>24.729412</td>\n",
       "      <td>0.882353</td>\n",
       "      <td>0.529412</td>\n",
       "      <td>0.735294</td>\n",
       "      <td>1.252941</td>\n",
       "      <td>4.458824</td>\n",
       "      <td>5.547059</td>\n",
       "    </tr>\n",
       "    <tr>\n",
       "      <th>2</th>\n",
       "      <td>2019-08-01</td>\n",
       "      <td>강원</td>\n",
       "      <td>고추붉은고추홍고추일반</td>\n",
       "      <td>990.0</td>\n",
       "      <td>28.048422</td>\n",
       "      <td>24.331579</td>\n",
       "      <td>32.701054</td>\n",
       "      <td>4.1</td>\n",
       "      <td>11.83077</td>\n",
       "      <td>3.921053</td>\n",
       "      <td>...</td>\n",
       "      <td>1011.594116</td>\n",
       "      <td>91.0625</td>\n",
       "      <td>25.694117</td>\n",
       "      <td>24.729412</td>\n",
       "      <td>0.882353</td>\n",
       "      <td>0.529412</td>\n",
       "      <td>0.735294</td>\n",
       "      <td>1.252941</td>\n",
       "      <td>4.458824</td>\n",
       "      <td>5.547059</td>\n",
       "    </tr>\n",
       "    <tr>\n",
       "      <th>3</th>\n",
       "      <td>2019-08-01</td>\n",
       "      <td>강원</td>\n",
       "      <td>고추풋고추꽈리고추꽈리고추</td>\n",
       "      <td>1050.0</td>\n",
       "      <td>28.048422</td>\n",
       "      <td>24.331579</td>\n",
       "      <td>32.701054</td>\n",
       "      <td>4.1</td>\n",
       "      <td>11.83077</td>\n",
       "      <td>3.921053</td>\n",
       "      <td>...</td>\n",
       "      <td>1011.594116</td>\n",
       "      <td>91.0625</td>\n",
       "      <td>25.694117</td>\n",
       "      <td>24.729412</td>\n",
       "      <td>0.882353</td>\n",
       "      <td>0.529412</td>\n",
       "      <td>0.735294</td>\n",
       "      <td>1.252941</td>\n",
       "      <td>4.458824</td>\n",
       "      <td>5.547059</td>\n",
       "    </tr>\n",
       "    <tr>\n",
       "      <th>4</th>\n",
       "      <td>2019-08-01</td>\n",
       "      <td>강원</td>\n",
       "      <td>고추풋고추청양청양고추</td>\n",
       "      <td>670.0</td>\n",
       "      <td>28.048422</td>\n",
       "      <td>24.331579</td>\n",
       "      <td>32.701054</td>\n",
       "      <td>4.1</td>\n",
       "      <td>11.83077</td>\n",
       "      <td>3.921053</td>\n",
       "      <td>...</td>\n",
       "      <td>1011.594116</td>\n",
       "      <td>91.0625</td>\n",
       "      <td>25.694117</td>\n",
       "      <td>24.729412</td>\n",
       "      <td>0.882353</td>\n",
       "      <td>0.529412</td>\n",
       "      <td>0.735294</td>\n",
       "      <td>1.252941</td>\n",
       "      <td>4.458824</td>\n",
       "      <td>5.547059</td>\n",
       "    </tr>\n",
       "  </tbody>\n",
       "</table>\n",
       "<p>5 rows × 24 columns</p>\n",
       "</div>"
      ],
      "text/plain": [
       "        조사일자 조사지역명              품목명  당일조사가격   평균기온(°C)   최저기온(°C)   최고기온(°C)  \\\n",
       "0 2019-08-01    강원         감자감자수미수미   238.0  28.048422  24.331579  32.701054   \n",
       "1 2019-08-01    강원  건제품건포도건포도(수입)수입  1450.0  28.048422  24.331579  32.701054   \n",
       "2 2019-08-01    강원      고추붉은고추홍고추일반   990.0  28.048422  24.331579  32.701054   \n",
       "3 2019-08-01    강원    고추풋고추꽈리고추꽈리고추  1050.0  28.048422  24.331579  32.701054   \n",
       "4 2019-08-01    강원      고추풋고추청양청양고추   670.0  28.048422  24.331579  32.701054   \n",
       "\n",
       "   강수 계속시간(hr)  일강수량(mm)  최대 풍속(m/s)  ...    평균기압(hPa)  평균 상대습도(pct)_y  \\\n",
       "0          4.1  11.83077    3.921053  ...  1011.594116         91.0625   \n",
       "1          4.1  11.83077    3.921053  ...  1011.594116         91.0625   \n",
       "2          4.1  11.83077    3.921053  ...  1011.594116         91.0625   \n",
       "3          4.1  11.83077    3.921053  ...  1011.594116         91.0625   \n",
       "4          4.1  11.83077    3.921053  ...  1011.594116         91.0625   \n",
       "\n",
       "   평균 기온(°C)  평균 수온(°C)  평균 최대 파고(m)  평균 유의 파고(m)  최고 유의 파고(m)  최고 최대 파고(m)  \\\n",
       "0  25.694117  24.729412     0.882353     0.529412     0.735294     1.252941   \n",
       "1  25.694117  24.729412     0.882353     0.529412     0.735294     1.252941   \n",
       "2  25.694117  24.729412     0.882353     0.529412     0.735294     1.252941   \n",
       "3  25.694117  24.729412     0.882353     0.529412     0.735294     1.252941   \n",
       "4  25.694117  24.729412     0.882353     0.529412     0.735294     1.252941   \n",
       "\n",
       "   평균 파주기(sec)  최고 파주기(sec)  \n",
       "0     4.458824     5.547059  \n",
       "1     4.458824     5.547059  \n",
       "2     4.458824     5.547059  \n",
       "3     4.458824     5.547059  \n",
       "4     4.458824     5.547059  \n",
       "\n",
       "[5 rows x 24 columns]"
      ]
     },
     "execution_count": 4,
     "metadata": {},
     "output_type": "execute_result"
    }
   ],
   "source": [
    "origin_df.head(5)"
   ]
  },
  {
   "cell_type": "markdown",
   "metadata": {},
   "source": [
    "## weather data"
   ]
  },
  {
   "cell_type": "markdown",
   "metadata": {},
   "source": [
    "### terrestrial weather"
   ]
  },
  {
   "cell_type": "code",
   "execution_count": 2,
   "metadata": {},
   "outputs": [
    {
     "name": "stdout",
     "output_type": "stream",
     "text": [
      "<class 'pandas.core.frame.DataFrame'>\n",
      "RangeIndex: 214325 entries, 0 to 214324\n",
      "Data columns (total 11 columns):\n",
      " #   Column        Non-Null Count   Dtype         \n",
      "---  ------        --------------   -----         \n",
      " 0   일시            214325 non-null  datetime64[ns]\n",
      " 1   평균기온(°C)      214086 non-null  float32       \n",
      " 2   최저기온(°C)      214300 non-null  float32       \n",
      " 3   최고기온(°C)      214305 non-null  float16       \n",
      " 4   강수 계속시간(hr)   22288 non-null   float16       \n",
      " 5   일강수량(mm)      77862 non-null   float16       \n",
      " 6   최대 풍속(m/s)    214217 non-null  float16       \n",
      " 7   평균 풍속(m/s)    214143 non-null  float16       \n",
      " 8   최소 상대습도(pct)  214246 non-null  float16       \n",
      " 9   평균 상대습도(pct)  213919 non-null  float32       \n",
      " 10  합계 일조시간(hr)   213966 non-null  float16       \n",
      "dtypes: datetime64[ns](1), float16(7), float32(3)\n",
      "memory usage: 6.9 MB\n"
     ]
    }
   ],
   "source": [
    "t_df.info()"
   ]
  },
  {
   "cell_type": "code",
   "execution_count": 3,
   "metadata": {},
   "outputs": [
    {
     "data": {
      "text/plain": [
       "일시               0.000000\n",
       "평균기온(°C)         0.111513\n",
       "최저기온(°C)         0.011665\n",
       "최고기온(°C)         0.009332\n",
       "강수 계속시간(hr)     89.600840\n",
       "일강수량(mm)        63.671060\n",
       "최대 풍속(m/s)       0.050391\n",
       "평균 풍속(m/s)       0.084918\n",
       "최소 상대습도(pct)     0.036860\n",
       "평균 상대습도(pct)     0.189432\n",
       "합계 일조시간(hr)      0.167503\n",
       "dtype: float64"
      ]
     },
     "execution_count": 3,
     "metadata": {},
     "output_type": "execute_result"
    }
   ],
   "source": [
    "t_df.isnull().sum()/214325*100"
   ]
  },
  {
   "cell_type": "code",
   "execution_count": 28,
   "metadata": {},
   "outputs": [],
   "source": [
    "t_dropped_df = t_df.drop('합계 일조시간(hr)', axis= 1)"
   ]
  },
  {
   "cell_type": "code",
   "execution_count": 39,
   "metadata": {},
   "outputs": [],
   "source": [
    "import pandas as pd\n",
    "\n",
    "def fillna_with_mean(df: pd.DataFrame):\n",
    "    return df.interpolate(method='linear', limit_direction='both')\n",
    "\n",
    "def fill_nan(x):\n",
    "    columns_with_zero = ['강수 계속시간(hr)' , '일강수량(mm)']\n",
    "    columns_with_mean = [\n",
    "    '평균기온(°C)', '최저기온(°C)', '최고기온(°C)', \n",
    "    '최대 풍속(m/s)', '평균 풍속(m/s)', '최소 상대습도(pct)', '평균 상대습도(pct)'\n",
    "    ]\n",
    "    if x.name in columns_with_mean :\n",
    "        return x.interpolate(method='linear', limit_direction='both')\n",
    "    elif x.name in columns_with_zero:\n",
    "        return x.fillna(0)\n",
    "    else:\n",
    "        return x"
   ]
  },
  {
   "cell_type": "code",
   "execution_count": 40,
   "metadata": {},
   "outputs": [
    {
     "name": "stdout",
     "output_type": "stream",
     "text": [
      "<class 'pandas.core.frame.DataFrame'>\n",
      "RangeIndex: 214325 entries, 0 to 214324\n",
      "Data columns (total 10 columns):\n",
      " #   Column        Non-Null Count   Dtype         \n",
      "---  ------        --------------   -----         \n",
      " 0   일시            214325 non-null  datetime64[ns]\n",
      " 1   평균기온(°C)      214325 non-null  float32       \n",
      " 2   최저기온(°C)      214325 non-null  float32       \n",
      " 3   최고기온(°C)      214325 non-null  float16       \n",
      " 4   강수 계속시간(hr)   214325 non-null  float16       \n",
      " 5   일강수량(mm)      214325 non-null  float16       \n",
      " 6   최대 풍속(m/s)    214325 non-null  float16       \n",
      " 7   평균 풍속(m/s)    214325 non-null  float16       \n",
      " 8   최소 상대습도(pct)  214325 non-null  float16       \n",
      " 9   평균 상대습도(pct)  214325 non-null  float32       \n",
      "dtypes: datetime64[ns](1), float16(6), float32(3)\n",
      "memory usage: 6.5 MB\n"
     ]
    }
   ],
   "source": [
    "t_not_null_df = t_dropped_df.apply(fill_nan, axis=0)\n",
    "t_not_null_df.info()"
   ]
  },
  {
   "cell_type": "code",
   "execution_count": null,
   "metadata": {},
   "outputs": [],
   "source": []
  }
 ],
 "metadata": {
  "kernelspec": {
   "display_name": "BOBSIM",
   "language": "python",
   "name": "bobsim"
  },
  "language_info": {
   "codemirror_mode": {
    "name": "ipython",
    "version": 3
   },
   "file_extension": ".py",
   "mimetype": "text/x-python",
   "name": "python",
   "nbconvert_exporter": "python",
   "pygments_lexer": "ipython3",
   "version": "3.7.6"
  }
 },
 "nbformat": 4,
 "nbformat_minor": 4
}
