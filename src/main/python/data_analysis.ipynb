{
 "cells": [
  {
   "cell_type": "markdown",
   "metadata": {},
   "source": [
    "# Data Anaysis"
   ]
  },
  {
   "cell_type": "markdown",
   "metadata": {},
   "source": [
    "## load data"
   ]
  },
  {
   "cell_type": "code",
   "execution_count": 1,
   "metadata": {},
   "outputs": [
    {
     "name": "stderr",
     "output_type": "stream",
     "text": [
      "2020-03-31 19:30:15:manager:<INFO> 1 files is loaded from public_data/open_data_terrestrial_weather/origin/csv/2014-2020.csv in s3 'production-bobsim'\n",
      "2020-03-31 19:30:16:manager:<INFO> 1 files is loaded from public_data/open_data_marine_weather/origin/csv/2014-2020.csv in s3 'production-bobsim'\n",
      "2020-03-31 19:30:19:manager:<INFO> 1 files is loaded from public_data/open_data_raw_material_price/origin/csv/201908.csv in s3 'production-bobsim'\n",
      "2020-03-31 19:30:22:manager:<INFO> 1 files is loaded from public_data/open_data_terrestrial_weather/origin/csv/2014-2020.csv in s3 'production-bobsim'\n",
      "2020-03-31 19:30:23:manager:<INFO> 1 files is loaded from public_data/open_data_marine_weather/origin/csv/2014-2020.csv in s3 'production-bobsim'\n",
      "2020-03-31 19:30:26:manager:<INFO> 1 files is loaded from public_data/open_data_raw_material_price/origin/csv/201908.csv in s3 'production-bobsim'\n"
     ]
    }
   ],
   "source": [
    "from data_pipeline.open_data_marine_weather.core import OpenDataMarineWeather\n",
    "from data_pipeline.open_data_raw_material_price.core import OpenDataRawMaterialPrice\n",
    "from data_pipeline.open_data_terrestrial_weather.core import OpenDataTerrestrialWeather\n",
    "\n",
    "open_data_terrestrial_weather = OpenDataTerrestrialWeather(\n",
    "    date=\"201908\"\n",
    ")\n",
    "open_data_marine_weather = OpenDataMarineWeather(\n",
    "    date=\"201908\"\n",
    ")\n",
    "open_data_raw_material_price = OpenDataRawMaterialPrice(\n",
    "    date=\"201908\"\n",
    ")\n",
    "\n",
    "t_df = open_data_terrestrial_weather.load()\n",
    "w_df = open_data_marine_weather.load()    \n",
    "o_df= open_data_raw_material_price.load()"
   ]
  },
  {
   "cell_type": "markdown",
   "metadata": {},
   "source": [
    "## weather data"
   ]
  },
  {
   "cell_type": "markdown",
   "metadata": {},
   "source": [
    "### terrestrial weather"
   ]
  },
  {
   "cell_type": "code",
   "execution_count": 2,
   "metadata": {},
   "outputs": [
    {
     "name": "stdout",
     "output_type": "stream",
     "text": [
      "<class 'pandas.core.frame.DataFrame'>\n",
      "RangeIndex: 214325 entries, 0 to 214324\n",
      "Data columns (total 11 columns):\n",
      " #   Column        Non-Null Count   Dtype         \n",
      "---  ------        --------------   -----         \n",
      " 0   일시            214325 non-null  datetime64[ns]\n",
      " 1   평균기온(°C)      214086 non-null  float32       \n",
      " 2   최저기온(°C)      214300 non-null  float32       \n",
      " 3   최고기온(°C)      214305 non-null  float16       \n",
      " 4   강수 계속시간(hr)   22288 non-null   float16       \n",
      " 5   일강수량(mm)      77862 non-null   float16       \n",
      " 6   최대 풍속(m/s)    214217 non-null  float16       \n",
      " 7   평균 풍속(m/s)    214143 non-null  float16       \n",
      " 8   최소 상대습도(pct)  214246 non-null  float16       \n",
      " 9   평균 상대습도(pct)  213919 non-null  float32       \n",
      " 10  합계 일조시간(hr)   213966 non-null  float16       \n",
      "dtypes: datetime64[ns](1), float16(7), float32(3)\n",
      "memory usage: 6.9 MB\n"
     ]
    }
   ],
   "source": [
    "t_df.info()"
   ]
  },
  {
   "cell_type": "code",
   "execution_count": 3,
   "metadata": {},
   "outputs": [
    {
     "data": {
      "text/plain": [
       "일시               0.000000\n",
       "평균기온(°C)         0.111513\n",
       "최저기온(°C)         0.011665\n",
       "최고기온(°C)         0.009332\n",
       "강수 계속시간(hr)     89.600840\n",
       "일강수량(mm)        63.671060\n",
       "최대 풍속(m/s)       0.050391\n",
       "평균 풍속(m/s)       0.084918\n",
       "최소 상대습도(pct)     0.036860\n",
       "평균 상대습도(pct)     0.189432\n",
       "합계 일조시간(hr)      0.167503\n",
       "dtype: float64"
      ]
     },
     "execution_count": 3,
     "metadata": {},
     "output_type": "execute_result"
    }
   ],
   "source": [
    "t_df.isnull().sum()/214325*100"
   ]
  },
  {
   "cell_type": "code",
   "execution_count": 28,
   "metadata": {},
   "outputs": [],
   "source": [
    "t_dropped_df = t_df.drop('합계 일조시간(hr)', axis= 1)"
   ]
  },
  {
   "cell_type": "code",
   "execution_count": 39,
   "metadata": {},
   "outputs": [],
   "source": [
    "import pandas as pd\n",
    "\n",
    "def fillna_with_mean(df: pd.DataFrame):\n",
    "    return df.interpolate(method='linear', limit_direction='both')\n",
    "\n",
    "def fill_nan(x):\n",
    "    columns_with_zero = ['강수 계속시간(hr)' , '일강수량(mm)']\n",
    "    columns_with_mean = [\n",
    "    '평균기온(°C)', '최저기온(°C)', '최고기온(°C)', \n",
    "    '최대 풍속(m/s)', '평균 풍속(m/s)', '최소 상대습도(pct)', '평균 상대습도(pct)'\n",
    "    ]\n",
    "    if x.name in columns_with_mean :\n",
    "        return x.interpolate(method='linear', limit_direction='both')\n",
    "    elif x.name in columns_with_zero:\n",
    "        return x.fillna(0)\n",
    "    else:\n",
    "        return x"
   ]
  },
  {
   "cell_type": "code",
   "execution_count": 40,
   "metadata": {},
   "outputs": [
    {
     "name": "stdout",
     "output_type": "stream",
     "text": [
      "<class 'pandas.core.frame.DataFrame'>\n",
      "RangeIndex: 214325 entries, 0 to 214324\n",
      "Data columns (total 10 columns):\n",
      " #   Column        Non-Null Count   Dtype         \n",
      "---  ------        --------------   -----         \n",
      " 0   일시            214325 non-null  datetime64[ns]\n",
      " 1   평균기온(°C)      214325 non-null  float32       \n",
      " 2   최저기온(°C)      214325 non-null  float32       \n",
      " 3   최고기온(°C)      214325 non-null  float16       \n",
      " 4   강수 계속시간(hr)   214325 non-null  float16       \n",
      " 5   일강수량(mm)      214325 non-null  float16       \n",
      " 6   최대 풍속(m/s)    214325 non-null  float16       \n",
      " 7   평균 풍속(m/s)    214325 non-null  float16       \n",
      " 8   최소 상대습도(pct)  214325 non-null  float16       \n",
      " 9   평균 상대습도(pct)  214325 non-null  float32       \n",
      "dtypes: datetime64[ns](1), float16(6), float32(3)\n",
      "memory usage: 6.5 MB\n"
     ]
    }
   ],
   "source": [
    "t_not_null_df = t_dropped_df.apply(fill_nan, axis=0)\n",
    "t_not_null_df.info()"
   ]
  },
  {
   "cell_type": "code",
   "execution_count": null,
   "metadata": {},
   "outputs": [],
   "source": []
  }
 ],
 "metadata": {
  "kernelspec": {
   "display_name": "BOBSIM",
   "language": "python",
   "name": "bobsim"
  },
  "language_info": {
   "codemirror_mode": {
    "name": "ipython",
    "version": 3
   },
   "file_extension": ".py",
   "mimetype": "text/x-python",
   "name": "python",
   "nbconvert_exporter": "python",
   "pygments_lexer": "ipython3",
   "version": "3.7.6"
  }
 },
 "nbformat": 4,
 "nbformat_minor": 4
}
