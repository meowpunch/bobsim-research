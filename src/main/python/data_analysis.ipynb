{
 "cells": [
  {
   "cell_type": "markdown",
   "metadata": {},
   "source": [
    "# Data Anaysis"
   ]
  },
  {
   "cell_type": "markdown",
   "metadata": {},
   "source": [
    "## load data"
   ]
  },
  {
   "cell_type": "code",
   "execution_count": 1,
   "metadata": {
    "collapsed": true
   },
   "outputs": [
    {
     "name": "stderr",
     "output_type": "stream",
     "text": [
      "2020-04-04 19:42:10:manager:<INFO> 1 files is loaded from public_data/open_data_raw_material_price/origin/csv/201908.csv in s3 'production-bobsim'\n",
      "2020-04-04 19:42:13:manager:<INFO> 1 files is loaded from public_data/open_data_terrestrial_weather/origin/csv/2014-2020.csv in s3 'production-bobsim'\n",
      "2020-04-04 19:42:14:manager:<INFO> 1 files is loaded from public_data/open_data_marine_weather/origin/csv/2014-2020.csv in s3 'production-bobsim'\n",
      "2020-04-04 19:42:17:manager:<INFO> 1 files is loaded from public_data/open_data_raw_material_price/origin/csv/201908.csv in s3 'production-bobsim'\n",
      "2020-04-04 19:42:18:core:<INFO> no missing value at raw material price\n",
      "2020-04-04 19:42:21:manager:<INFO> 1 files is loaded from public_data/open_data_terrestrial_weather/origin/csv/2014-2020.csv in s3 'production-bobsim'\n",
      "2020-04-04 19:42:22:manager:<INFO> 1 files is loaded from public_data/open_data_marine_weather/origin/csv/2014-2020.csv in s3 'production-bobsim'\n",
      "2020-04-04 19:42:22:core:<INFO> Series([], dtype: int64)\n",
      "2020-04-04 19:42:22:core:<INFO> Series([], dtype: int64)\n"
     ]
    }
   ],
   "source": [
    "from util.build_dataset import build_master\n",
    "from util.build_dataset import build_master\n",
    "\n",
    "filter_origin_df = build_master(dataset=\"filter_origin_fmp\", date=\"201908\")\n",
    "clean_origin_df = build_master(dataset=\"clean_origin_fmp\", date=\"201908\")"
   ]
  },
  {
   "cell_type": "code",
   "execution_count": 9,
   "metadata": {},
   "outputs": [
    {
     "name": "stdout",
     "output_type": "stream",
     "text": [
      "<class 'pandas.core.frame.DataFrame'>\n",
      "Int64Index: 40512 entries, 0 to 40511\n",
      "Data columns (total 24 columns):\n",
      " #   Column          Non-Null Count  Dtype         \n",
      "---  ------          --------------  -----         \n",
      " 0   조사일자            40512 non-null  datetime64[ns]\n",
      " 1   조사지역명           40512 non-null  object        \n",
      " 2   품목명             40512 non-null  object        \n",
      " 3   당일조사가격          40512 non-null  float64       \n",
      " 4   평균기온(°C)        40512 non-null  float32       \n",
      " 5   최저기온(°C)        40512 non-null  float32       \n",
      " 6   최고기온(°C)        40512 non-null  float32       \n",
      " 7   강수 계속시간(hr)     40512 non-null  float32       \n",
      " 8   일강수량(mm)        40512 non-null  float32       \n",
      " 9   최대 풍속(m/s)      40512 non-null  float32       \n",
      " 10  평균 풍속(m/s)_x    40512 non-null  float32       \n",
      " 11  최소 상대습도(pct)    40512 non-null  float32       \n",
      " 12  평균 상대습도(pct)_x  40512 non-null  float32       \n",
      " 13  평균 풍속(m/s)_y    40512 non-null  float32       \n",
      " 14  평균기압(hPa)       40512 non-null  float32       \n",
      " 15  평균 상대습도(pct)_y  40512 non-null  float32       \n",
      " 16  평균 기온(°C)       40512 non-null  float32       \n",
      " 17  평균 수온(°C)       40512 non-null  float32       \n",
      " 18  평균 최대 파고(m)     40512 non-null  float32       \n",
      " 19  평균 유의 파고(m)     40512 non-null  float32       \n",
      " 20  최고 유의 파고(m)     40512 non-null  float32       \n",
      " 21  최고 최대 파고(m)     40512 non-null  float32       \n",
      " 22  평균 파주기(sec)     40512 non-null  float32       \n",
      " 23  최고 파주기(sec)     40512 non-null  float32       \n",
      "dtypes: datetime64[ns](1), float32(20), float64(1), object(2)\n",
      "memory usage: 4.6+ MB\n"
     ]
    }
   ],
   "source": [
    "filter_origin_df.info()"
   ]
  },
  {
   "cell_type": "code",
   "execution_count": 10,
   "metadata": {},
   "outputs": [
    {
     "name": "stdout",
     "output_type": "stream",
     "text": [
      "<class 'pandas.core.frame.DataFrame'>\n",
      "Int64Index: 40512 entries, 0 to 40511\n",
      "Data columns (total 24 columns):\n",
      " #   Column          Non-Null Count  Dtype         \n",
      "---  ------          --------------  -----         \n",
      " 0   조사일자            40512 non-null  datetime64[ns]\n",
      " 1   조사지역명           40512 non-null  object        \n",
      " 2   품목명             40512 non-null  object        \n",
      " 3   당일조사가격          40512 non-null  float64       \n",
      " 4   평균기온(°C)        40512 non-null  float32       \n",
      " 5   최저기온(°C)        40512 non-null  float32       \n",
      " 6   최고기온(°C)        40512 non-null  float32       \n",
      " 7   최대 풍속(m/s)      40512 non-null  float32       \n",
      " 8   평균 풍속(m/s)_x    40512 non-null  float32       \n",
      " 9   최소 상대습도(pct)    40512 non-null  float32       \n",
      " 10  평균 상대습도(pct)_x  40512 non-null  float32       \n",
      " 11  강수 계속시간(hr)     40512 non-null  float32       \n",
      " 12  일강수량(mm)        40512 non-null  float32       \n",
      " 13  평균 풍속(m/s)_y    40512 non-null  float32       \n",
      " 14  평균기압(hPa)       40512 non-null  float32       \n",
      " 15  평균 상대습도(pct)_y  40512 non-null  float32       \n",
      " 16  평균 기온(°C)       40512 non-null  float32       \n",
      " 17  평균 수온(°C)       40512 non-null  float32       \n",
      " 18  평균 최대 파고(m)     40512 non-null  float32       \n",
      " 19  평균 유의 파고(m)     40512 non-null  float32       \n",
      " 20  최고 유의 파고(m)     40512 non-null  float32       \n",
      " 21  최고 최대 파고(m)     40512 non-null  float32       \n",
      " 22  평균 파주기(sec)     40512 non-null  float32       \n",
      " 23  최고 파주기(sec)     40512 non-null  float32       \n",
      "dtypes: datetime64[ns](1), float32(20), float64(1), object(2)\n",
      "memory usage: 4.6+ MB\n"
     ]
    }
   ],
   "source": [
    "clean_origin_df.info()"
   ]
  },
  {
   "cell_type": "markdown",
   "metadata": {},
   "source": [
    "## skew numeric value of filter_origin_df"
   ]
  },
  {
   "cell_type": "code",
   "execution_count": null,
   "metadata": {},
   "outputs": [],
   "source": []
  },
  {
   "cell_type": "code",
   "execution_count": 2,
   "metadata": {},
   "outputs": [
    {
     "data": {
      "text/plain": [
       "당일조사가격            3.452630\n",
       "평균기온(°C)         -0.449521\n",
       "최저기온(°C)         -0.560308\n",
       "최고기온(°C)         -0.641832\n",
       "강수 계속시간(hr)       0.864804\n",
       "일강수량(mm)          1.109568\n",
       "최대 풍속(m/s)        0.341649\n",
       "평균 풍속(m/s)_x      0.750571\n",
       "최소 상대습도(pct)      0.565824\n",
       "평균 상대습도(pct)_x    0.673417\n",
       "평균 풍속(m/s)_y      0.097297\n",
       "평균기압(hPa)        -1.146475\n",
       "평균 상대습도(pct)_y   -1.212841\n",
       "평균 기온(°C)        -0.860768\n",
       "평균 수온(°C)        -0.919213\n",
       "평균 최대 파고(m)       0.648148\n",
       "평균 유의 파고(m)       0.735840\n",
       "최고 유의 파고(m)       0.643821\n",
       "최고 최대 파고(m)       0.427031\n",
       "평균 파주기(sec)       0.761779\n",
       "최고 파주기(sec)       0.650865\n",
       "dtype: float64"
      ]
     },
     "execution_count": 2,
     "metadata": {},
     "output_type": "execute_result"
    }
   ],
   "source": [
    "from util.analysis import get_skews\n",
    "get_skews(filter_origin_df)"
   ]
  },
  {
   "cell_type": "markdown",
   "metadata": {},
   "source": [
    "## skew numeric value of clean_origin_df"
   ]
  },
  {
   "cell_type": "code",
   "execution_count": 3,
   "metadata": {},
   "outputs": [
    {
     "data": {
      "text/plain": [
       "당일조사가격            3.452630\n",
       "평균기온(°C)         -0.449521\n",
       "최저기온(°C)         -0.560308\n",
       "최고기온(°C)         -0.641832\n",
       "최대 풍속(m/s)        0.341649\n",
       "평균 풍속(m/s)_x      0.750571\n",
       "최소 상대습도(pct)      0.565824\n",
       "평균 상대습도(pct)_x    0.673417\n",
       "강수 계속시간(hr)       0.864804\n",
       "일강수량(mm)          1.109568\n",
       "평균 풍속(m/s)_y      0.097297\n",
       "평균기압(hPa)        -1.146475\n",
       "평균 상대습도(pct)_y   -1.212841\n",
       "평균 기온(°C)        -0.860768\n",
       "평균 수온(°C)        -0.919213\n",
       "평균 최대 파고(m)       0.648148\n",
       "평균 유의 파고(m)       0.735840\n",
       "최고 유의 파고(m)       0.643821\n",
       "최고 최대 파고(m)       0.427031\n",
       "평균 파주기(sec)       0.761779\n",
       "최고 파주기(sec)       0.650865\n",
       "dtype: float64"
      ]
     },
     "execution_count": 3,
     "metadata": {},
     "output_type": "execute_result"
    }
   ],
   "source": [
    "get_skews(clean_origin_df)"
   ]
  },
  {
   "cell_type": "code",
   "execution_count": 11,
   "metadata": {},
   "outputs": [
    {
     "data": {
      "text/plain": [
       "[<matplotlib.axes._subplots.AxesSubplot at 0x1935bfc3e08>]"
      ]
     },
     "execution_count": 11,
     "metadata": {},
     "output_type": "execute_result"
    },
    {
     "data": {
      "image/png": "[encoded data removed]",
      "text/plain": [
       "<Figure size 432x288 with 1 Axes>"
      ]
     },
     "metadata": {
      "needs_background": "light"
     },
     "output_type": "display_data"
    }
   ],
   "source": [
    "show_hist([clean_origin_df[\"일강수량(mm)\"]], name=\"fuck\")"
   ]
  },
  {
   "cell_type": "code",
   "execution_count": 7,
   "metadata": {},
   "outputs": [
    {
     "data": {
      "text/plain": [
       "[<matplotlib.axes._subplots.AxesSubplot at 0x1935b9c3cc8>,\n",
       " <matplotlib.axes._subplots.AxesSubplot at 0x1935b9c3cc8>]"
      ]
     },
     "execution_count": 7,
     "metadata": {},
     "output_type": "execute_result"
    },
    {
     "data": {
      "image/png": "[encoded data removed]",
      "text/plain": [
       "<Figure size 432x288 with 1 Axes>"
      ]
     },
     "metadata": {
      "needs_background": "light"
     },
     "output_type": "display_data"
    }
   ],
   "source": [
    "from util.visualize import show_hist\n",
    "\n",
    "show_hist([filter_origin_df[\"일강수량(mm)\"], clean_origin_df[\"일강수량(mm)\"]], name=\"amount\")"
   ]
  },
  {
   "cell_type": "code",
   "execution_count": 8,
   "metadata": {},
   "outputs": [
    {
     "data": {
      "text/plain": [
       "[<matplotlib.axes._subplots.AxesSubplot at 0x1935be10208>,\n",
       " <matplotlib.axes._subplots.AxesSubplot at 0x1935be10208>]"
      ]
     },
     "execution_count": 8,
     "metadata": {},
     "output_type": "execute_result"
    },
    {
     "data": {
      "image/png": "[encoded data removed]",
      "text/plain": [
       "<Figure size 432x288 with 1 Axes>"
      ]
     },
     "metadata": {
      "needs_background": "light"
     },
     "output_type": "display_data"
    }
   ],
   "source": [
    "show_hist([filter_origin_df[\"일강수량(mm)\"], clean_origin_df[\"일강수량(mm)\"]], name=\"amount\")"
   ]
  },
  {
   "cell_type": "code",
   "execution_count": null,
   "metadata": {},
   "outputs": [],
   "source": [
    "show_hist(ser=filter_origin_df[\"강수 계속시간(hr)\"], name=\"time\")"
   ]
  },
  {
   "cell_type": "code",
   "execution_count": null,
   "metadata": {},
   "outputs": [],
   "source": []
  }
 ],
 "metadata": {
  "kernelspec": {
   "display_name": "BOBSIM",
   "language": "python",
   "name": "bobsim"
  },
  "language_info": {
   "codemirror_mode": {
    "name": "ipython",
    "version": 3
   },
   "file_extension": ".py",
   "mimetype": "text/x-python",
   "name": "python",
   "nbconvert_exporter": "python",
   "pygments_lexer": "ipython3",
   "version": "3.7.6"
  }
 },
 "nbformat": 4,
 "nbformat_minor": 4
}
