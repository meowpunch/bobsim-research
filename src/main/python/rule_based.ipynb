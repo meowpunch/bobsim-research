{
 "cells": [
  {
   "cell_type": "code",
   "execution_count": 2,
   "metadata": {},
   "outputs": [
    {
     "name": "stderr",
     "output_type": "stream",
     "text": [
      "2020-03-30 05:53:21:manager:<INFO> 1 files is loaded from public_data/open_data_raw_material_price/process/csv/201908.csv in s3 'production-bobsim'\n",
      "2020-03-30 05:53:21:manager:<INFO> 1 files is loaded from public_data/open_data_terrestrial_weather/process/csv/201908.csv in s3 'production-bobsim'\n",
      "2020-03-30 05:53:21:manager:<INFO> 1 files is loaded from public_data/open_data_marine_weather/process/csv/201908.csv in s3 'production-bobsim'\n",
      "2020-03-30 05:53:30:manager:<INFO> 1 files is loaded from public_data/open_data_raw_material_price/process/csv/201907.csv in s3 'production-bobsim'\n",
      "2020-03-30 05:53:30:manager:<INFO> 1 files is loaded from public_data/open_data_terrestrial_weather/process/csv/201907.csv in s3 'production-bobsim'\n",
      "2020-03-30 05:53:31:manager:<INFO> 1 files is loaded from public_data/open_data_marine_weather/process/csv/201907.csv in s3 'production-bobsim'\n"
     ]
    }
   ],
   "source": [
    "from feature_extraction_pipeline.open_data_marine_weather.core import MarineWeatherExtractor\n",
    "from feature_extraction_pipeline.open_data_raw_material_price.core import RawMaterialPriceExtractor\n",
    "from feature_extraction_pipeline.open_data_terrestrial_weather.core import TerrestrialWeatherExtractor\n",
    "import pandas as pd\n",
    "import numpy as np\n",
    "\n",
    "\n",
    "\n",
    "def load_data(date: str):\n",
    "    price, p_key = RawMaterialPriceExtractor(date=date).process()\n",
    "    t_weather, t_key = TerrestrialWeatherExtractor(date=date).process()\n",
    "    m_weather, m_key = MarineWeatherExtractor(date=date).process()\n",
    "\n",
    "    # combine data\n",
    "    weather = pd.merge(\n",
    "        t_weather.groupby([\"일시\"]).mean(),\n",
    "        m_weather.groupby([\"일시\"]).mean(),\n",
    "        how='inner', left_on=t_key, right_on=m_key\n",
    "    ).reset_index()\n",
    "\n",
    "    return pd.merge(\n",
    "        price, weather, \n",
    "        how=\"left\", left_on=p_key, right_on=t_key\n",
    "    ).drop(\"일시\", axis=1).astype(dtype={\"조사일자\": \"datetime64\"})\n",
    "\n",
    "data201908 = load_data(\"201908\")\n",
    "data201907 = load_data(\"201907\")\n",
    "\n",
    "dataset = data201908.append(data201907).sort_values(by=\"조사일자\", ascending=True)"
   ]
  },
  {
   "cell_type": "markdown",
   "metadata": {},
   "source": [
    "## subtract one day and one day after"
   ]
  },
  {
   "cell_type": "code",
   "execution_count": null,
   "metadata": {},
   "outputs": [],
   "source": [
    "dataset."
   ]
  }
 ],
 "metadata": {
  "kernelspec": {
   "display_name": "BOBSIM",
   "language": "python",
   "name": "bobsim"
  },
  "language_info": {
   "codemirror_mode": {
    "name": "ipython",
    "version": 3
   },
   "file_extension": ".py",
   "mimetype": "text/x-python",
   "name": "python",
   "nbconvert_exporter": "python",
   "pygments_lexer": "ipython3",
   "version": "3.7.6"
  }
 },
 "nbformat": 4,
 "nbformat_minor": 4
}
