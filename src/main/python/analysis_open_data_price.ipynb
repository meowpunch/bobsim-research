{
 "cells": [
  {
   "cell_type": "code",
   "execution_count": 7,
   "metadata": {},
   "outputs": [],
   "source": [
    "import pandas as pd\n",
    "import numpy as np\n",
    "import matplotlib.pyplot as plt\n",
    "import seaborn as sns\n",
    "%matplotlib inline"
   ]
  },
  {
   "cell_type": "code",
   "execution_count": 8,
   "metadata": {},
   "outputs": [],
   "source": [
    "from util.general import load_csv_pandas\n",
    "from util.general import load_csv\n",
    "from util.executable import get_destination"
   ]
  },
  {
   "cell_type": "code",
   "execution_count": 9,
   "metadata": {},
   "outputs": [
    {
     "name": "stderr",
     "output_type": "stream",
     "text": [
      "2020-04-14 20:16:07:manage:<INFO> 1 files is loaded from public_data/open_data_raw_material_price/origin/csv/201908.csv in s3 'production-bobsim'\n"
     ]
    }
   ],
   "source": [
    "from util.build_dataset import build_origin_price\n",
    "\n",
    "origin_p_df, key = build_origin_price(date=\"201908\",bucket_name=\"production-bobsim\")"
   ]
  },
  {
   "cell_type": "markdown",
   "metadata": {},
   "source": [
    "**for target, fix 'retail price'** "
   ]
  },
  {
   "cell_type": "code",
   "execution_count": 10,
   "metadata": {},
   "outputs": [],
   "source": [
    "retail_df = origin_p_df[origin_p_df['class']=='소비자가격'].drop('class', axis=1)"
   ]
  },
  {
   "cell_type": "code",
   "execution_count": 11,
   "metadata": {
    "collapsed": true
   },
   "outputs": [
    {
     "name": "stdout",
     "output_type": "stream",
     "text": [
      "<class 'pandas.core.frame.DataFrame'>\n",
      "Int64Index: 81737 entries, 0 to 97408\n",
      "Data columns (total 6 columns):\n",
      " #   Column              Non-Null Count  Dtype         \n",
      "---  ------              --------------  -----         \n",
      " 0   date                81737 non-null  datetime64[ns]\n",
      " 1   region              81737 non-null  object        \n",
      " 2   unit_name           81737 non-null  object        \n",
      " 3   grade               81737 non-null  object        \n",
      " 4   standard_item_name  81737 non-null  object        \n",
      " 5   price               81737 non-null  int32         \n",
      "dtypes: datetime64[ns](1), int32(1), object(4)\n",
      "memory usage: 4.1+ MB\n"
     ]
    }
   ],
   "source": [
    "retail_df.info()"
   ]
  },
  {
   "cell_type": "markdown",
   "metadata": {},
   "source": [
    "### null value count"
   ]
  },
  {
   "cell_type": "code",
   "execution_count": 12,
   "metadata": {
    "collapsed": true
   },
   "outputs": [
    {
     "data": {
      "text/plain": [
       "date                  0\n",
       "region                0\n",
       "unit_name             0\n",
       "grade                 0\n",
       "standard_item_name    0\n",
       "price                 0\n",
       "dtype: int64"
      ]
     },
     "execution_count": 12,
     "metadata": {},
     "output_type": "execute_result"
    }
   ],
   "source": [
    "retail_df.isnull().sum()"
   ]
  },
  {
   "cell_type": "code",
   "execution_count": 14,
   "metadata": {},
   "outputs": [
    {
     "data": {
      "text/html": [
       "<div>\n",
       "<style scoped>\n",
       "    .dataframe tbody tr th:only-of-type {\n",
       "        vertical-align: middle;\n",
       "    }\n",
       "\n",
       "    .dataframe tbody tr th {\n",
       "        vertical-align: top;\n",
       "    }\n",
       "\n",
       "    .dataframe thead th {\n",
       "        text-align: right;\n",
       "    }\n",
       "</style>\n",
       "<table border=\"1\" class=\"dataframe\">\n",
       "  <thead>\n",
       "    <tr style=\"text-align: right;\">\n",
       "      <th></th>\n",
       "      <th>date</th>\n",
       "      <th>region</th>\n",
       "      <th>unit_name</th>\n",
       "      <th>grade</th>\n",
       "      <th>standard_item_name</th>\n",
       "      <th>price</th>\n",
       "    </tr>\n",
       "  </thead>\n",
       "  <tbody>\n",
       "    <tr>\n",
       "      <th>0</th>\n",
       "      <td>2019-08-01</td>\n",
       "      <td>서울서부</td>\n",
       "      <td>20KG</td>\n",
       "      <td>상(1등급)</td>\n",
       "      <td>벼</td>\n",
       "      <td>54300</td>\n",
       "    </tr>\n",
       "    <tr>\n",
       "      <th>1</th>\n",
       "      <td>2019-08-01</td>\n",
       "      <td>서울서부</td>\n",
       "      <td>20KG</td>\n",
       "      <td>상(1등급)</td>\n",
       "      <td>벼</td>\n",
       "      <td>53200</td>\n",
       "    </tr>\n",
       "    <tr>\n",
       "      <th>2</th>\n",
       "      <td>2019-08-01</td>\n",
       "      <td>서울서부</td>\n",
       "      <td>20KG</td>\n",
       "      <td>상(1등급)</td>\n",
       "      <td>벼</td>\n",
       "      <td>50600</td>\n",
       "    </tr>\n",
       "    <tr>\n",
       "      <th>5</th>\n",
       "      <td>2019-08-01</td>\n",
       "      <td>서울</td>\n",
       "      <td>20KG</td>\n",
       "      <td>상(1등급)</td>\n",
       "      <td>벼</td>\n",
       "      <td>54000</td>\n",
       "    </tr>\n",
       "    <tr>\n",
       "      <th>6</th>\n",
       "      <td>2019-08-01</td>\n",
       "      <td>서울</td>\n",
       "      <td>20KG</td>\n",
       "      <td>상(1등급)</td>\n",
       "      <td>벼</td>\n",
       "      <td>47900</td>\n",
       "    </tr>\n",
       "  </tbody>\n",
       "</table>\n",
       "</div>"
      ],
      "text/plain": [
       "        date region unit_name   grade standard_item_name  price\n",
       "0 2019-08-01   서울서부      20KG  상(1등급)                  벼  54300\n",
       "1 2019-08-01   서울서부      20KG  상(1등급)                  벼  53200\n",
       "2 2019-08-01   서울서부      20KG  상(1등급)                  벼  50600\n",
       "5 2019-08-01     서울      20KG  상(1등급)                  벼  54000\n",
       "6 2019-08-01     서울      20KG  상(1등급)                  벼  47900"
      ]
     },
     "execution_count": 14,
     "metadata": {},
     "output_type": "execute_result"
    }
   ],
   "source": [
    "retail_df.head()"
   ]
  },
  {
   "cell_type": "code",
   "execution_count": null,
   "metadata": {},
   "outputs": [],
   "source": [
    "    def get_unit(unit_name):\n",
    "        # TODO: handle no supported unit_name\n",
    "        return {\n",
    "            '20KG': 200, '1.2KG': 12, '8KG': 80, '1KG': 10, '1KG(단)': 10, '1KG(1단)': 10,\n",
    "            '500G': 5, '200G': 2, '100G': 1, '30개' : 30, '600G' : 6, '5마리' : 5,\n",
    "            '10마리': 10, '2마리': 2, '1마리': 1, '5KG': 50 , '2KG' : 20 ,\n",
    "            '10개': 10, '1개': 1,\n",
    "            '1L': 10,\n",
    "            '1속': 1,\n",
    "            '1포기': 1,\n",
    "        }.get(unit_name, 1) \n",
    "    def by_unit( df: pd.DataFrame):\n",
    "        \"\"\"\n",
    "            transform unit\n",
    "        :return: transformed pd DataFrame\n",
    "        \"\"\"\n",
    "        return df.assign(\n",
    "            조사단위명=lambda r: r.조사단위명.map(\n",
    "                lambda x: get_unit(x)\n",
    "            )\n",
    "        ).assign(\n",
    "            당일조사가격=lambda x: x.당일조사가격 / x.조사단위명\n",
    "        ).drop(\"조사단위명\", axis=1)"
   ]
  },
  {
   "cell_type": "code",
   "execution_count": null,
   "metadata": {},
   "outputs": [],
   "source": [
    "retail_converted_df = by_unit(filtered_df)\n",
    "retail_converted_df.info()"
   ]
  },
  {
   "cell_type": "markdown",
   "metadata": {},
   "source": [
    "# Distribution"
   ]
  },
  {
   "cell_type": "markdown",
   "metadata": {},
   "source": [
    "## load cleaned data"
   ]
  },
  {
   "cell_type": "code",
   "execution_count": 1,
   "metadata": {},
   "outputs": [
    {
     "name": "stderr",
     "output_type": "stream",
     "text": [
      "2020-04-14 20:00:33:manage:<INFO> 1 files is loaded from public_data/open_data_raw_material_price/origin/csv/201908.csv in s3 'production-bobsim'\n"
     ]
    },
    {
     "ename": "AttributeError",
     "evalue": "'DataFrame' object has no attribute 'to_list'",
     "output_type": "error",
     "traceback": [
      "\u001b[1;31m---------------------------------------------------------------------------\u001b[0m",
      "\u001b[1;31mAttributeError\u001b[0m                            Traceback (most recent call last)",
      "\u001b[1;32m<ipython-input-1-a59b81e3f5aa>\u001b[0m in \u001b[0;36m<module>\u001b[1;34m\u001b[0m\n\u001b[0;32m      1\u001b[0m \u001b[1;32mfrom\u001b[0m \u001b[0mutil\u001b[0m\u001b[1;33m.\u001b[0m\u001b[0mbuild_dataset\u001b[0m \u001b[1;32mimport\u001b[0m \u001b[0mbuild_master\u001b[0m\u001b[1;33m,\u001b[0m \u001b[0mbuild_origin_price\u001b[0m\u001b[1;33m,\u001b[0m \u001b[0mbuild_process_price\u001b[0m\u001b[1;33m\u001b[0m\u001b[1;33m\u001b[0m\u001b[0m\n\u001b[0;32m      2\u001b[0m \u001b[1;33m\u001b[0m\u001b[0m\n\u001b[1;32m----> 3\u001b[1;33m \u001b[0mclean_p\u001b[0m\u001b[1;33m,\u001b[0m \u001b[0mc_key\u001b[0m \u001b[1;33m=\u001b[0m \u001b[0mbuild_origin_price\u001b[0m\u001b[1;33m(\u001b[0m\u001b[0mbucket_name\u001b[0m\u001b[1;33m=\u001b[0m\u001b[1;34m\"production-bobsim\"\u001b[0m\u001b[1;33m,\u001b[0m \u001b[0mdate\u001b[0m\u001b[1;33m=\u001b[0m\u001b[1;34m\"201908\"\u001b[0m\u001b[1;33m,\u001b[0m \u001b[0mprefix\u001b[0m\u001b[1;33m=\u001b[0m\u001b[1;34m\"clean\"\u001b[0m\u001b[1;33m)\u001b[0m\u001b[1;33m\u001b[0m\u001b[1;33m\u001b[0m\u001b[0m\n\u001b[0m\u001b[0;32m      4\u001b[0m \u001b[0mprocess_p\u001b[0m\u001b[1;33m,\u001b[0m \u001b[0mp_key\u001b[0m \u001b[1;33m=\u001b[0m \u001b[0mbuild_process_price\u001b[0m\u001b[1;33m(\u001b[0m\u001b[0mbucket_name\u001b[0m\u001b[1;33m=\u001b[0m\u001b[1;34m\"production-bobsim\"\u001b[0m\u001b[1;33m,\u001b[0m \u001b[0mdate\u001b[0m\u001b[1;33m=\u001b[0m\u001b[1;34m\"201908\"\u001b[0m\u001b[1;33m)\u001b[0m\u001b[1;33m\u001b[0m\u001b[1;33m\u001b[0m\u001b[0m\n",
      "\u001b[1;32mC:\\BOBSIM\\production-bobsim-python\\src\\main\\python\\util\\build_dataset.py\u001b[0m in \u001b[0;36mbuild_origin_price\u001b[1;34m(bucket_name, date, prefix)\u001b[0m\n\u001b[0;32m     28\u001b[0m     \u001b[0mp\u001b[0m \u001b[1;33m=\u001b[0m \u001b[0mOpenDataRawMaterialPrice\u001b[0m\u001b[1;33m(\u001b[0m\u001b[0mbucket_name\u001b[0m\u001b[1;33m=\u001b[0m\u001b[0mbucket_name\u001b[0m\u001b[1;33m,\u001b[0m \u001b[0mdate\u001b[0m\u001b[1;33m=\u001b[0m\u001b[0mdate\u001b[0m\u001b[1;33m)\u001b[0m\u001b[1;33m\u001b[0m\u001b[1;33m\u001b[0m\u001b[0m\n\u001b[0;32m     29\u001b[0m     \u001b[1;32mif\u001b[0m \u001b[0mprefix\u001b[0m \u001b[1;32mis\u001b[0m \u001b[1;34m\"clean\"\u001b[0m\u001b[1;33m:\u001b[0m\u001b[1;33m\u001b[0m\u001b[1;33m\u001b[0m\u001b[0m\n\u001b[1;32m---> 30\u001b[1;33m         \u001b[1;32mreturn\u001b[0m \u001b[0mp\u001b[0m\u001b[1;33m.\u001b[0m\u001b[0mclean\u001b[0m\u001b[1;33m(\u001b[0m\u001b[0mp\u001b[0m\u001b[1;33m.\u001b[0m\u001b[0mfilter\u001b[0m\u001b[1;33m(\u001b[0m\u001b[0mp\u001b[0m\u001b[1;33m.\u001b[0m\u001b[0minput_df\u001b[0m\u001b[1;33m)\u001b[0m\u001b[1;33m)\u001b[0m\u001b[1;33m,\u001b[0m \u001b[1;34m\"date\"\u001b[0m\u001b[1;33m\u001b[0m\u001b[1;33m\u001b[0m\u001b[0m\n\u001b[0m\u001b[0;32m     31\u001b[0m     \u001b[1;32melse\u001b[0m\u001b[1;33m:\u001b[0m\u001b[1;33m\u001b[0m\u001b[1;33m\u001b[0m\u001b[0m\n\u001b[0;32m     32\u001b[0m         \u001b[1;32mreturn\u001b[0m \u001b[0mp\u001b[0m\u001b[1;33m.\u001b[0m\u001b[0minput_df\u001b[0m\u001b[1;33m,\u001b[0m \u001b[1;34m\"date\"\u001b[0m\u001b[1;33m\u001b[0m\u001b[1;33m\u001b[0m\u001b[0m\n",
      "\u001b[1;32mC:\\BOBSIM\\production-bobsim-python\\src\\main\\python\\data_pipeline\\open_data_raw_material_price\\core.py\u001b[0m in \u001b[0;36mfilter\u001b[1;34m(self, df)\u001b[0m\n\u001b[0;32m    132\u001b[0m                                       number=48)\n\u001b[0;32m    133\u001b[0m         replaced_df = filter_sparse(df=convert, column=\"standard_item_name\",\n\u001b[1;32m--> 134\u001b[1;33m                                     sparse_list=sparse_list)\n\u001b[0m\u001b[0;32m    135\u001b[0m \u001b[1;33m\u001b[0m\u001b[0m\n\u001b[0;32m    136\u001b[0m         \u001b[1;31m# combine 4 categories into one\u001b[0m\u001b[1;33m\u001b[0m\u001b[1;33m\u001b[0m\u001b[1;33m\u001b[0m\u001b[0m\n",
      "\u001b[1;32mC:\\BOBSIM\\production-bobsim-python\\src\\main\\python\\analysis\\filter_sparse.py\u001b[0m in \u001b[0;36mfilter_sparse\u001b[1;34m(df, column, sparse_list, to_word)\u001b[0m\n\u001b[0;32m     10\u001b[0m \u001b[1;32mdef\u001b[0m \u001b[0mfilter_sparse\u001b[0m\u001b[1;33m(\u001b[0m\u001b[0mdf\u001b[0m\u001b[1;33m:\u001b[0m \u001b[0mpd\u001b[0m\u001b[1;33m.\u001b[0m\u001b[0mDataFrame\u001b[0m\u001b[1;33m,\u001b[0m \u001b[0mcolumn\u001b[0m\u001b[1;33m:\u001b[0m \u001b[0mstr\u001b[0m\u001b[1;33m,\u001b[0m \u001b[0msparse_list\u001b[0m\u001b[1;33m:\u001b[0m \u001b[0mlist\u001b[0m\u001b[1;33m,\u001b[0m \u001b[0mto_word\u001b[0m\u001b[1;33m:\u001b[0m \u001b[0mstr\u001b[0m \u001b[1;33m=\u001b[0m \u001b[1;34m\"others\"\u001b[0m\u001b[1;33m)\u001b[0m\u001b[1;33m:\u001b[0m\u001b[1;33m\u001b[0m\u001b[1;33m\u001b[0m\u001b[0m\n\u001b[0;32m     11\u001b[0m     \u001b[0mfilter_df\u001b[0m \u001b[1;33m=\u001b[0m \u001b[0mdf\u001b[0m\u001b[1;33m[\u001b[0m\u001b[1;33m~\u001b[0m\u001b[0mdf\u001b[0m\u001b[1;33m[\u001b[0m\u001b[0mcolumn\u001b[0m\u001b[1;33m]\u001b[0m\u001b[1;33m.\u001b[0m\u001b[0misin\u001b[0m\u001b[1;33m(\u001b[0m\u001b[0msparse_list\u001b[0m\u001b[1;33m)\u001b[0m\u001b[1;33m]\u001b[0m\u001b[1;33m.\u001b[0m\u001b[0mdrop_duplicates\u001b[0m\u001b[1;33m(\u001b[0m\u001b[1;33m)\u001b[0m\u001b[1;33m\u001b[0m\u001b[1;33m\u001b[0m\u001b[0m\n\u001b[1;32m---> 12\u001b[1;33m     \u001b[0mfilter_list\u001b[0m \u001b[1;33m=\u001b[0m \u001b[0mfilter_df\u001b[0m\u001b[1;33m.\u001b[0m\u001b[0mto_list\u001b[0m\u001b[1;33m(\u001b[0m\u001b[1;33m)\u001b[0m\u001b[1;33m\u001b[0m\u001b[1;33m\u001b[0m\u001b[0m\n\u001b[0m\u001b[0;32m     13\u001b[0m     \u001b[1;32mreturn\u001b[0m \u001b[0mdf\u001b[0m\u001b[1;33m.\u001b[0m\u001b[0mreplace\u001b[0m\u001b[1;33m(\u001b[0m\u001b[0mfilter_list\u001b[0m\u001b[1;33m,\u001b[0m \u001b[0mto_word\u001b[0m\u001b[1;33m)\u001b[0m\u001b[1;33m\u001b[0m\u001b[1;33m\u001b[0m\u001b[0m\n\u001b[0;32m     14\u001b[0m \u001b[1;33m\u001b[0m\u001b[0m\n",
      "\u001b[1;32m~\\Anaconda3\\envs\\BOBSIM\\lib\\site-packages\\pandas\\core\\generic.py\u001b[0m in \u001b[0;36m__getattr__\u001b[1;34m(self, name)\u001b[0m\n\u001b[0;32m   5272\u001b[0m             \u001b[1;32mif\u001b[0m \u001b[0mself\u001b[0m\u001b[1;33m.\u001b[0m\u001b[0m_info_axis\u001b[0m\u001b[1;33m.\u001b[0m\u001b[0m_can_hold_identifiers_and_holds_name\u001b[0m\u001b[1;33m(\u001b[0m\u001b[0mname\u001b[0m\u001b[1;33m)\u001b[0m\u001b[1;33m:\u001b[0m\u001b[1;33m\u001b[0m\u001b[1;33m\u001b[0m\u001b[0m\n\u001b[0;32m   5273\u001b[0m                 \u001b[1;32mreturn\u001b[0m \u001b[0mself\u001b[0m\u001b[1;33m[\u001b[0m\u001b[0mname\u001b[0m\u001b[1;33m]\u001b[0m\u001b[1;33m\u001b[0m\u001b[1;33m\u001b[0m\u001b[0m\n\u001b[1;32m-> 5274\u001b[1;33m             \u001b[1;32mreturn\u001b[0m \u001b[0mobject\u001b[0m\u001b[1;33m.\u001b[0m\u001b[0m__getattribute__\u001b[0m\u001b[1;33m(\u001b[0m\u001b[0mself\u001b[0m\u001b[1;33m,\u001b[0m \u001b[0mname\u001b[0m\u001b[1;33m)\u001b[0m\u001b[1;33m\u001b[0m\u001b[1;33m\u001b[0m\u001b[0m\n\u001b[0m\u001b[0;32m   5275\u001b[0m \u001b[1;33m\u001b[0m\u001b[0m\n\u001b[0;32m   5276\u001b[0m     \u001b[1;32mdef\u001b[0m \u001b[0m__setattr__\u001b[0m\u001b[1;33m(\u001b[0m\u001b[0mself\u001b[0m\u001b[1;33m,\u001b[0m \u001b[0mname\u001b[0m\u001b[1;33m:\u001b[0m \u001b[0mstr\u001b[0m\u001b[1;33m,\u001b[0m \u001b[0mvalue\u001b[0m\u001b[1;33m)\u001b[0m \u001b[1;33m->\u001b[0m \u001b[1;32mNone\u001b[0m\u001b[1;33m:\u001b[0m\u001b[1;33m\u001b[0m\u001b[1;33m\u001b[0m\u001b[0m\n",
      "\u001b[1;31mAttributeError\u001b[0m: 'DataFrame' object has no attribute 'to_list'"
     ]
    }
   ],
   "source": [
    "from util.build_dataset import build_master, build_origin_price, build_process_price\n",
    "\n",
    "clean_p, c_key = build_origin_price(bucket_name=\"production-bobsim\", date=\"201908\", prefix=\"clean\")\n",
    "process_p, p_key = build_process_price(bucket_name=\"production-bobsim\", date=\"201908\")"
   ]
  },
  {
   "cell_type": "code",
   "execution_count": null,
   "metadata": {},
   "outputs": [],
   "source": [
    "from util.visualize import draw_hist\n",
    "from util.s3_manager.manage import S3Manager\n",
    "import numpy as np\n",
    "\n",
    "draw_hist(np.log1p(clean_p[\"price\"].rename(\"log transformed price\")))\n",
    "S3Manager(\"production-bobsim\").save_plt_to_png(key=\"food_material_price_predict_model/image/log_price_hist.png\")"
   ]
  },
  {
   "cell_type": "code",
   "execution_count": null,
   "metadata": {},
   "outputs": [],
   "source": [
    "price = clean_p[\"price\"]\n",
    "stdized_price = process_p[\"price\"].rename(\"stdized_price\")\n",
    "log_transformed_price = np.log1p(clean_p[\"price\"].rename(\"log_transformed_price\"))"
   ]
  },
  {
   "cell_type": "code",
   "execution_count": null,
   "metadata": {},
   "outputs": [],
   "source": [
    "import pandas as pd\n",
    "from scipy.stats import skew\n",
    "\n",
    "price_df = pd.concat([price, stdized_price, log_transformed_price], axis=1)\n",
    "print(price_df.columns)\n",
    "pd.Series(skew(price_df), index=price_df.columns).rename(\"skew\").to_frame().T"
   ]
  },
  {
   "cell_type": "markdown",
   "metadata": {},
   "source": [
    "## categorical"
   ]
  },
  {
   "cell_type": "code",
   "execution_count": null,
   "metadata": {},
   "outputs": [],
   "source": [
    "from util.geography import compose_geography\n",
    "composed = compose_geography(clean_p[\"region\"])\n",
    "composed"
   ]
  },
  {
   "cell_type": "code",
   "execution_count": 15,
   "metadata": {},
   "outputs": [
    {
     "data": {
      "text/plain": [
       "24"
      ]
     },
     "execution_count": 15,
     "metadata": {},
     "output_type": "execute_result"
    }
   ],
   "source": [
    "(retail_df[\"region\"].unique()).size"
   ]
  },
  {
   "cell_type": "code",
   "execution_count": 16,
   "metadata": {
    "collapsed": true
   },
   "outputs": [
    {
     "data": {
      "text/html": [
       "<div>\n",
       "<style scoped>\n",
       "    .dataframe tbody tr th:only-of-type {\n",
       "        vertical-align: middle;\n",
       "    }\n",
       "\n",
       "    .dataframe tbody tr th {\n",
       "        vertical-align: top;\n",
       "    }\n",
       "\n",
       "    .dataframe thead th {\n",
       "        text-align: right;\n",
       "    }\n",
       "</style>\n",
       "<table border=\"1\" class=\"dataframe\">\n",
       "  <thead>\n",
       "    <tr style=\"text-align: right;\">\n",
       "      <th></th>\n",
       "      <th>%</th>\n",
       "    </tr>\n",
       "  </thead>\n",
       "  <tbody>\n",
       "    <tr>\n",
       "      <th>강원</th>\n",
       "      <td>1.592914</td>\n",
       "    </tr>\n",
       "    <tr>\n",
       "      <th>청주</th>\n",
       "      <td>1.734832</td>\n",
       "    </tr>\n",
       "    <tr>\n",
       "      <th>경기</th>\n",
       "      <td>1.788664</td>\n",
       "    </tr>\n",
       "    <tr>\n",
       "      <th>전주</th>\n",
       "      <td>1.821696</td>\n",
       "    </tr>\n",
       "    <tr>\n",
       "      <th>세종</th>\n",
       "      <td>1.869410</td>\n",
       "    </tr>\n",
       "    <tr>\n",
       "      <th>경북안동</th>\n",
       "      <td>1.912231</td>\n",
       "    </tr>\n",
       "    <tr>\n",
       "      <th>경기의정부</th>\n",
       "      <td>1.940370</td>\n",
       "    </tr>\n",
       "    <tr>\n",
       "      <th>강원춘천</th>\n",
       "      <td>2.176493</td>\n",
       "    </tr>\n",
       "    <tr>\n",
       "      <th>충북청주</th>\n",
       "      <td>2.706241</td>\n",
       "    </tr>\n",
       "    <tr>\n",
       "      <th>전북전주</th>\n",
       "      <td>2.725816</td>\n",
       "    </tr>\n",
       "    <tr>\n",
       "      <th>경기수원</th>\n",
       "      <td>2.922789</td>\n",
       "    </tr>\n",
       "    <tr>\n",
       "      <th>경북포항</th>\n",
       "      <td>3.781641</td>\n",
       "    </tr>\n",
       "    <tr>\n",
       "      <th>제주</th>\n",
       "      <td>4.066702</td>\n",
       "    </tr>\n",
       "    <tr>\n",
       "      <th>강원강릉</th>\n",
       "      <td>4.171917</td>\n",
       "    </tr>\n",
       "    <tr>\n",
       "      <th>인천</th>\n",
       "      <td>4.590332</td>\n",
       "    </tr>\n",
       "    <tr>\n",
       "      <th>경남창원</th>\n",
       "      <td>4.738368</td>\n",
       "    </tr>\n",
       "    <tr>\n",
       "      <th>울산</th>\n",
       "      <td>4.850924</td>\n",
       "    </tr>\n",
       "    <tr>\n",
       "      <th>전남순천</th>\n",
       "      <td>4.914543</td>\n",
       "    </tr>\n",
       "    <tr>\n",
       "      <th>대전</th>\n",
       "      <td>6.683632</td>\n",
       "    </tr>\n",
       "    <tr>\n",
       "      <th>대구</th>\n",
       "      <td>6.766825</td>\n",
       "    </tr>\n",
       "    <tr>\n",
       "      <th>광주</th>\n",
       "      <td>6.933213</td>\n",
       "    </tr>\n",
       "    <tr>\n",
       "      <th>부산</th>\n",
       "      <td>7.237848</td>\n",
       "    </tr>\n",
       "    <tr>\n",
       "      <th>서울</th>\n",
       "      <td>8.340164</td>\n",
       "    </tr>\n",
       "    <tr>\n",
       "      <th>서울서부</th>\n",
       "      <td>9.732435</td>\n",
       "    </tr>\n",
       "  </tbody>\n",
       "</table>\n",
       "</div>"
      ],
      "text/plain": [
       "              %\n",
       "강원     1.592914\n",
       "청주     1.734832\n",
       "경기     1.788664\n",
       "전주     1.821696\n",
       "세종     1.869410\n",
       "경북안동   1.912231\n",
       "경기의정부  1.940370\n",
       "강원춘천   2.176493\n",
       "충북청주   2.706241\n",
       "전북전주   2.725816\n",
       "경기수원   2.922789\n",
       "경북포항   3.781641\n",
       "제주     4.066702\n",
       "강원강릉   4.171917\n",
       "인천     4.590332\n",
       "경남창원   4.738368\n",
       "울산     4.850924\n",
       "전남순천   4.914543\n",
       "대전     6.683632\n",
       "대구     6.766825\n",
       "광주     6.933213\n",
       "부산     7.237848\n",
       "서울     8.340164\n",
       "서울서부   9.732435"
      ]
     },
     "execution_count": 16,
     "metadata": {},
     "output_type": "execute_result"
    }
   ],
   "source": [
    "(retail_df[\"region\"].value_counts()/retail_df[\"region\"].value_counts().sum()*100).rename(\"%\").to_frame().sort_values(by=\"%\")"
   ]
  },
  {
   "cell_type": "code",
   "execution_count": 17,
   "metadata": {},
   "outputs": [
    {
     "name": "stdout",
     "output_type": "stream",
     "text": [
      "0.005383119028102328\n"
     ]
    }
   ],
   "source": [
    "import pandas as pd\n",
    "pd.set_option('display.max_rows', 30)\n",
    "pd.set_option('display.max_columns', 500)\n",
    "pd.set_option('display.width', 1000)\n",
    "print(440/retail_df[\"standard_item_name\"].value_counts().sum())\n",
    "df =(retail_df[\"standard_item_name\"].value_counts()/retail_df[\"standard_item_name\"].value_counts().sum()*100).rename(\"%\").to_frame().sort_values(by=\"%\")"
   ]
  },
  {
   "cell_type": "code",
   "execution_count": 18,
   "metadata": {},
   "outputs": [],
   "source": [
    "high_list=df.sort_values(by='%', ascending =False).head(49).index"
   ]
  },
  {
   "cell_type": "code",
   "execution_count": 19,
   "metadata": {
    "scrolled": true
   },
   "outputs": [
    {
     "data": {
      "text/plain": [
       "Index(['고추', '돈육', '한우', '배추', '상추', '포도', '오이', '호박', '사과', '조미제품', '땅콩', '무', '감자', '고구마', '대파', '당근', '생강', '파프리카', '양배추', '바나나', '새송이', '참깨', '팽이버섯', '레몬', '열무', '양파', '팥', '피망(단고추)', '수박', '참외', '배', '콩', '메론', '깻잎', '토마토', '고등어류', '파인애플', '쇠고기', '건가공(해조)류', '천연조미료류', '찹쌀', '젓갈(액젓)류', '벼', '아몬드', '건제품', '우유', '호두', '조란', '쪽파'], dtype='object')"
      ]
     },
     "execution_count": 19,
     "metadata": {},
     "output_type": "execute_result"
    }
   ],
   "source": [
    "high_list"
   ]
  },
  {
   "cell_type": "code",
   "execution_count": 22,
   "metadata": {},
   "outputs": [],
   "source": [
    "filter_df = retail_df[~retail_df[\"standard_item_name\"].isin(high_list)]"
   ]
  },
  {
   "cell_type": "code",
   "execution_count": 32,
   "metadata": {
    "collapsed": true
   },
   "outputs": [
    {
     "data": {
      "text/html": [
       "<div>\n",
       "<style scoped>\n",
       "    .dataframe tbody tr th:only-of-type {\n",
       "        vertical-align: middle;\n",
       "    }\n",
       "\n",
       "    .dataframe tbody tr th {\n",
       "        vertical-align: top;\n",
       "    }\n",
       "\n",
       "    .dataframe thead th {\n",
       "        text-align: right;\n",
       "    }\n",
       "</style>\n",
       "<table border=\"1\" class=\"dataframe\">\n",
       "  <thead>\n",
       "    <tr style=\"text-align: right;\">\n",
       "      <th></th>\n",
       "      <th>date</th>\n",
       "      <th>region</th>\n",
       "      <th>unit_name</th>\n",
       "      <th>grade</th>\n",
       "      <th>standard_item_name</th>\n",
       "      <th>price</th>\n",
       "    </tr>\n",
       "  </thead>\n",
       "  <tbody>\n",
       "    <tr>\n",
       "      <th>245</th>\n",
       "      <td>2019-08-01</td>\n",
       "      <td>서울서부</td>\n",
       "      <td>500G</td>\n",
       "      <td>상(1등급)</td>\n",
       "      <td>녹두</td>\n",
       "      <td>6230</td>\n",
       "    </tr>\n",
       "    <tr>\n",
       "      <th>246</th>\n",
       "      <td>2019-08-01</td>\n",
       "      <td>서울서부</td>\n",
       "      <td>500G</td>\n",
       "      <td>중(2등급)</td>\n",
       "      <td>녹두</td>\n",
       "      <td>5830</td>\n",
       "    </tr>\n",
       "    <tr>\n",
       "      <th>247</th>\n",
       "      <td>2019-08-01</td>\n",
       "      <td>서울서부</td>\n",
       "      <td>500G</td>\n",
       "      <td>상(1등급)</td>\n",
       "      <td>녹두</td>\n",
       "      <td>7100</td>\n",
       "    </tr>\n",
       "    <tr>\n",
       "      <th>248</th>\n",
       "      <td>2019-08-01</td>\n",
       "      <td>서울서부</td>\n",
       "      <td>500G</td>\n",
       "      <td>중(2등급)</td>\n",
       "      <td>녹두</td>\n",
       "      <td>6000</td>\n",
       "    </tr>\n",
       "    <tr>\n",
       "      <th>249</th>\n",
       "      <td>2019-08-01</td>\n",
       "      <td>서울서부</td>\n",
       "      <td>500G</td>\n",
       "      <td>상(1등급)</td>\n",
       "      <td>녹두</td>\n",
       "      <td>7330</td>\n",
       "    </tr>\n",
       "    <tr>\n",
       "      <th>...</th>\n",
       "      <td>...</td>\n",
       "      <td>...</td>\n",
       "      <td>...</td>\n",
       "      <td>...</td>\n",
       "      <td>...</td>\n",
       "      <td>...</td>\n",
       "    </tr>\n",
       "    <tr>\n",
       "      <th>97404</th>\n",
       "      <td>2019-08-30</td>\n",
       "      <td>경북포항</td>\n",
       "      <td>5마리</td>\n",
       "      <td>중(2등급)</td>\n",
       "      <td>새우류</td>\n",
       "      <td>5620</td>\n",
       "    </tr>\n",
       "    <tr>\n",
       "      <th>97405</th>\n",
       "      <td>2019-08-30</td>\n",
       "      <td>경북안동</td>\n",
       "      <td>5마리</td>\n",
       "      <td>중(2등급)</td>\n",
       "      <td>새우류</td>\n",
       "      <td>4800</td>\n",
       "    </tr>\n",
       "    <tr>\n",
       "      <th>97406</th>\n",
       "      <td>2019-08-30</td>\n",
       "      <td>경남창원</td>\n",
       "      <td>5마리</td>\n",
       "      <td>중(2등급)</td>\n",
       "      <td>새우류</td>\n",
       "      <td>4750</td>\n",
       "    </tr>\n",
       "    <tr>\n",
       "      <th>97407</th>\n",
       "      <td>2019-08-30</td>\n",
       "      <td>경남창원</td>\n",
       "      <td>5마리</td>\n",
       "      <td>중(2등급)</td>\n",
       "      <td>새우류</td>\n",
       "      <td>4400</td>\n",
       "    </tr>\n",
       "    <tr>\n",
       "      <th>97408</th>\n",
       "      <td>2019-08-30</td>\n",
       "      <td>제주</td>\n",
       "      <td>5마리</td>\n",
       "      <td>중(2등급)</td>\n",
       "      <td>새우류</td>\n",
       "      <td>4770</td>\n",
       "    </tr>\n",
       "  </tbody>\n",
       "</table>\n",
       "<p>12432 rows × 6 columns</p>\n",
       "</div>"
      ],
      "text/plain": [
       "            date region unit_name   grade standard_item_name  price\n",
       "245   2019-08-01   서울서부      500G  상(1등급)                 녹두   6230\n",
       "246   2019-08-01   서울서부      500G  중(2등급)                 녹두   5830\n",
       "247   2019-08-01   서울서부      500G  상(1등급)                 녹두   7100\n",
       "248   2019-08-01   서울서부      500G  중(2등급)                 녹두   6000\n",
       "249   2019-08-01   서울서부      500G  상(1등급)                 녹두   7330\n",
       "...          ...    ...       ...     ...                ...    ...\n",
       "97404 2019-08-30   경북포항       5마리  중(2등급)                새우류   5620\n",
       "97405 2019-08-30   경북안동       5마리  중(2등급)                새우류   4800\n",
       "97406 2019-08-30   경남창원       5마리  중(2등급)                새우류   4750\n",
       "97407 2019-08-30   경남창원       5마리  중(2등급)                새우류   4400\n",
       "97408 2019-08-30     제주       5마리  중(2등급)                새우류   4770\n",
       "\n",
       "[12432 rows x 6 columns]"
      ]
     },
     "execution_count": 32,
     "metadata": {},
     "output_type": "execute_result"
    }
   ],
   "source": [
    "filter_df"
   ]
  },
  {
   "cell_type": "code",
   "execution_count": 25,
   "metadata": {},
   "outputs": [],
   "source": [
    "filter_series = retail_df[~retail_df[\"standard_item_name\"].isin(high_list)]['standard_item_name']"
   ]
  },
  {
   "cell_type": "code",
   "execution_count": 26,
   "metadata": {},
   "outputs": [],
   "source": [
    "drop_dup = filter_series.drop_duplicates()"
   ]
  },
  {
   "cell_type": "code",
   "execution_count": 33,
   "metadata": {},
   "outputs": [],
   "source": [
    "drop_list = drop_dup.to_list()"
   ]
  },
  {
   "cell_type": "code",
   "execution_count": 34,
   "metadata": {
    "collapsed": true
   },
   "outputs": [
    {
     "data": {
      "text/plain": [
       "['녹두',\n",
       " '시금치',\n",
       " '미나리',\n",
       " '느타리버섯',\n",
       " '복숭아',\n",
       " '참다래(키위)',\n",
       " '오렌지',\n",
       " '방울토마토',\n",
       " '체리',\n",
       " '블루베리',\n",
       " '닭고기',\n",
       " '꽁치류',\n",
       " '갈치류',\n",
       " '명태류',\n",
       " '오징어류',\n",
       " '멸치류',\n",
       " '건가공(포)류',\n",
       " '김류',\n",
       " '조기류',\n",
       " '젓갈(일반)류',\n",
       " '전복류',\n",
       " '새우류']"
      ]
     },
     "execution_count": 34,
     "metadata": {},
     "output_type": "execute_result"
    }
   ],
   "source": [
    "drop_list"
   ]
  },
  {
   "cell_type": "code",
   "execution_count": 30,
   "metadata": {},
   "outputs": [],
   "source": [
    "replace_df = retail_df.replace(drop_list,'그외')"
   ]
  },
  {
   "cell_type": "code",
   "execution_count": 31,
   "metadata": {
    "collapsed": true
   },
   "outputs": [
    {
     "data": {
      "text/html": [
       "<div>\n",
       "<style scoped>\n",
       "    .dataframe tbody tr th:only-of-type {\n",
       "        vertical-align: middle;\n",
       "    }\n",
       "\n",
       "    .dataframe tbody tr th {\n",
       "        vertical-align: top;\n",
       "    }\n",
       "\n",
       "    .dataframe thead th {\n",
       "        text-align: right;\n",
       "    }\n",
       "</style>\n",
       "<table border=\"1\" class=\"dataframe\">\n",
       "  <thead>\n",
       "    <tr style=\"text-align: right;\">\n",
       "      <th></th>\n",
       "      <th>date</th>\n",
       "      <th>region</th>\n",
       "      <th>unit_name</th>\n",
       "      <th>grade</th>\n",
       "      <th>standard_item_name</th>\n",
       "      <th>price</th>\n",
       "    </tr>\n",
       "  </thead>\n",
       "  <tbody>\n",
       "    <tr>\n",
       "      <th>0</th>\n",
       "      <td>2019-08-01</td>\n",
       "      <td>서울서부</td>\n",
       "      <td>20KG</td>\n",
       "      <td>상(1등급)</td>\n",
       "      <td>벼</td>\n",
       "      <td>54300</td>\n",
       "    </tr>\n",
       "    <tr>\n",
       "      <th>1</th>\n",
       "      <td>2019-08-01</td>\n",
       "      <td>서울서부</td>\n",
       "      <td>20KG</td>\n",
       "      <td>상(1등급)</td>\n",
       "      <td>벼</td>\n",
       "      <td>53200</td>\n",
       "    </tr>\n",
       "    <tr>\n",
       "      <th>2</th>\n",
       "      <td>2019-08-01</td>\n",
       "      <td>서울서부</td>\n",
       "      <td>20KG</td>\n",
       "      <td>상(1등급)</td>\n",
       "      <td>벼</td>\n",
       "      <td>50600</td>\n",
       "    </tr>\n",
       "    <tr>\n",
       "      <th>5</th>\n",
       "      <td>2019-08-01</td>\n",
       "      <td>서울</td>\n",
       "      <td>20KG</td>\n",
       "      <td>상(1등급)</td>\n",
       "      <td>벼</td>\n",
       "      <td>54000</td>\n",
       "    </tr>\n",
       "    <tr>\n",
       "      <th>6</th>\n",
       "      <td>2019-08-01</td>\n",
       "      <td>서울</td>\n",
       "      <td>20KG</td>\n",
       "      <td>상(1등급)</td>\n",
       "      <td>벼</td>\n",
       "      <td>47900</td>\n",
       "    </tr>\n",
       "    <tr>\n",
       "      <th>...</th>\n",
       "      <td>...</td>\n",
       "      <td>...</td>\n",
       "      <td>...</td>\n",
       "      <td>...</td>\n",
       "      <td>...</td>\n",
       "      <td>...</td>\n",
       "    </tr>\n",
       "    <tr>\n",
       "      <th>97404</th>\n",
       "      <td>2019-08-30</td>\n",
       "      <td>경북포항</td>\n",
       "      <td>5마리</td>\n",
       "      <td>중(2등급)</td>\n",
       "      <td>그외</td>\n",
       "      <td>5620</td>\n",
       "    </tr>\n",
       "    <tr>\n",
       "      <th>97405</th>\n",
       "      <td>2019-08-30</td>\n",
       "      <td>경북안동</td>\n",
       "      <td>5마리</td>\n",
       "      <td>중(2등급)</td>\n",
       "      <td>그외</td>\n",
       "      <td>4800</td>\n",
       "    </tr>\n",
       "    <tr>\n",
       "      <th>97406</th>\n",
       "      <td>2019-08-30</td>\n",
       "      <td>경남창원</td>\n",
       "      <td>5마리</td>\n",
       "      <td>중(2등급)</td>\n",
       "      <td>그외</td>\n",
       "      <td>4750</td>\n",
       "    </tr>\n",
       "    <tr>\n",
       "      <th>97407</th>\n",
       "      <td>2019-08-30</td>\n",
       "      <td>경남창원</td>\n",
       "      <td>5마리</td>\n",
       "      <td>중(2등급)</td>\n",
       "      <td>그외</td>\n",
       "      <td>4400</td>\n",
       "    </tr>\n",
       "    <tr>\n",
       "      <th>97408</th>\n",
       "      <td>2019-08-30</td>\n",
       "      <td>제주</td>\n",
       "      <td>5마리</td>\n",
       "      <td>중(2등급)</td>\n",
       "      <td>그외</td>\n",
       "      <td>4770</td>\n",
       "    </tr>\n",
       "  </tbody>\n",
       "</table>\n",
       "<p>81737 rows × 6 columns</p>\n",
       "</div>"
      ],
      "text/plain": [
       "            date region unit_name   grade standard_item_name  price\n",
       "0     2019-08-01   서울서부      20KG  상(1등급)                  벼  54300\n",
       "1     2019-08-01   서울서부      20KG  상(1등급)                  벼  53200\n",
       "2     2019-08-01   서울서부      20KG  상(1등급)                  벼  50600\n",
       "5     2019-08-01     서울      20KG  상(1등급)                  벼  54000\n",
       "6     2019-08-01     서울      20KG  상(1등급)                  벼  47900\n",
       "...          ...    ...       ...     ...                ...    ...\n",
       "97404 2019-08-30   경북포항       5마리  중(2등급)                 그외   5620\n",
       "97405 2019-08-30   경북안동       5마리  중(2등급)                 그외   4800\n",
       "97406 2019-08-30   경남창원       5마리  중(2등급)                 그외   4750\n",
       "97407 2019-08-30   경남창원       5마리  중(2등급)                 그외   4400\n",
       "97408 2019-08-30     제주       5마리  중(2등급)                 그외   4770\n",
       "\n",
       "[81737 rows x 6 columns]"
      ]
     },
     "execution_count": 31,
     "metadata": {},
     "output_type": "execute_result"
    }
   ],
   "source": [
    "replace_df"
   ]
  },
  {
   "cell_type": "code",
   "execution_count": 38,
   "metadata": {},
   "outputs": [],
   "source": [
    "a = list(retail_df[\"standard_item_name\"].unique())"
   ]
  },
  {
   "cell_type": "code",
   "execution_count": 40,
   "metadata": {},
   "outputs": [],
   "source": [
    "def filter_sparse(df: pd.DataFrame, column: str, sparse_list: list, to_word: str = \"others\"):\n",
    "    filter_list = list(set(list(df[column].unique())) - set(sparse_list))\n",
    "    return df.replace(filter_list, to_word)\n"
   ]
  },
  {
   "cell_type": "code",
   "execution_count": null,
   "metadata": {},
   "outputs": [],
   "source": [
    "a = filter_sparse(retail_df , column=\"standard_item_name\", sparse_list= high_list)"
   ]
  },
  {
   "cell_type": "code",
   "execution_count": null,
   "metadata": {},
   "outputs": [],
   "source": [
    "sim = clean_p[\"standard_item_name\"].value_counts()\n",
    "sparse_index = sim[sim < 440].index\n",
    "\n",
    "filtered = clean_p[\"standard_item_name\"].apply(lambda x: \"그외\" if x in sparse_index else x)\n",
    "filtered"
   ]
  },
  {
   "cell_type": "code",
   "execution_count": null,
   "metadata": {},
   "outputs": [],
   "source": [
    "(filtered.value_counts()/filtered.value_counts().sum()*100).rename(\"%\").to_frame().sort_values(by=\"%\")"
   ]
  },
  {
   "cell_type": "code",
   "execution_count": null,
   "metadata": {},
   "outputs": [],
   "source": [
    "from util.visualize import draw_hist\n",
    "\n",
    "import seaborn as sns\n",
    "import matplotlib.pyplot as plt\n",
    "\n",
    "sns.set(style='darkgrid')\n",
    "\n",
    "sns.countplot(x = 'region',\n",
    "              data = clean_p)\n",
    "plt.show()"
   ]
  },
  {
   "cell_type": "code",
   "execution_count": null,
   "metadata": {},
   "outputs": [],
   "source": []
  },
  {
   "cell_type": "code",
   "execution_count": null,
   "metadata": {},
   "outputs": [],
   "source": [
    "draw_hist(composed.value_counts())"
   ]
  },
  {
   "cell_type": "code",
   "execution_count": null,
   "metadata": {},
   "outputs": [],
   "source": []
  },
  {
   "cell_type": "code",
   "execution_count": null,
   "metadata": {},
   "outputs": [],
   "source": []
  },
  {
   "cell_type": "markdown",
   "metadata": {},
   "source": [
    "# Compare: numeric value( nomal vs log1p ) // Base skew_values"
   ]
  },
  {
   "cell_type": "code",
   "execution_count": null,
   "metadata": {},
   "outputs": [],
   "source": []
  },
  {
   "cell_type": "code",
   "execution_count": null,
   "metadata": {},
   "outputs": [],
   "source": []
  },
  {
   "cell_type": "code",
   "execution_count": null,
   "metadata": {},
   "outputs": [],
   "source": [
    "orgin_df=pd.read_csv('https://production-bobsim.s3.ap-northeast-2.amazonaws.com/public_data/public_price/origin/csv/201908.csv', encoding='euc-kr')"
   ]
  },
  {
   "cell_type": "code",
   "execution_count": null,
   "metadata": {},
   "outputs": [],
   "source": [
    "columns = [\n",
    "            \"조사일자\", \"조사구분명\",\n",
    "            \"표준품목명\", \"조사가격품목명\", \"표준품종명\", \"조사가격품종명\",\n",
    "            \"조사등급명\", \"조사단위명\", \"당일조사가격\", \"조사지역명\"\n",
    "        ]"
   ]
  },
  {
   "cell_type": "code",
   "execution_count": null,
   "metadata": {},
   "outputs": [],
   "source": [
    "filtered_df=orgin_df[columns]"
   ]
  },
  {
   "cell_type": "markdown",
   "metadata": {},
   "source": [
    "## Check numeric type"
   ]
  },
  {
   "cell_type": "code",
   "execution_count": null,
   "metadata": {
    "scrolled": true
   },
   "outputs": [],
   "source": [
    "filtered_df.info()"
   ]
  },
  {
   "cell_type": "markdown",
   "metadata": {},
   "source": [
    "### hist using displot"
   ]
  },
  {
   "cell_type": "code",
   "execution_count": null,
   "metadata": {},
   "outputs": [],
   "source": [
    "# see distribution of numecric type \n",
    "plt.title('price Histogram')\n",
    "sns.distplot(data_df['당일조사가격'])\n"
   ]
  },
  {
   "cell_type": "code",
   "execution_count": null,
   "metadata": {},
   "outputs": [],
   "source": [
    "# check skew \n",
    "from scipy.stats import skew\n",
    "features_index = filtered_df.dtypes[filtered_df.dtypes != 'object'].index\n",
    "\n",
    "# house_df에 컬럼 index를 [ ]로 입력하면 해당하는 컬럼 데이터 셋 반환. apply lambda로 skew( )호출 \n",
    "skew_features = filtered_df[features_index].apply(lambda x : skew(x))\n",
    "\n",
    "# skew 정도가 1 이상인 컬럼들만 추출. \n",
    "skew_features_top = skew_features[skew_features > 1]\n",
    "print(skew_features_top.sort_values(ascending=False))"
   ]
  },
  {
   "cell_type": "markdown",
   "metadata": {},
   "source": [
    "## 로그변환"
   ]
  },
  {
   "cell_type": "code",
   "execution_count": null,
   "metadata": {},
   "outputs": [],
   "source": [
    "filtered_df[skew_features_top.index] = np.log1p(filtered_df[skew_features_top.index])"
   ]
  },
  {
   "cell_type": "markdown",
   "metadata": {},
   "source": [
    "## 분포도 확인 ( 결정한 이유 )"
   ]
  },
  {
   "cell_type": "code",
   "execution_count": null,
   "metadata": {},
   "outputs": [],
   "source": [
    "# see distribution of numecric type \n",
    "plt.title('price Histogram')\n",
    "sns.distplot(filtered_df['당일조사가격'])"
   ]
  },
  {
   "cell_type": "code",
   "execution_count": null,
   "metadata": {},
   "outputs": [],
   "source": [
    "skew(filtered_df['당일조사가격'])"
   ]
  },
  {
   "cell_type": "markdown",
   "metadata": {},
   "source": [
    "### datetime 타입에서 년, 월, 일, 시간 추출\n"
   ]
  },
  {
   "cell_type": "code",
   "execution_count": null,
   "metadata": {},
   "outputs": [],
   "source": [
    "filtered_df['조사일자'] = filtered_df.조사일자.apply(pd.to_datetime)"
   ]
  },
  {
   "cell_type": "code",
   "execution_count": null,
   "metadata": {},
   "outputs": [],
   "source": [
    "filtered_df['year']= filtered_df.조사일자.apply(lambda x : x.year)\n",
    "filtered_df['month']=filtered_df.조사일자.apply(lambda x : x.month)\n",
    "filtered_df['day']=filtered_df.조사일자.apply(lambda x: x.day)"
   ]
  },
  {
   "cell_type": "code",
   "execution_count": null,
   "metadata": {},
   "outputs": [],
   "source": [
    "filtered_df.info()"
   ]
  },
  {
   "cell_type": "code",
   "execution_count": null,
   "metadata": {},
   "outputs": [],
   "source": [
    "temp1=pd.read_csv('https://production-bobsim.s3.ap-northeast-2.amazonaws.com/public_data/public_price/origin/csv/201908.csv', encoding='euc-kr')\n",
    "columns = [\n",
    "            \"조사일자\", \"조사구분명\",\n",
    "            \"표준품목명\", \"조사가격품목명\", \"표준품종명\", \"조사가격품종명\",\n",
    "            \"조사등급명\", \"조사단위명\", \"당일조사가격\", \"조사지역명\"\n",
    "        ]"
   ]
  },
  {
   "cell_type": "code",
   "execution_count": null,
   "metadata": {},
   "outputs": [],
   "source": [
    "def unit_fit(unit_name):\n",
    "    unit=0\n",
    "    if unit_name=='20KG' : unit= 200\n",
    "    elif unit_name=='1.2KG' : unit= 12\n",
    "    elif unit_name=='8KG' : unit= 80\n",
    "    elif unit_name=='1KG' : unit=10\n",
    "    elif unit_name=='1KG(단)' : unit=10\n",
    "    elif unit_name=='1KG(1단)': unit=10\n",
    "    elif unit_name=='10개': unit=10\n",
    "    elif unit_name=='10마리': unit=10\n",
    "    elif unit_name=='1L' : unit=10 \n",
    "    elif unit_name=='100G': unit= 1\n",
    "    elif unit_name=='1개' : unit= 1\n",
    "    elif unit_name=='1마리' : unit= 1\n",
    "    elif unit_name=='1속' : unit= 1\n",
    "    elif unit_name=='1포기' : unit= 1\n",
    "    elif unit_name=='200G' :unit=2\n",
    "    elif unit_name=='2마리' : unit= 2\n",
    "    elif unit_name=='500G' : unit= 5\n",
    "    else: unit = 6\n",
    "    \n",
    "    return unit"
   ]
  },
  {
   "cell_type": "code",
   "execution_count": null,
   "metadata": {},
   "outputs": [],
   "source": [
    "temp2=temp1[temp1['조사구분명']=='소비자가격']\n",
    "temp2 =temp2[['조사일자', '조사가격품목명','표준품종명','조사가격품종명','표준품목명','조사지역명','조사단위명','당일조사가격']]\n"
   ]
  },
  {
   "cell_type": "code",
   "execution_count": null,
   "metadata": {},
   "outputs": [],
   "source": [
    "temp2['price_unit']= temp2['조사단위명'].apply(lambda x : unit_fit(x))\n",
    "temp2['averge_price']= temp2['당일조사가격']/temp2['price_unit']"
   ]
  },
  {
   "cell_type": "code",
   "execution_count": null,
   "metadata": {},
   "outputs": [],
   "source": [
    "# see distribution of numecric type \n",
    "plt.title('price Histogram')\n",
    "sns.distplot(temp2['averge_price'])"
   ]
  },
  {
   "cell_type": "code",
   "execution_count": null,
   "metadata": {},
   "outputs": [],
   "source": [
    "skew(temp2['averge_price']) # 소비자가격 skew"
   ]
  },
  {
   "cell_type": "code",
   "execution_count": null,
   "metadata": {},
   "outputs": [],
   "source": [
    "skew(temp1['당일조사가격']) # 모든가격 skew"
   ]
  },
  {
   "cell_type": "code",
   "execution_count": null,
   "metadata": {},
   "outputs": [],
   "source": [
    "temp2['averge_price'] = np.log1p(temp2['averge_price'])\n",
    "print('로그변화 후 skew 값')\n",
    "skew(temp2['averge_price'])"
   ]
  },
  {
   "cell_type": "code",
   "execution_count": null,
   "metadata": {
    "scrolled": true
   },
   "outputs": [],
   "source": [
    "plt.title('price Histogram with log1p')\n",
    "sns.distplot(temp2['averge_price'])"
   ]
  }
 ],
 "metadata": {
  "kernelspec": {
   "display_name": "Python 3",
   "language": "python",
   "name": "python3"
  },
  "language_info": {
   "codemirror_mode": {
    "name": "ipython",
    "version": 3
   },
   "file_extension": ".py",
   "mimetype": "text/x-python",
   "name": "python",
   "nbconvert_exporter": "python",
   "pygments_lexer": "ipython3",
   "version": "3.7.6"
  }
 },
 "nbformat": 4,
 "nbformat_minor": 2
}
