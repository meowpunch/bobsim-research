{
 "cells": [
  {
   "cell_type": "code",
   "execution_count": 4,
   "metadata": {},
   "outputs": [],
   "source": [
    "import pandas as pd\n",
    "import numpy as np\n",
    "import matplotlib.pyplot as plt\n",
    "import seaborn as sns\n",
    "%matplotlib inline"
   ]
  },
  {
   "cell_type": "code",
   "execution_count": 5,
   "metadata": {},
   "outputs": [],
   "source": [
    "from util.general import load_csv_pandas\n",
    "from util.general import load_csv\n",
    "from util.executable import get_destination"
   ]
  },
  {
   "cell_type": "code",
   "execution_count": 6,
   "metadata": {},
   "outputs": [
    {
     "name": "stdout",
     "output_type": "stream",
     "text": [
      "<class 'pandas.core.frame.DataFrame'>\n",
      "RangeIndex: 97414 entries, 0 to 97413\n",
      "Data columns (total 24 columns):\n",
      " #   Column    Non-Null Count  Dtype  \n",
      "---  ------    --------------  -----  \n",
      " 0   조사일자      97414 non-null  object \n",
      " 1   조사구분코드    97414 non-null  int64  \n",
      " 2   조사구분명     97414 non-null  object \n",
      " 3   표준품목코드    97414 non-null  int64  \n",
      " 4   표준품목명     97414 non-null  object \n",
      " 5   조사가격품목코드  97414 non-null  int64  \n",
      " 6   조사가격품목명   97414 non-null  object \n",
      " 7   표준품종코드    97414 non-null  object \n",
      " 8   표준품종명     97414 non-null  object \n",
      " 9   조사가격품종코드  97414 non-null  int64  \n",
      " 10  조사가격품종명   97414 non-null  object \n",
      " 11  조사등급코드    97414 non-null  int64  \n",
      " 12  조사등급명     97414 non-null  object \n",
      " 13  표준단위코드    0 non-null      float64\n",
      " 14  표준단위명     0 non-null      float64\n",
      " 15  조사단위명     97414 non-null  object \n",
      " 16  당일조사가격    97414 non-null  int64  \n",
      " 17  전일조사가격    97414 non-null  int64  \n",
      " 18  조사지역코드    97414 non-null  int64  \n",
      " 19  조사지역명     97414 non-null  object \n",
      " 20  표준시장코드    96721 non-null  float64\n",
      " 21  표준시장명     96721 non-null  object \n",
      " 22  조사가격시장코드  97414 non-null  int64  \n",
      " 23  조사가격시장명   96776 non-null  object \n",
      "dtypes: float64(3), int64(9), object(12)\n",
      "memory usage: 17.8+ MB\n"
     ]
    }
   ],
   "source": [
    "origin_df=pd.read_csv('https://production-bobsim.s3.ap-northeast-2.amazonaws.com/public_data/open_data_raw_material_price/origin/csv/201908.csv', encoding='euc-kr')\n",
    "origin_df.info()\n",
    "\n",
    "columns = [\"조사일자\", \"조사구분명\", \"조사지역명\", \"조사단위명\", \"표준품목명\", \"조사가격품목명\", \"표준품종명\", \"조사가격품종명\", \"당일조사가격\"]"
   ]
  },
  {
   "cell_type": "markdown",
   "metadata": {},
   "source": [
    "**for target, fix 'retail price'** "
   ]
  },
  {
   "cell_type": "code",
   "execution_count": 13,
   "metadata": {
    "scrolled": false
   },
   "outputs": [
    {
     "data": {
      "text/html": [
       "<div>\n",
       "<style scoped>\n",
       "    .dataframe tbody tr th:only-of-type {\n",
       "        vertical-align: middle;\n",
       "    }\n",
       "\n",
       "    .dataframe tbody tr th {\n",
       "        vertical-align: top;\n",
       "    }\n",
       "\n",
       "    .dataframe thead th {\n",
       "        text-align: right;\n",
       "    }\n",
       "</style>\n",
       "<table border=\"1\" class=\"dataframe\">\n",
       "  <thead>\n",
       "    <tr style=\"text-align: right;\">\n",
       "      <th></th>\n",
       "      <th>조사일자</th>\n",
       "      <th>조사지역명</th>\n",
       "      <th>조사단위명</th>\n",
       "      <th>표준품목명</th>\n",
       "      <th>조사가격품목명</th>\n",
       "      <th>표준품종명</th>\n",
       "      <th>조사가격품종명</th>\n",
       "      <th>당일조사가격</th>\n",
       "    </tr>\n",
       "  </thead>\n",
       "  <tbody>\n",
       "    <tr>\n",
       "      <th>0</th>\n",
       "      <td>2019-08-01</td>\n",
       "      <td>서울서부</td>\n",
       "      <td>20KG</td>\n",
       "      <td>벼</td>\n",
       "      <td>쌀</td>\n",
       "      <td>일반계</td>\n",
       "      <td>일반계</td>\n",
       "      <td>54300</td>\n",
       "    </tr>\n",
       "    <tr>\n",
       "      <th>1</th>\n",
       "      <td>2019-08-01</td>\n",
       "      <td>서울서부</td>\n",
       "      <td>20KG</td>\n",
       "      <td>벼</td>\n",
       "      <td>쌀</td>\n",
       "      <td>일반계</td>\n",
       "      <td>일반계</td>\n",
       "      <td>53200</td>\n",
       "    </tr>\n",
       "    <tr>\n",
       "      <th>2</th>\n",
       "      <td>2019-08-01</td>\n",
       "      <td>서울서부</td>\n",
       "      <td>20KG</td>\n",
       "      <td>벼</td>\n",
       "      <td>쌀</td>\n",
       "      <td>일반계</td>\n",
       "      <td>일반계</td>\n",
       "      <td>50600</td>\n",
       "    </tr>\n",
       "    <tr>\n",
       "      <th>5</th>\n",
       "      <td>2019-08-01</td>\n",
       "      <td>서울</td>\n",
       "      <td>20KG</td>\n",
       "      <td>벼</td>\n",
       "      <td>쌀</td>\n",
       "      <td>일반계</td>\n",
       "      <td>일반계</td>\n",
       "      <td>54000</td>\n",
       "    </tr>\n",
       "    <tr>\n",
       "      <th>6</th>\n",
       "      <td>2019-08-01</td>\n",
       "      <td>서울</td>\n",
       "      <td>20KG</td>\n",
       "      <td>벼</td>\n",
       "      <td>쌀</td>\n",
       "      <td>일반계</td>\n",
       "      <td>일반계</td>\n",
       "      <td>47900</td>\n",
       "    </tr>\n",
       "  </tbody>\n",
       "</table>\n",
       "</div>"
      ],
      "text/plain": [
       "         조사일자 조사지역명 조사단위명 표준품목명 조사가격품목명 표준품종명 조사가격품종명  당일조사가격\n",
       "0  2019-08-01  서울서부  20KG     벼       쌀   일반계     일반계   54300\n",
       "1  2019-08-01  서울서부  20KG     벼       쌀   일반계     일반계   53200\n",
       "2  2019-08-01  서울서부  20KG     벼       쌀   일반계     일반계   50600\n",
       "5  2019-08-01    서울  20KG     벼       쌀   일반계     일반계   54000\n",
       "6  2019-08-01    서울  20KG     벼       쌀   일반계     일반계   47900"
      ]
     },
     "execution_count": 13,
     "metadata": {},
     "output_type": "execute_result"
    }
   ],
   "source": [
    "retail_df = origin_df[origin_df['조사구분명']=='소비자가격'][columns].drop('조사구분명', axis=1)\n",
    "retail_df.head()"
   ]
  },
  {
   "cell_type": "code",
   "execution_count": 16,
   "metadata": {},
   "outputs": [
    {
     "name": "stdout",
     "output_type": "stream",
     "text": [
      "<class 'pandas.core.frame.DataFrame'>\n",
      "Int64Index: 81737 entries, 0 to 97408\n",
      "Data columns (total 8 columns):\n",
      " #   Column   Non-Null Count  Dtype \n",
      "---  ------   --------------  ----- \n",
      " 0   조사일자     81737 non-null  object\n",
      " 1   조사지역명    81737 non-null  object\n",
      " 2   조사단위명    81737 non-null  object\n",
      " 3   표준품목명    81737 non-null  object\n",
      " 4   조사가격품목명  81737 non-null  object\n",
      " 5   표준품종명    81737 non-null  object\n",
      " 6   조사가격품종명  81737 non-null  object\n",
      " 7   당일조사가격   81737 non-null  int64 \n",
      "dtypes: int64(1), object(7)\n",
      "memory usage: 5.6+ MB\n"
     ]
    }
   ],
   "source": [
    "retail_df.info()"
   ]
  },
  {
   "cell_type": "code",
   "execution_count": 18,
   "metadata": {},
   "outputs": [
    {
     "data": {
      "text/html": [
       "<div>\n",
       "<style scoped>\n",
       "    .dataframe tbody tr th:only-of-type {\n",
       "        vertical-align: middle;\n",
       "    }\n",
       "\n",
       "    .dataframe tbody tr th {\n",
       "        vertical-align: top;\n",
       "    }\n",
       "\n",
       "    .dataframe thead th {\n",
       "        text-align: right;\n",
       "    }\n",
       "</style>\n",
       "<table border=\"1\" class=\"dataframe\">\n",
       "  <thead>\n",
       "    <tr style=\"text-align: right;\">\n",
       "      <th></th>\n",
       "      <th>당일조사가격</th>\n",
       "    </tr>\n",
       "  </thead>\n",
       "  <tbody>\n",
       "    <tr>\n",
       "      <th>count</th>\n",
       "      <td>81737.000000</td>\n",
       "    </tr>\n",
       "    <tr>\n",
       "      <th>mean</th>\n",
       "      <td>6773.045842</td>\n",
       "    </tr>\n",
       "    <tr>\n",
       "      <th>std</th>\n",
       "      <td>10127.390726</td>\n",
       "    </tr>\n",
       "    <tr>\n",
       "      <th>min</th>\n",
       "      <td>130.000000</td>\n",
       "    </tr>\n",
       "    <tr>\n",
       "      <th>25%</th>\n",
       "      <td>1330.000000</td>\n",
       "    </tr>\n",
       "    <tr>\n",
       "      <th>50%</th>\n",
       "      <td>3160.000000</td>\n",
       "    </tr>\n",
       "    <tr>\n",
       "      <th>75%</th>\n",
       "      <td>7330.000000</td>\n",
       "    </tr>\n",
       "    <tr>\n",
       "      <th>max</th>\n",
       "      <td>84900.000000</td>\n",
       "    </tr>\n",
       "  </tbody>\n",
       "</table>\n",
       "</div>"
      ],
      "text/plain": [
       "             당일조사가격\n",
       "count  81737.000000\n",
       "mean    6773.045842\n",
       "std    10127.390726\n",
       "min      130.000000\n",
       "25%     1330.000000\n",
       "50%     3160.000000\n",
       "75%     7330.000000\n",
       "max    84900.000000"
      ]
     },
     "execution_count": 18,
     "metadata": {},
     "output_type": "execute_result"
    }
   ],
   "source": [
    "retail_df.describe()"
   ]
  },
  {
   "cell_type": "markdown",
   "metadata": {},
   "source": [
    "### null value count"
   ]
  },
  {
   "cell_type": "code",
   "execution_count": 17,
   "metadata": {},
   "outputs": [
    {
     "data": {
      "text/plain": [
       "조사일자       0\n",
       "조사지역명      0\n",
       "조사단위명      0\n",
       "표준품목명      0\n",
       "조사가격품목명    0\n",
       "표준품종명      0\n",
       "조사가격품종명    0\n",
       "당일조사가격     0\n",
       "dtype: int64"
      ]
     },
     "execution_count": 17,
     "metadata": {},
     "output_type": "execute_result"
    }
   ],
   "source": [
    "retail_df.isnull().sum()"
   ]
  },
  {
   "cell_type": "code",
   "execution_count": 123,
   "metadata": {
    "scrolled": false
   },
   "outputs": [
    {
     "data": {
      "text/html": [
       "<div>\n",
       "<style scoped>\n",
       "    .dataframe tbody tr th:only-of-type {\n",
       "        vertical-align: middle;\n",
       "    }\n",
       "\n",
       "    .dataframe tbody tr th {\n",
       "        vertical-align: top;\n",
       "    }\n",
       "\n",
       "    .dataframe thead th {\n",
       "        text-align: right;\n",
       "    }\n",
       "</style>\n",
       "<table border=\"1\" class=\"dataframe\">\n",
       "  <thead>\n",
       "    <tr style=\"text-align: right;\">\n",
       "      <th></th>\n",
       "      <th>조사일자</th>\n",
       "      <th>조사구분명</th>\n",
       "      <th>조사단위명</th>\n",
       "      <th>표준품목명</th>\n",
       "      <th>조사가격품목명</th>\n",
       "      <th>표준품종명</th>\n",
       "      <th>조사가격품종명</th>\n",
       "      <th>조사등급명</th>\n",
       "      <th>당일조사가격</th>\n",
       "      <th>조사지역명</th>\n",
       "      <th>표준시장명</th>\n",
       "      <th>조사가격시장명</th>\n",
       "    </tr>\n",
       "  </thead>\n",
       "  <tbody>\n",
       "    <tr>\n",
       "      <td>0</td>\n",
       "      <td>2019-08-01</td>\n",
       "      <td>소비자가격</td>\n",
       "      <td>20KG</td>\n",
       "      <td>벼</td>\n",
       "      <td>쌀</td>\n",
       "      <td>일반계</td>\n",
       "      <td>일반계</td>\n",
       "      <td>상(1등급)</td>\n",
       "      <td>54300</td>\n",
       "      <td>서울서부</td>\n",
       "      <td>경동시장</td>\n",
       "      <td>경동시장</td>\n",
       "    </tr>\n",
       "    <tr>\n",
       "      <td>1</td>\n",
       "      <td>2019-08-01</td>\n",
       "      <td>소비자가격</td>\n",
       "      <td>20KG</td>\n",
       "      <td>벼</td>\n",
       "      <td>쌀</td>\n",
       "      <td>일반계</td>\n",
       "      <td>일반계</td>\n",
       "      <td>상(1등급)</td>\n",
       "      <td>53200</td>\n",
       "      <td>서울서부</td>\n",
       "      <td>복조리시장</td>\n",
       "      <td>복조리시장</td>\n",
       "    </tr>\n",
       "    <tr>\n",
       "      <td>2</td>\n",
       "      <td>2019-08-01</td>\n",
       "      <td>소비자가격</td>\n",
       "      <td>20KG</td>\n",
       "      <td>벼</td>\n",
       "      <td>쌀</td>\n",
       "      <td>일반계</td>\n",
       "      <td>일반계</td>\n",
       "      <td>상(1등급)</td>\n",
       "      <td>50600</td>\n",
       "      <td>서울서부</td>\n",
       "      <td>영등포 유통상가</td>\n",
       "      <td>영등포시장</td>\n",
       "    </tr>\n",
       "    <tr>\n",
       "      <td>5</td>\n",
       "      <td>2019-08-01</td>\n",
       "      <td>소비자가격</td>\n",
       "      <td>20KG</td>\n",
       "      <td>벼</td>\n",
       "      <td>쌀</td>\n",
       "      <td>일반계</td>\n",
       "      <td>일반계</td>\n",
       "      <td>상(1등급)</td>\n",
       "      <td>54000</td>\n",
       "      <td>서울</td>\n",
       "      <td>롯데마트 잠실점</td>\n",
       "      <td>E-유통</td>\n",
       "    </tr>\n",
       "    <tr>\n",
       "      <td>6</td>\n",
       "      <td>2019-08-01</td>\n",
       "      <td>소비자가격</td>\n",
       "      <td>20KG</td>\n",
       "      <td>벼</td>\n",
       "      <td>쌀</td>\n",
       "      <td>일반계</td>\n",
       "      <td>일반계</td>\n",
       "      <td>상(1등급)</td>\n",
       "      <td>47900</td>\n",
       "      <td>서울</td>\n",
       "      <td>홈플러스 금천점</td>\n",
       "      <td>A-유통</td>\n",
       "    </tr>\n",
       "  </tbody>\n",
       "</table>\n",
       "</div>"
      ],
      "text/plain": [
       "         조사일자  조사구분명 조사단위명 표준품목명 조사가격품목명 표준품종명 조사가격품종명   조사등급명  당일조사가격 조사지역명  \\\n",
       "0  2019-08-01  소비자가격  20KG     벼       쌀   일반계     일반계  상(1등급)   54300  서울서부   \n",
       "1  2019-08-01  소비자가격  20KG     벼       쌀   일반계     일반계  상(1등급)   53200  서울서부   \n",
       "2  2019-08-01  소비자가격  20KG     벼       쌀   일반계     일반계  상(1등급)   50600  서울서부   \n",
       "5  2019-08-01  소비자가격  20KG     벼       쌀   일반계     일반계  상(1등급)   54000    서울   \n",
       "6  2019-08-01  소비자가격  20KG     벼       쌀   일반계     일반계  상(1등급)   47900    서울   \n",
       "\n",
       "      표준시장명 조사가격시장명  \n",
       "0      경동시장    경동시장  \n",
       "1     복조리시장   복조리시장  \n",
       "2  영등포 유통상가   영등포시장  \n",
       "5  롯데마트 잠실점    E-유통  \n",
       "6  홈플러스 금천점    A-유통  "
      ]
     },
     "execution_count": 123,
     "metadata": {},
     "output_type": "execute_result"
    }
   ],
   "source": [
    "filtered_df = retail_df[[\"조사일자\", \"조사구분명\",\"조사단위명\",\n",
    "            \"표준품목명\", \"조사가격품목명\", \"표준품종명\", \"조사가격품종명\",\n",
    "            \"조사등급명\", \"당일조사가격\", \"조사지역명\",\"표준시장명\",\n",
    "                      \"조사가격시장명\"]]\n",
    "filtered_df.head()"
   ]
  },
  {
   "cell_type": "code",
   "execution_count": 125,
   "metadata": {},
   "outputs": [
    {
     "data": {
      "text/plain": [
       "0          20KG\n",
       "55          1KG\n",
       "110        500G\n",
       "368        100G\n",
       "438         1포기\n",
       "746      1KG(단)\n",
       "813          1개\n",
       "882         10개\n",
       "1376    1KG(1단)\n",
       "1439       600G\n",
       "2280       200G\n",
       "3103        2KG\n",
       "3968        30개\n",
       "4008         1L\n",
       "4051        1마리\n",
       "4085        2마리\n",
       "4118        5마리\n",
       "4277       10마리\n",
       "4318         1속\n",
       "4507        5KG\n",
       "Name: 조사단위명, dtype: object"
      ]
     },
     "execution_count": 125,
     "metadata": {},
     "output_type": "execute_result"
    }
   ],
   "source": [
    "filtered_df[\"조사단위명\"].drop_duplicates(inplace=False)"
   ]
  },
  {
   "cell_type": "code",
   "execution_count": 129,
   "metadata": {},
   "outputs": [],
   "source": [
    "    def get_unit(unit_name):\n",
    "        # TODO: handle no supported unit_name\n",
    "        return {\n",
    "            '20KG': 200, '1.2KG': 12, '8KG': 80, '1KG': 10, '1KG(단)': 10, '1KG(1단)': 10,\n",
    "            '500G': 5, '200G': 2, '100G': 1, '30개' : 30, '600G' : 6, '5마리' : 5,\n",
    "            '10마리': 10, '2마리': 2, '1마리': 1, '5KG': 50 , '2KG' : 20 ,\n",
    "            '10개': 10, '1개': 1,\n",
    "            '1L': 10,\n",
    "            '1속': 1,\n",
    "            '1포기': 1,\n",
    "        }.get(unit_name, 1) \n",
    "    def by_unit( df: pd.DataFrame):\n",
    "        \"\"\"\n",
    "            transform unit\n",
    "        :return: transformed pd DataFrame\n",
    "        \"\"\"\n",
    "        return df.assign(\n",
    "            조사단위명=lambda r: r.조사단위명.map(\n",
    "                lambda x: get_unit(x)\n",
    "            )\n",
    "        ).assign(\n",
    "            당일조사가격=lambda x: x.당일조사가격 / x.조사단위명\n",
    "        ).drop(\"조사단위명\", axis=1)"
   ]
  },
  {
   "cell_type": "code",
   "execution_count": 130,
   "metadata": {},
   "outputs": [
    {
     "name": "stdout",
     "output_type": "stream",
     "text": [
      "<class 'pandas.core.frame.DataFrame'>\n",
      "Int64Index: 81737 entries, 0 to 97408\n",
      "Data columns (total 11 columns):\n",
      "조사일자       81737 non-null object\n",
      "조사구분명      81737 non-null object\n",
      "표준품목명      81737 non-null object\n",
      "조사가격품목명    81737 non-null object\n",
      "표준품종명      81737 non-null object\n",
      "조사가격품종명    81737 non-null object\n",
      "조사등급명      81737 non-null object\n",
      "당일조사가격     81737 non-null float64\n",
      "조사지역명      81737 non-null object\n",
      "표준시장명      81737 non-null object\n",
      "조사가격시장명    81737 non-null object\n",
      "dtypes: float64(1), object(10)\n",
      "memory usage: 7.5+ MB\n"
     ]
    }
   ],
   "source": [
    "retail_converted_df = by_unit(filtered_df)\n",
    "retail_converted_df.info()"
   ]
  },
  {
   "cell_type": "markdown",
   "metadata": {},
   "source": [
    "**Reduced columns: \"조사등급명, \"표준시장명\", \"조사가격시장명\"**"
   ]
  },
  {
   "cell_type": "code",
   "execution_count": 131,
   "metadata": {},
   "outputs": [
    {
     "data": {
      "text/html": [
       "<div>\n",
       "<style scoped>\n",
       "    .dataframe tbody tr th:only-of-type {\n",
       "        vertical-align: middle;\n",
       "    }\n",
       "\n",
       "    .dataframe tbody tr th {\n",
       "        vertical-align: top;\n",
       "    }\n",
       "\n",
       "    .dataframe thead th {\n",
       "        text-align: right;\n",
       "    }\n",
       "</style>\n",
       "<table border=\"1\" class=\"dataframe\">\n",
       "  <thead>\n",
       "    <tr style=\"text-align: right;\">\n",
       "      <th></th>\n",
       "      <th>조사일자</th>\n",
       "      <th>조사구분명</th>\n",
       "      <th>표준품목명</th>\n",
       "      <th>조사가격품목명</th>\n",
       "      <th>표준품종명</th>\n",
       "      <th>조사가격품종명</th>\n",
       "      <th>조사지역명</th>\n",
       "      <th>당일조사가격</th>\n",
       "    </tr>\n",
       "  </thead>\n",
       "  <tbody>\n",
       "    <tr>\n",
       "      <td>0</td>\n",
       "      <td>2019-08-01</td>\n",
       "      <td>소비자가격</td>\n",
       "      <td>갈치류</td>\n",
       "      <td>갈치</td>\n",
       "      <td>은갈치</td>\n",
       "      <td>냉동</td>\n",
       "      <td>강원강릉</td>\n",
       "      <td>5490.0</td>\n",
       "    </tr>\n",
       "    <tr>\n",
       "      <td>1</td>\n",
       "      <td>2019-08-01</td>\n",
       "      <td>소비자가격</td>\n",
       "      <td>갈치류</td>\n",
       "      <td>갈치</td>\n",
       "      <td>은갈치</td>\n",
       "      <td>냉동</td>\n",
       "      <td>경기</td>\n",
       "      <td>4270.0</td>\n",
       "    </tr>\n",
       "    <tr>\n",
       "      <td>2</td>\n",
       "      <td>2019-08-01</td>\n",
       "      <td>소비자가격</td>\n",
       "      <td>갈치류</td>\n",
       "      <td>갈치</td>\n",
       "      <td>은갈치</td>\n",
       "      <td>냉동</td>\n",
       "      <td>경기의정부</td>\n",
       "      <td>5490.0</td>\n",
       "    </tr>\n",
       "    <tr>\n",
       "      <td>3</td>\n",
       "      <td>2019-08-01</td>\n",
       "      <td>소비자가격</td>\n",
       "      <td>갈치류</td>\n",
       "      <td>갈치</td>\n",
       "      <td>은갈치</td>\n",
       "      <td>냉동</td>\n",
       "      <td>부산</td>\n",
       "      <td>4630.0</td>\n",
       "    </tr>\n",
       "    <tr>\n",
       "      <td>4</td>\n",
       "      <td>2019-08-01</td>\n",
       "      <td>소비자가격</td>\n",
       "      <td>갈치류</td>\n",
       "      <td>갈치</td>\n",
       "      <td>은갈치</td>\n",
       "      <td>냉동</td>\n",
       "      <td>세종</td>\n",
       "      <td>4980.0</td>\n",
       "    </tr>\n",
       "  </tbody>\n",
       "</table>\n",
       "</div>"
      ],
      "text/plain": [
       "         조사일자  조사구분명 표준품목명 조사가격품목명 표준품종명 조사가격품종명  조사지역명  당일조사가격\n",
       "0  2019-08-01  소비자가격   갈치류      갈치   은갈치      냉동   강원강릉  5490.0\n",
       "1  2019-08-01  소비자가격   갈치류      갈치   은갈치      냉동     경기  4270.0\n",
       "2  2019-08-01  소비자가격   갈치류      갈치   은갈치      냉동  경기의정부  5490.0\n",
       "3  2019-08-01  소비자가격   갈치류      갈치   은갈치      냉동     부산  4630.0\n",
       "4  2019-08-01  소비자가격   갈치류      갈치   은갈치      냉동     세종  4980.0"
      ]
     },
     "execution_count": 131,
     "metadata": {},
     "output_type": "execute_result"
    }
   ],
   "source": [
    "groupby_df = retail_converted_df.groupby([\"조사일자\", \"조사구분명\",\n",
    "            \"표준품목명\", \"조사가격품목명\", \"표준품종명\", \"조사가격품종명\",\n",
    "            \"조사지역명\"]).mean().reset_index()\n",
    "groupby_df.head()"
   ]
  },
  {
   "cell_type": "markdown",
   "metadata": {},
   "source": [
    "**Distribution for origin price**"
   ]
  },
  {
   "cell_type": "code",
   "execution_count": 139,
   "metadata": {},
   "outputs": [
    {
     "data": {
      "text/plain": [
       "<matplotlib.axes._subplots.AxesSubplot at 0x1e387846b48>"
      ]
     },
     "execution_count": 139,
     "metadata": {},
     "output_type": "execute_result"
    },
    {
     "data": {
      "image/png": "[encoded data removed]",
      "text/plain": [
       "<Figure size 432x288 with 1 Axes>"
      ]
     },
     "metadata": {
      "needs_background": "light"
     },
     "output_type": "display_data"
    }
   ],
   "source": [
    "plt.title('Original Price Histogram')\n",
    "sns.distplot(groupby_df['당일조사가격'].rename(\"price\"))"
   ]
  },
  {
   "cell_type": "code",
   "execution_count": 133,
   "metadata": {},
   "outputs": [
    {
     "data": {
      "text/plain": [
       "3.6682901187272154"
      ]
     },
     "execution_count": 133,
     "metadata": {},
     "output_type": "execute_result"
    }
   ],
   "source": [
    "from scipy.stats import skew\n",
    "skew(groupby_df['당일조사가격'])"
   ]
  },
  {
   "cell_type": "markdown",
   "metadata": {},
   "source": [
    "**Distribution for log transformed price**"
   ]
  },
  {
   "cell_type": "code",
   "execution_count": 140,
   "metadata": {},
   "outputs": [
    {
     "data": {
      "text/plain": [
       "<matplotlib.axes._subplots.AxesSubplot at 0x1e38978fd88>"
      ]
     },
     "execution_count": 140,
     "metadata": {},
     "output_type": "execute_result"
    },
    {
     "data": {
      "image/png": "[encoded data removed]",
      "text/plain": [
       "<Figure size 432x288 with 1 Axes>"
      ]
     },
     "metadata": {
      "needs_background": "light"
     },
     "output_type": "display_data"
    }
   ],
   "source": [
    "plt.title('Log Transformed Price Histogram')\n",
    "log_df = np.log1p(groupby_df['당일조사가격'].rename(\"price\"))\n",
    "sns.distplot(log_df)"
   ]
  },
  {
   "cell_type": "code",
   "execution_count": 137,
   "metadata": {},
   "outputs": [
    {
     "data": {
      "text/plain": [
       "-0.0055562657484347884"
      ]
     },
     "execution_count": 137,
     "metadata": {},
     "output_type": "execute_result"
    }
   ],
   "source": [
    "skew(log_df)"
   ]
  },
  {
   "cell_type": "markdown",
   "metadata": {},
   "source": [
    "# Compare: numeric value( nomal vs log1p ) // Base skew_values"
   ]
  },
  {
   "cell_type": "code",
   "execution_count": 66,
   "metadata": {},
   "outputs": [],
   "source": [
    "orgin_df=pd.read_csv('https://production-bobsim.s3.ap-northeast-2.amazonaws.com/public_data/public_price/origin/csv/201908.csv', encoding='euc-kr')"
   ]
  },
  {
   "cell_type": "code",
   "execution_count": 67,
   "metadata": {},
   "outputs": [],
   "source": [
    "columns = [\n",
    "            \"조사일자\", \"조사구분명\",\n",
    "            \"표준품목명\", \"조사가격품목명\", \"표준품종명\", \"조사가격품종명\",\n",
    "            \"조사등급명\", \"조사단위명\", \"당일조사가격\", \"조사지역명\"\n",
    "        ]"
   ]
  },
  {
   "cell_type": "code",
   "execution_count": 68,
   "metadata": {},
   "outputs": [],
   "source": [
    "filtered_df=orgin_df[columns]"
   ]
  },
  {
   "cell_type": "markdown",
   "metadata": {},
   "source": [
    "## Check numeric type"
   ]
  },
  {
   "cell_type": "code",
   "execution_count": 69,
   "metadata": {
    "scrolled": true
   },
   "outputs": [
    {
     "name": "stdout",
     "output_type": "stream",
     "text": [
      "<class 'pandas.core.frame.DataFrame'>\n",
      "RangeIndex: 97414 entries, 0 to 97413\n",
      "Data columns (total 10 columns):\n",
      "조사일자       97414 non-null object\n",
      "조사구분명      97414 non-null object\n",
      "표준품목명      97414 non-null object\n",
      "조사가격품목명    97414 non-null object\n",
      "표준품종명      97414 non-null object\n",
      "조사가격품종명    97414 non-null object\n",
      "조사등급명      97414 non-null object\n",
      "조사단위명      97414 non-null object\n",
      "당일조사가격     97414 non-null int64\n",
      "조사지역명      97414 non-null object\n",
      "dtypes: int64(1), object(9)\n",
      "memory usage: 7.4+ MB\n"
     ]
    }
   ],
   "source": [
    "filtered_df.info()"
   ]
  },
  {
   "cell_type": "markdown",
   "metadata": {},
   "source": [
    "### hist using displot"
   ]
  },
  {
   "cell_type": "code",
   "execution_count": 70,
   "metadata": {},
   "outputs": [
    {
     "data": {
      "text/plain": [
       "<matplotlib.axes._subplots.AxesSubplot at 0x1e3838b1888>"
      ]
     },
     "execution_count": 70,
     "metadata": {},
     "output_type": "execute_result"
    },
    {
     "data": {
      "image/png": "[encoded data removed]",
      "text/plain": [
       "<Figure size 432x288 with 1 Axes>"
      ]
     },
     "metadata": {
      "needs_background": "light"
     },
     "output_type": "display_data"
    }
   ],
   "source": [
    "# see distribution of numecric type \n",
    "plt.title('price Histogram')\n",
    "sns.distplot(data_df['당일조사가격'])\n"
   ]
  },
  {
   "cell_type": "code",
   "execution_count": 71,
   "metadata": {},
   "outputs": [
    {
     "name": "stdout",
     "output_type": "stream",
     "text": [
      "당일조사가격    13.296264\n",
      "dtype: float64\n"
     ]
    }
   ],
   "source": [
    "# check skew \n",
    "from scipy.stats import skew\n",
    "features_index = filtered_df.dtypes[filtered_df.dtypes != 'object'].index\n",
    "\n",
    "# house_df에 컬럼 index를 [ ]로 입력하면 해당하는 컬럼 데이터 셋 반환. apply lambda로 skew( )호출 \n",
    "skew_features = filtered_df[features_index].apply(lambda x : skew(x))\n",
    "\n",
    "# skew 정도가 1 이상인 컬럼들만 추출. \n",
    "skew_features_top = skew_features[skew_features > 1]\n",
    "print(skew_features_top.sort_values(ascending=False))"
   ]
  },
  {
   "cell_type": "markdown",
   "metadata": {},
   "source": [
    "## 로그변환"
   ]
  },
  {
   "cell_type": "code",
   "execution_count": 72,
   "metadata": {},
   "outputs": [
    {
     "name": "stderr",
     "output_type": "stream",
     "text": [
      "C:\\Users\\park\\Anaconda3\\lib\\site-packages\\pandas\\core\\frame.py:3494: SettingWithCopyWarning: \n",
      "A value is trying to be set on a copy of a slice from a DataFrame.\n",
      "Try using .loc[row_indexer,col_indexer] = value instead\n",
      "\n",
      "See the caveats in the documentation: http://pandas.pydata.org/pandas-docs/stable/user_guide/indexing.html#returning-a-view-versus-a-copy\n",
      "  self[k1] = value[k2]\n"
     ]
    }
   ],
   "source": [
    "filtered_df[skew_features_top.index] = np.log1p(filtered_df[skew_features_top.index])"
   ]
  },
  {
   "cell_type": "markdown",
   "metadata": {},
   "source": [
    "## 분포도 확인 ( 결정한 이유 )"
   ]
  },
  {
   "cell_type": "code",
   "execution_count": 73,
   "metadata": {},
   "outputs": [
    {
     "data": {
      "text/plain": [
       "<matplotlib.axes._subplots.AxesSubplot at 0x1e383bc1108>"
      ]
     },
     "execution_count": 73,
     "metadata": {},
     "output_type": "execute_result"
    },
    {
     "data": {
      "image/png": "[encoded data removed]",
      "text/plain": [
       "<Figure size 432x288 with 1 Axes>"
      ]
     },
     "metadata": {
      "needs_background": "light"
     },
     "output_type": "display_data"
    }
   ],
   "source": [
    "# see distribution of numecric type \n",
    "plt.title('price Histogram')\n",
    "sns.distplot(filtered_df['당일조사가격'])"
   ]
  },
  {
   "cell_type": "code",
   "execution_count": 74,
   "metadata": {},
   "outputs": [
    {
     "data": {
      "text/plain": [
       "0.7655006976533527"
      ]
     },
     "execution_count": 74,
     "metadata": {},
     "output_type": "execute_result"
    }
   ],
   "source": [
    "skew(filtered_df['당일조사가격'])"
   ]
  },
  {
   "cell_type": "markdown",
   "metadata": {},
   "source": [
    "### datetime 타입에서 년, 월, 일, 시간 추출\n"
   ]
  },
  {
   "cell_type": "code",
   "execution_count": 75,
   "metadata": {},
   "outputs": [
    {
     "name": "stderr",
     "output_type": "stream",
     "text": [
      "C:\\Users\\park\\Anaconda3\\lib\\site-packages\\ipykernel_launcher.py:1: SettingWithCopyWarning: \n",
      "A value is trying to be set on a copy of a slice from a DataFrame.\n",
      "Try using .loc[row_indexer,col_indexer] = value instead\n",
      "\n",
      "See the caveats in the documentation: http://pandas.pydata.org/pandas-docs/stable/user_guide/indexing.html#returning-a-view-versus-a-copy\n",
      "  \"\"\"Entry point for launching an IPython kernel.\n"
     ]
    }
   ],
   "source": [
    "filtered_df['조사일자'] = filtered_df.조사일자.apply(pd.to_datetime)"
   ]
  },
  {
   "cell_type": "code",
   "execution_count": 76,
   "metadata": {},
   "outputs": [
    {
     "name": "stderr",
     "output_type": "stream",
     "text": [
      "C:\\Users\\park\\Anaconda3\\lib\\site-packages\\ipykernel_launcher.py:1: SettingWithCopyWarning: \n",
      "A value is trying to be set on a copy of a slice from a DataFrame.\n",
      "Try using .loc[row_indexer,col_indexer] = value instead\n",
      "\n",
      "See the caveats in the documentation: http://pandas.pydata.org/pandas-docs/stable/user_guide/indexing.html#returning-a-view-versus-a-copy\n",
      "  \"\"\"Entry point for launching an IPython kernel.\n",
      "C:\\Users\\park\\Anaconda3\\lib\\site-packages\\ipykernel_launcher.py:2: SettingWithCopyWarning: \n",
      "A value is trying to be set on a copy of a slice from a DataFrame.\n",
      "Try using .loc[row_indexer,col_indexer] = value instead\n",
      "\n",
      "See the caveats in the documentation: http://pandas.pydata.org/pandas-docs/stable/user_guide/indexing.html#returning-a-view-versus-a-copy\n",
      "  \n",
      "C:\\Users\\park\\Anaconda3\\lib\\site-packages\\ipykernel_launcher.py:3: SettingWithCopyWarning: \n",
      "A value is trying to be set on a copy of a slice from a DataFrame.\n",
      "Try using .loc[row_indexer,col_indexer] = value instead\n",
      "\n",
      "See the caveats in the documentation: http://pandas.pydata.org/pandas-docs/stable/user_guide/indexing.html#returning-a-view-versus-a-copy\n",
      "  This is separate from the ipykernel package so we can avoid doing imports until\n"
     ]
    }
   ],
   "source": [
    "filtered_df['year']= filtered_df.조사일자.apply(lambda x : x.year)\n",
    "filtered_df['month']=filtered_df.조사일자.apply(lambda x : x.month)\n",
    "filtered_df['day']=filtered_df.조사일자.apply(lambda x: x.day)"
   ]
  },
  {
   "cell_type": "code",
   "execution_count": 77,
   "metadata": {},
   "outputs": [
    {
     "name": "stdout",
     "output_type": "stream",
     "text": [
      "<class 'pandas.core.frame.DataFrame'>\n",
      "RangeIndex: 97414 entries, 0 to 97413\n",
      "Data columns (total 13 columns):\n",
      "조사일자       97414 non-null datetime64[ns]\n",
      "조사구분명      97414 non-null object\n",
      "표준품목명      97414 non-null object\n",
      "조사가격품목명    97414 non-null object\n",
      "표준품종명      97414 non-null object\n",
      "조사가격품종명    97414 non-null object\n",
      "조사등급명      97414 non-null object\n",
      "조사단위명      97414 non-null object\n",
      "당일조사가격     97414 non-null float64\n",
      "조사지역명      97414 non-null object\n",
      "year       97414 non-null int64\n",
      "month      97414 non-null int64\n",
      "day        97414 non-null int64\n",
      "dtypes: datetime64[ns](1), float64(1), int64(3), object(8)\n",
      "memory usage: 9.7+ MB\n"
     ]
    }
   ],
   "source": [
    "filtered_df.info()"
   ]
  },
  {
   "cell_type": "code",
   "execution_count": 78,
   "metadata": {},
   "outputs": [],
   "source": [
    "temp1=pd.read_csv('https://production-bobsim.s3.ap-northeast-2.amazonaws.com/public_data/public_price/origin/csv/201908.csv', encoding='euc-kr')\n",
    "columns = [\n",
    "            \"조사일자\", \"조사구분명\",\n",
    "            \"표준품목명\", \"조사가격품목명\", \"표준품종명\", \"조사가격품종명\",\n",
    "            \"조사등급명\", \"조사단위명\", \"당일조사가격\", \"조사지역명\"\n",
    "        ]"
   ]
  },
  {
   "cell_type": "code",
   "execution_count": 103,
   "metadata": {},
   "outputs": [],
   "source": [
    "def unit_fit(unit_name):\n",
    "    unit=0\n",
    "    if unit_name=='20KG' : unit= 200\n",
    "    elif unit_name=='1.2KG' : unit= 12\n",
    "    elif unit_name=='8KG' : unit= 80\n",
    "    elif unit_name=='1KG' : unit=10\n",
    "    elif unit_name=='1KG(단)' : unit=10\n",
    "    elif unit_name=='1KG(1단)': unit=10\n",
    "    elif unit_name=='10개': unit=10\n",
    "    elif unit_name=='10마리': unit=10\n",
    "    elif unit_name=='1L' : unit=10 \n",
    "    elif unit_name=='100G': unit= 1\n",
    "    elif unit_name=='1개' : unit= 1\n",
    "    elif unit_name=='1마리' : unit= 1\n",
    "    elif unit_name=='1속' : unit= 1\n",
    "    elif unit_name=='1포기' : unit= 1\n",
    "    elif unit_name=='200G' :unit=2\n",
    "    elif unit_name=='2마리' : unit= 2\n",
    "    elif unit_name=='500G' : unit= 5\n",
    "    else: unit = 6\n",
    "    \n",
    "    return unit"
   ]
  },
  {
   "cell_type": "code",
   "execution_count": 105,
   "metadata": {},
   "outputs": [],
   "source": [
    "temp2=temp1[temp1['조사구분명']=='소비자가격']\n",
    "temp2 =temp2[['조사일자', '조사가격품목명','표준품종명','조사가격품종명','표준품목명','조사지역명','조사단위명','당일조사가격']]\n"
   ]
  },
  {
   "cell_type": "code",
   "execution_count": 106,
   "metadata": {},
   "outputs": [],
   "source": [
    "temp2['price_unit']= temp2['조사단위명'].apply(lambda x : unit_fit(x))\n",
    "temp2['averge_price']= temp2['당일조사가격']/temp2['price_unit']"
   ]
  },
  {
   "cell_type": "code",
   "execution_count": 107,
   "metadata": {},
   "outputs": [
    {
     "data": {
      "text/plain": [
       "<matplotlib.axes._subplots.AxesSubplot at 0x1e389364388>"
      ]
     },
     "execution_count": 107,
     "metadata": {},
     "output_type": "execute_result"
    },
    {
     "data": {
      "image/png": "[encoded data removed]",
      "text/plain": [
       "<Figure size 432x288 with 1 Axes>"
      ]
     },
     "metadata": {
      "needs_background": "light"
     },
     "output_type": "display_data"
    }
   ],
   "source": [
    "# see distribution of numecric type \n",
    "plt.title('price Histogram')\n",
    "sns.distplot(temp2['averge_price'])"
   ]
  },
  {
   "cell_type": "code",
   "execution_count": 108,
   "metadata": {},
   "outputs": [
    {
     "data": {
      "text/plain": [
       "3.8459733534846507"
      ]
     },
     "execution_count": 108,
     "metadata": {},
     "output_type": "execute_result"
    }
   ],
   "source": [
    "skew(temp2['averge_price']) # 소비자가격 skew"
   ]
  },
  {
   "cell_type": "code",
   "execution_count": 84,
   "metadata": {},
   "outputs": [
    {
     "data": {
      "text/plain": [
       "13.296264438735514"
      ]
     },
     "execution_count": 84,
     "metadata": {},
     "output_type": "execute_result"
    }
   ],
   "source": [
    "skew(temp1['당일조사가격']) # 모든가격 skew"
   ]
  },
  {
   "cell_type": "code",
   "execution_count": 85,
   "metadata": {},
   "outputs": [
    {
     "name": "stdout",
     "output_type": "stream",
     "text": [
      "로그변화 후 skew 값\n"
     ]
    },
    {
     "data": {
      "text/plain": [
       "0.12372746170184191"
      ]
     },
     "execution_count": 85,
     "metadata": {},
     "output_type": "execute_result"
    }
   ],
   "source": [
    "temp2['averge_price'] = np.log1p(temp2['averge_price'])\n",
    "print('로그변화 후 skew 값')\n",
    "skew(temp2['averge_price'])"
   ]
  },
  {
   "cell_type": "code",
   "execution_count": 86,
   "metadata": {
    "scrolled": true
   },
   "outputs": [
    {
     "data": {
      "text/plain": [
       "<matplotlib.axes._subplots.AxesSubplot at 0x1e388074fc8>"
      ]
     },
     "execution_count": 86,
     "metadata": {},
     "output_type": "execute_result"
    },
    {
     "data": {
      "image/png": "[encoded data removed]",
      "text/plain": [
       "<Figure size 432x288 with 1 Axes>"
      ]
     },
     "metadata": {
      "needs_background": "light"
     },
     "output_type": "display_data"
    }
   ],
   "source": [
    "plt.title('price Histogram with log1p')\n",
    "sns.distplot(temp2['averge_price'])"
   ]
  }
 ],
 "metadata": {
  "kernelspec": {
   "display_name": "Python 3",
   "language": "python",
   "name": "python3"
  },
  "language_info": {
   "codemirror_mode": {
    "name": "ipython",
    "version": 3
   },
   "file_extension": ".py",
   "mimetype": "text/x-python",
   "name": "python",
   "nbconvert_exporter": "python",
   "pygments_lexer": "ipython3",
   "version": "3.7.6"
  }
 },
 "nbformat": 4,
 "nbformat_minor": 2
}
