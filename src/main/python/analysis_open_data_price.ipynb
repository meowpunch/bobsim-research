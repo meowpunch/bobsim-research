{
 "cells": [
  {
   "cell_type": "code",
   "execution_count": 4,
   "metadata": {},
   "outputs": [],
   "source": [
    "import pandas as pd\n",
    "import numpy as np\n",
    "import matplotlib.pyplot as plt\n",
    "import seaborn as sns\n",
    "%matplotlib inline"
   ]
  },
  {
   "cell_type": "code",
   "execution_count": 5,
   "metadata": {},
   "outputs": [],
   "source": [
    "from util.general import load_csv_pandas\n",
    "from util.general import load_csv\n",
    "from util.executable import get_destination"
   ]
  },
  {
   "cell_type": "code",
   "execution_count": 1,
   "metadata": {},
   "outputs": [
    {
     "name": "stderr",
     "output_type": "stream",
     "text": [
      "2020-04-08 23:13:58:manager:<INFO> 1 files is loaded from public_data/open_data_raw_material_price/origin/csv/201908.csv in s3 'production-bobsim'\n"
     ]
    }
   ],
   "source": [
    "from util.build_dataset import build_origin_price\n",
    "\n",
    "origin_p_df, key = build_origin_price(date=\"201908\")"
   ]
  },
  {
   "cell_type": "markdown",
   "metadata": {},
   "source": [
    "**for target, fix 'retail price'** "
   ]
  },
  {
   "cell_type": "code",
   "execution_count": 2,
   "metadata": {},
   "outputs": [],
   "source": [
    "retail_df = origin_p_df[origin_p_df['class']=='소비자가격'].drop('class', axis=1)"
   ]
  },
  {
   "cell_type": "code",
   "execution_count": 3,
   "metadata": {},
   "outputs": [
    {
     "name": "stdout",
     "output_type": "stream",
     "text": [
      "<class 'pandas.core.frame.DataFrame'>\n",
      "Int64Index: 81737 entries, 0 to 97408\n",
      "Data columns (total 6 columns):\n",
      " #   Column              Non-Null Count  Dtype         \n",
      "---  ------              --------------  -----         \n",
      " 0   date                81737 non-null  datetime64[ns]\n",
      " 1   region              81737 non-null  object        \n",
      " 2   unit_name           81737 non-null  object        \n",
      " 3   grade               81737 non-null  object        \n",
      " 4   standard_item_name  81737 non-null  object        \n",
      " 5   price               81737 non-null  int32         \n",
      "dtypes: datetime64[ns](1), int32(1), object(4)\n",
      "memory usage: 4.1+ MB\n"
     ]
    }
   ],
   "source": [
    "retail_df.info()"
   ]
  },
  {
   "cell_type": "markdown",
   "metadata": {},
   "source": [
    "### null value count"
   ]
  },
  {
   "cell_type": "code",
   "execution_count": 8,
   "metadata": {},
   "outputs": [
    {
     "data": {
      "text/plain": [
       "date                      0\n",
       "region                    0\n",
       "unit_name                 0\n",
       "grade                     0\n",
       "standard_item_name        0\n",
       "survey_price_item_name    0\n",
       "standard_breed_name       0\n",
       "survey_price_type_name    0\n",
       "price                     0\n",
       "dtype: int64"
      ]
     },
     "execution_count": 8,
     "metadata": {},
     "output_type": "execute_result"
    }
   ],
   "source": [
    "retail_df.isnull().sum()"
   ]
  },
  {
   "cell_type": "code",
   "execution_count": 125,
   "metadata": {},
   "outputs": [
    {
     "data": {
      "text/plain": [
       "0          20KG\n",
       "55          1KG\n",
       "110        500G\n",
       "368        100G\n",
       "438         1포기\n",
       "746      1KG(단)\n",
       "813          1개\n",
       "882         10개\n",
       "1376    1KG(1단)\n",
       "1439       600G\n",
       "2280       200G\n",
       "3103        2KG\n",
       "3968        30개\n",
       "4008         1L\n",
       "4051        1마리\n",
       "4085        2마리\n",
       "4118        5마리\n",
       "4277       10마리\n",
       "4318         1속\n",
       "4507        5KG\n",
       "Name: 조사단위명, dtype: object"
      ]
     },
     "execution_count": 125,
     "metadata": {},
     "output_type": "execute_result"
    }
   ],
   "source": [
    "filtered_df[\"조사단위명\"].drop_duplicates(inplace=False)"
   ]
  },
  {
   "cell_type": "code",
   "execution_count": 129,
   "metadata": {},
   "outputs": [],
   "source": [
    "    def get_unit(unit_name):\n",
    "        # TODO: handle no supported unit_name\n",
    "        return {\n",
    "            '20KG': 200, '1.2KG': 12, '8KG': 80, '1KG': 10, '1KG(단)': 10, '1KG(1단)': 10,\n",
    "            '500G': 5, '200G': 2, '100G': 1, '30개' : 30, '600G' : 6, '5마리' : 5,\n",
    "            '10마리': 10, '2마리': 2, '1마리': 1, '5KG': 50 , '2KG' : 20 ,\n",
    "            '10개': 10, '1개': 1,\n",
    "            '1L': 10,\n",
    "            '1속': 1,\n",
    "            '1포기': 1,\n",
    "        }.get(unit_name, 1) \n",
    "    def by_unit( df: pd.DataFrame):\n",
    "        \"\"\"\n",
    "            transform unit\n",
    "        :return: transformed pd DataFrame\n",
    "        \"\"\"\n",
    "        return df.assign(\n",
    "            조사단위명=lambda r: r.조사단위명.map(\n",
    "                lambda x: get_unit(x)\n",
    "            )\n",
    "        ).assign(\n",
    "            당일조사가격=lambda x: x.당일조사가격 / x.조사단위명\n",
    "        ).drop(\"조사단위명\", axis=1)"
   ]
  },
  {
   "cell_type": "code",
   "execution_count": 130,
   "metadata": {},
   "outputs": [
    {
     "name": "stdout",
     "output_type": "stream",
     "text": [
      "<class 'pandas.core.frame.DataFrame'>\n",
      "Int64Index: 81737 entries, 0 to 97408\n",
      "Data columns (total 11 columns):\n",
      "조사일자       81737 non-null object\n",
      "조사구분명      81737 non-null object\n",
      "표준품목명      81737 non-null object\n",
      "조사가격품목명    81737 non-null object\n",
      "표준품종명      81737 non-null object\n",
      "조사가격품종명    81737 non-null object\n",
      "조사등급명      81737 non-null object\n",
      "당일조사가격     81737 non-null float64\n",
      "조사지역명      81737 non-null object\n",
      "표준시장명      81737 non-null object\n",
      "조사가격시장명    81737 non-null object\n",
      "dtypes: float64(1), object(10)\n",
      "memory usage: 7.5+ MB\n"
     ]
    }
   ],
   "source": [
    "retail_converted_df = by_unit(filtered_df)\n",
    "retail_converted_df.info()"
   ]
  },
  {
   "cell_type": "markdown",
   "metadata": {},
   "source": [
    "## load cleaned data"
   ]
  },
  {
   "cell_type": "code",
   "execution_count": 4,
   "metadata": {},
   "outputs": [
    {
     "name": "stderr",
     "output_type": "stream",
     "text": [
      "2020-04-08 23:35:51:manager:<INFO> 1 files is loaded from public_data/open_data_raw_material_price/origin/csv/201908.csv in s3 'production-bobsim'\n",
      "2020-04-08 23:35:52:core:<INFO> missing values: \n",
      " None\n",
      "2020-04-08 23:35:52:manager:<INFO> 1 files is loaded from public_data/open_data_raw_material_price/process/csv/201908.csv in s3 'production-bobsim'\n"
     ]
    }
   ],
   "source": [
    "from util.build_dataset import build_master, build_origin_price, build_process_price\n",
    "\n",
    "clean_p, c_key = build_origin_price(date=\"201908\", prefix=\"clean\")\n",
    "process_p, p_key = build_process_price(date=\"201908\")"
   ]
  },
  {
   "cell_type": "code",
   "execution_count": 2,
   "metadata": {},
   "outputs": [
    {
     "data": {
      "image/png": "[encoded data removed]",
      "text/plain": [
       "<Figure size 432x288 with 1 Axes>"
      ]
     },
     "metadata": {
      "needs_background": "light"
     },
     "output_type": "display_data"
    }
   ],
   "source": [
    "from util.visualize import show_hist\n",
    "show_hist(clean_p[\"price\"])"
   ]
  },
  {
   "cell_type": "code",
   "execution_count": 27,
   "metadata": {},
   "outputs": [],
   "source": [
    "from io import StringIO, BytesIO\n",
    "import matplotlib.pyplot as plt\n",
    "import pandas as pd\n",
    "import seaborn as sns\n",
    "import boto3\n",
    "from util.s3_manager import manager\n",
    "\n",
    "\n",
    "\n",
    "def save_hist(s: pd.Series, name):\n",
    "    plt.title('{name}_histogram'.format(name=s.name))\n",
    "    sns.distplot(s)\n",
    "    \n",
    "    save(name=name)\n",
    "    plt.figure()\n",
    "    "
   ]
  },
  {
   "cell_type": "code",
   "execution_count": 28,
   "metadata": {},
   "outputs": [],
   "source": [
    "from io import StringIO, BytesIO\n",
    "import matplotlib.pyplot as plt\n",
    "import pandas as pd\n",
    "import seaborn as sns\n",
    "import boto3\n",
    "from util.s3_manager import manager\n",
    "\n",
    "def save(name):\n",
    "    img_data = BytesIO()\n",
    "    plt.savefig(img_data, format='png')\n",
    "    img_data.seek(0)\n",
    "\n",
    "    s3 = boto3.resource('s3')\n",
    "    bucket = s3.Bucket(\"production-bobsim\")\n",
    "    bucket.put_object(Body=img_data, Key=\"food_material_price_predict_model/{name}_histogram.png\".format(name=name))\n",
    "    \n",
    "    "
   ]
  },
  {
   "cell_type": "code",
   "execution_count": 29,
   "metadata": {
    "scrolled": true
   },
   "outputs": [
    {
     "data": {
      "image/png": "[encoded data removed]",
      "text/plain": [
       "<Figure size 432x288 with 1 Axes>"
      ]
     },
     "metadata": {
      "needs_background": "light"
     },
     "output_type": "display_data"
    },
    {
     "data": {
      "image/png": "[encoded data removed]",
      "text/plain": [
       "<Figure size 432x288 with 1 Axes>"
      ]
     },
     "metadata": {
      "needs_background": "light"
     },
     "output_type": "display_data"
    },
    {
     "data": {
      "text/plain": [
       "<Figure size 432x288 with 0 Axes>"
      ]
     },
     "metadata": {},
     "output_type": "display_data"
    }
   ],
   "source": [
    "save_hist(process_p[\"price\"], name=\"process\")\n",
    "save_hist(clean_p[\"price\"], name=\"clean\")\n",
    "\n"
   ]
  },
  {
   "cell_type": "markdown",
   "metadata": {},
   "source": [
    "**Distribution for origin price**"
   ]
  },
  {
   "cell_type": "code",
   "execution_count": 139,
   "metadata": {},
   "outputs": [
    {
     "data": {
      "text/plain": [
       "<matplotlib.axes._subplots.AxesSubplot at 0x1e387846b48>"
      ]
     },
     "execution_count": 139,
     "metadata": {},
     "output_type": "execute_result"
    },
    {
     "data": {
      "image/png": "[encoded data removed]",
      "text/plain": [
       "<Figure size 432x288 with 1 Axes>"
      ]
     },
     "metadata": {
      "needs_background": "light"
     },
     "output_type": "display_data"
    }
   ],
   "source": [
    "plt.title('Original Price Histogram')\n",
    "sns.distplot(groupby_df['당일조사가격'].rename(\"price\"))"
   ]
  },
  {
   "cell_type": "code",
   "execution_count": 133,
   "metadata": {},
   "outputs": [
    {
     "data": {
      "text/plain": [
       "3.6682901187272154"
      ]
     },
     "execution_count": 133,
     "metadata": {},
     "output_type": "execute_result"
    }
   ],
   "source": [
    "from scipy.stats import skew\n",
    "skew(groupby_df['당일조사가격'])"
   ]
  },
  {
   "cell_type": "markdown",
   "metadata": {},
   "source": [
    "**Distribution for log transformed price**"
   ]
  },
  {
   "cell_type": "code",
   "execution_count": 140,
   "metadata": {},
   "outputs": [
    {
     "data": {
      "text/plain": [
       "<matplotlib.axes._subplots.AxesSubplot at 0x1e38978fd88>"
      ]
     },
     "execution_count": 140,
     "metadata": {},
     "output_type": "execute_result"
    },
    {
     "data": {
      "image/png": "[encoded data removed]",
      "text/plain": [
       "<Figure size 432x288 with 1 Axes>"
      ]
     },
     "metadata": {
      "needs_background": "light"
     },
     "output_type": "display_data"
    }
   ],
   "source": [
    "plt.title('Log Transformed Price Histogram')\n",
    "log_df = np.log1p(groupby_df['당일조사가격'].rename(\"price\"))\n",
    "sns.distplot(log_df)"
   ]
  },
  {
   "cell_type": "code",
   "execution_count": 137,
   "metadata": {},
   "outputs": [
    {
     "data": {
      "text/plain": [
       "-0.0055562657484347884"
      ]
     },
     "execution_count": 137,
     "metadata": {},
     "output_type": "execute_result"
    }
   ],
   "source": [
    "skew(log_df)"
   ]
  },
  {
   "cell_type": "markdown",
   "metadata": {},
   "source": [
    "# Compare: numeric value( nomal vs log1p ) // Base skew_values"
   ]
  },
  {
   "cell_type": "code",
   "execution_count": 66,
   "metadata": {},
   "outputs": [],
   "source": [
    "orgin_df=pd.read_csv('https://production-bobsim.s3.ap-northeast-2.amazonaws.com/public_data/public_price/origin/csv/201908.csv', encoding='euc-kr')"
   ]
  },
  {
   "cell_type": "code",
   "execution_count": 67,
   "metadata": {},
   "outputs": [],
   "source": [
    "columns = [\n",
    "            \"조사일자\", \"조사구분명\",\n",
    "            \"표준품목명\", \"조사가격품목명\", \"표준품종명\", \"조사가격품종명\",\n",
    "            \"조사등급명\", \"조사단위명\", \"당일조사가격\", \"조사지역명\"\n",
    "        ]"
   ]
  },
  {
   "cell_type": "code",
   "execution_count": 68,
   "metadata": {},
   "outputs": [],
   "source": [
    "filtered_df=orgin_df[columns]"
   ]
  },
  {
   "cell_type": "markdown",
   "metadata": {},
   "source": [
    "## Check numeric type"
   ]
  },
  {
   "cell_type": "code",
   "execution_count": 69,
   "metadata": {
    "scrolled": true
   },
   "outputs": [
    {
     "name": "stdout",
     "output_type": "stream",
     "text": [
      "<class 'pandas.core.frame.DataFrame'>\n",
      "RangeIndex: 97414 entries, 0 to 97413\n",
      "Data columns (total 10 columns):\n",
      "조사일자       97414 non-null object\n",
      "조사구분명      97414 non-null object\n",
      "표준품목명      97414 non-null object\n",
      "조사가격품목명    97414 non-null object\n",
      "표준품종명      97414 non-null object\n",
      "조사가격품종명    97414 non-null object\n",
      "조사등급명      97414 non-null object\n",
      "조사단위명      97414 non-null object\n",
      "당일조사가격     97414 non-null int64\n",
      "조사지역명      97414 non-null object\n",
      "dtypes: int64(1), object(9)\n",
      "memory usage: 7.4+ MB\n"
     ]
    }
   ],
   "source": [
    "filtered_df.info()"
   ]
  },
  {
   "cell_type": "markdown",
   "metadata": {},
   "source": [
    "### hist using displot"
   ]
  },
  {
   "cell_type": "code",
   "execution_count": 70,
   "metadata": {},
   "outputs": [
    {
     "data": {
      "text/plain": [
       "<matplotlib.axes._subplots.AxesSubplot at 0x1e3838b1888>"
      ]
     },
     "execution_count": 70,
     "metadata": {},
     "output_type": "execute_result"
    },
    {
     "data": {
      "image/png": "[encoded data removed]",
      "text/plain": [
       "<Figure size 432x288 with 1 Axes>"
      ]
     },
     "metadata": {
      "needs_background": "light"
     },
     "output_type": "display_data"
    }
   ],
   "source": [
    "# see distribution of numecric type \n",
    "plt.title('price Histogram')\n",
    "sns.distplot(data_df['당일조사가격'])\n"
   ]
  },
  {
   "cell_type": "code",
   "execution_count": 71,
   "metadata": {},
   "outputs": [
    {
     "name": "stdout",
     "output_type": "stream",
     "text": [
      "당일조사가격    13.296264\n",
      "dtype: float64\n"
     ]
    }
   ],
   "source": [
    "# check skew \n",
    "from scipy.stats import skew\n",
    "features_index = filtered_df.dtypes[filtered_df.dtypes != 'object'].index\n",
    "\n",
    "# house_df에 컬럼 index를 [ ]로 입력하면 해당하는 컬럼 데이터 셋 반환. apply lambda로 skew( )호출 \n",
    "skew_features = filtered_df[features_index].apply(lambda x : skew(x))\n",
    "\n",
    "# skew 정도가 1 이상인 컬럼들만 추출. \n",
    "skew_features_top = skew_features[skew_features > 1]\n",
    "print(skew_features_top.sort_values(ascending=False))"
   ]
  },
  {
   "cell_type": "markdown",
   "metadata": {},
   "source": [
    "## 로그변환"
   ]
  },
  {
   "cell_type": "code",
   "execution_count": 72,
   "metadata": {},
   "outputs": [
    {
     "name": "stderr",
     "output_type": "stream",
     "text": [
      "C:\\Users\\park\\Anaconda3\\lib\\site-packages\\pandas\\core\\frame.py:3494: SettingWithCopyWarning: \n",
      "A value is trying to be set on a copy of a slice from a DataFrame.\n",
      "Try using .loc[row_indexer,col_indexer] = value instead\n",
      "\n",
      "See the caveats in the documentation: http://pandas.pydata.org/pandas-docs/stable/user_guide/indexing.html#returning-a-view-versus-a-copy\n",
      "  self[k1] = value[k2]\n"
     ]
    }
   ],
   "source": [
    "filtered_df[skew_features_top.index] = np.log1p(filtered_df[skew_features_top.index])"
   ]
  },
  {
   "cell_type": "markdown",
   "metadata": {},
   "source": [
    "## 분포도 확인 ( 결정한 이유 )"
   ]
  },
  {
   "cell_type": "code",
   "execution_count": 73,
   "metadata": {},
   "outputs": [
    {
     "data": {
      "text/plain": [
       "<matplotlib.axes._subplots.AxesSubplot at 0x1e383bc1108>"
      ]
     },
     "execution_count": 73,
     "metadata": {},
     "output_type": "execute_result"
    },
    {
     "data": {
      "image/png": "[encoded data removed]",
      "text/plain": [
       "<Figure size 432x288 with 1 Axes>"
      ]
     },
     "metadata": {
      "needs_background": "light"
     },
     "output_type": "display_data"
    }
   ],
   "source": [
    "# see distribution of numecric type \n",
    "plt.title('price Histogram')\n",
    "sns.distplot(filtered_df['당일조사가격'])"
   ]
  },
  {
   "cell_type": "code",
   "execution_count": 74,
   "metadata": {},
   "outputs": [
    {
     "data": {
      "text/plain": [
       "0.7655006976533527"
      ]
     },
     "execution_count": 74,
     "metadata": {},
     "output_type": "execute_result"
    }
   ],
   "source": [
    "skew(filtered_df['당일조사가격'])"
   ]
  },
  {
   "cell_type": "markdown",
   "metadata": {},
   "source": [
    "### datetime 타입에서 년, 월, 일, 시간 추출\n"
   ]
  },
  {
   "cell_type": "code",
   "execution_count": 75,
   "metadata": {},
   "outputs": [
    {
     "name": "stderr",
     "output_type": "stream",
     "text": [
      "C:\\Users\\park\\Anaconda3\\lib\\site-packages\\ipykernel_launcher.py:1: SettingWithCopyWarning: \n",
      "A value is trying to be set on a copy of a slice from a DataFrame.\n",
      "Try using .loc[row_indexer,col_indexer] = value instead\n",
      "\n",
      "See the caveats in the documentation: http://pandas.pydata.org/pandas-docs/stable/user_guide/indexing.html#returning-a-view-versus-a-copy\n",
      "  \"\"\"Entry point for launching an IPython kernel.\n"
     ]
    }
   ],
   "source": [
    "filtered_df['조사일자'] = filtered_df.조사일자.apply(pd.to_datetime)"
   ]
  },
  {
   "cell_type": "code",
   "execution_count": 76,
   "metadata": {},
   "outputs": [
    {
     "name": "stderr",
     "output_type": "stream",
     "text": [
      "C:\\Users\\park\\Anaconda3\\lib\\site-packages\\ipykernel_launcher.py:1: SettingWithCopyWarning: \n",
      "A value is trying to be set on a copy of a slice from a DataFrame.\n",
      "Try using .loc[row_indexer,col_indexer] = value instead\n",
      "\n",
      "See the caveats in the documentation: http://pandas.pydata.org/pandas-docs/stable/user_guide/indexing.html#returning-a-view-versus-a-copy\n",
      "  \"\"\"Entry point for launching an IPython kernel.\n",
      "C:\\Users\\park\\Anaconda3\\lib\\site-packages\\ipykernel_launcher.py:2: SettingWithCopyWarning: \n",
      "A value is trying to be set on a copy of a slice from a DataFrame.\n",
      "Try using .loc[row_indexer,col_indexer] = value instead\n",
      "\n",
      "See the caveats in the documentation: http://pandas.pydata.org/pandas-docs/stable/user_guide/indexing.html#returning-a-view-versus-a-copy\n",
      "  \n",
      "C:\\Users\\park\\Anaconda3\\lib\\site-packages\\ipykernel_launcher.py:3: SettingWithCopyWarning: \n",
      "A value is trying to be set on a copy of a slice from a DataFrame.\n",
      "Try using .loc[row_indexer,col_indexer] = value instead\n",
      "\n",
      "See the caveats in the documentation: http://pandas.pydata.org/pandas-docs/stable/user_guide/indexing.html#returning-a-view-versus-a-copy\n",
      "  This is separate from the ipykernel package so we can avoid doing imports until\n"
     ]
    }
   ],
   "source": [
    "filtered_df['year']= filtered_df.조사일자.apply(lambda x : x.year)\n",
    "filtered_df['month']=filtered_df.조사일자.apply(lambda x : x.month)\n",
    "filtered_df['day']=filtered_df.조사일자.apply(lambda x: x.day)"
   ]
  },
  {
   "cell_type": "code",
   "execution_count": 77,
   "metadata": {},
   "outputs": [
    {
     "name": "stdout",
     "output_type": "stream",
     "text": [
      "<class 'pandas.core.frame.DataFrame'>\n",
      "RangeIndex: 97414 entries, 0 to 97413\n",
      "Data columns (total 13 columns):\n",
      "조사일자       97414 non-null datetime64[ns]\n",
      "조사구분명      97414 non-null object\n",
      "표준품목명      97414 non-null object\n",
      "조사가격품목명    97414 non-null object\n",
      "표준품종명      97414 non-null object\n",
      "조사가격품종명    97414 non-null object\n",
      "조사등급명      97414 non-null object\n",
      "조사단위명      97414 non-null object\n",
      "당일조사가격     97414 non-null float64\n",
      "조사지역명      97414 non-null object\n",
      "year       97414 non-null int64\n",
      "month      97414 non-null int64\n",
      "day        97414 non-null int64\n",
      "dtypes: datetime64[ns](1), float64(1), int64(3), object(8)\n",
      "memory usage: 9.7+ MB\n"
     ]
    }
   ],
   "source": [
    "filtered_df.info()"
   ]
  },
  {
   "cell_type": "code",
   "execution_count": 78,
   "metadata": {},
   "outputs": [],
   "source": [
    "temp1=pd.read_csv('https://production-bobsim.s3.ap-northeast-2.amazonaws.com/public_data/public_price/origin/csv/201908.csv', encoding='euc-kr')\n",
    "columns = [\n",
    "            \"조사일자\", \"조사구분명\",\n",
    "            \"표준품목명\", \"조사가격품목명\", \"표준품종명\", \"조사가격품종명\",\n",
    "            \"조사등급명\", \"조사단위명\", \"당일조사가격\", \"조사지역명\"\n",
    "        ]"
   ]
  },
  {
   "cell_type": "code",
   "execution_count": 103,
   "metadata": {},
   "outputs": [],
   "source": [
    "def unit_fit(unit_name):\n",
    "    unit=0\n",
    "    if unit_name=='20KG' : unit= 200\n",
    "    elif unit_name=='1.2KG' : unit= 12\n",
    "    elif unit_name=='8KG' : unit= 80\n",
    "    elif unit_name=='1KG' : unit=10\n",
    "    elif unit_name=='1KG(단)' : unit=10\n",
    "    elif unit_name=='1KG(1단)': unit=10\n",
    "    elif unit_name=='10개': unit=10\n",
    "    elif unit_name=='10마리': unit=10\n",
    "    elif unit_name=='1L' : unit=10 \n",
    "    elif unit_name=='100G': unit= 1\n",
    "    elif unit_name=='1개' : unit= 1\n",
    "    elif unit_name=='1마리' : unit= 1\n",
    "    elif unit_name=='1속' : unit= 1\n",
    "    elif unit_name=='1포기' : unit= 1\n",
    "    elif unit_name=='200G' :unit=2\n",
    "    elif unit_name=='2마리' : unit= 2\n",
    "    elif unit_name=='500G' : unit= 5\n",
    "    else: unit = 6\n",
    "    \n",
    "    return unit"
   ]
  },
  {
   "cell_type": "code",
   "execution_count": 105,
   "metadata": {},
   "outputs": [],
   "source": [
    "temp2=temp1[temp1['조사구분명']=='소비자가격']\n",
    "temp2 =temp2[['조사일자', '조사가격품목명','표준품종명','조사가격품종명','표준품목명','조사지역명','조사단위명','당일조사가격']]\n"
   ]
  },
  {
   "cell_type": "code",
   "execution_count": 106,
   "metadata": {},
   "outputs": [],
   "source": [
    "temp2['price_unit']= temp2['조사단위명'].apply(lambda x : unit_fit(x))\n",
    "temp2['averge_price']= temp2['당일조사가격']/temp2['price_unit']"
   ]
  },
  {
   "cell_type": "code",
   "execution_count": 107,
   "metadata": {},
   "outputs": [
    {
     "data": {
      "text/plain": [
       "<matplotlib.axes._subplots.AxesSubplot at 0x1e389364388>"
      ]
     },
     "execution_count": 107,
     "metadata": {},
     "output_type": "execute_result"
    },
    {
     "data": {
      "image/png": "[encoded data removed]",
      "text/plain": [
       "<Figure size 432x288 with 1 Axes>"
      ]
     },
     "metadata": {
      "needs_background": "light"
     },
     "output_type": "display_data"
    }
   ],
   "source": [
    "# see distribution of numecric type \n",
    "plt.title('price Histogram')\n",
    "sns.distplot(temp2['averge_price'])"
   ]
  },
  {
   "cell_type": "code",
   "execution_count": 108,
   "metadata": {},
   "outputs": [
    {
     "data": {
      "text/plain": [
       "3.8459733534846507"
      ]
     },
     "execution_count": 108,
     "metadata": {},
     "output_type": "execute_result"
    }
   ],
   "source": [
    "skew(temp2['averge_price']) # 소비자가격 skew"
   ]
  },
  {
   "cell_type": "code",
   "execution_count": 84,
   "metadata": {},
   "outputs": [
    {
     "data": {
      "text/plain": [
       "13.296264438735514"
      ]
     },
     "execution_count": 84,
     "metadata": {},
     "output_type": "execute_result"
    }
   ],
   "source": [
    "skew(temp1['당일조사가격']) # 모든가격 skew"
   ]
  },
  {
   "cell_type": "code",
   "execution_count": 85,
   "metadata": {},
   "outputs": [
    {
     "name": "stdout",
     "output_type": "stream",
     "text": [
      "로그변화 후 skew 값\n"
     ]
    },
    {
     "data": {
      "text/plain": [
       "0.12372746170184191"
      ]
     },
     "execution_count": 85,
     "metadata": {},
     "output_type": "execute_result"
    }
   ],
   "source": [
    "temp2['averge_price'] = np.log1p(temp2['averge_price'])\n",
    "print('로그변화 후 skew 값')\n",
    "skew(temp2['averge_price'])"
   ]
  },
  {
   "cell_type": "code",
   "execution_count": 86,
   "metadata": {
    "scrolled": true
   },
   "outputs": [
    {
     "data": {
      "text/plain": [
       "<matplotlib.axes._subplots.AxesSubplot at 0x1e388074fc8>"
      ]
     },
     "execution_count": 86,
     "metadata": {},
     "output_type": "execute_result"
    },
    {
     "data": {
      "image/png": "[encoded data removed]",
      "text/plain": [
       "<Figure size 432x288 with 1 Axes>"
      ]
     },
     "metadata": {
      "needs_background": "light"
     },
     "output_type": "display_data"
    }
   ],
   "source": [
    "plt.title('price Histogram with log1p')\n",
    "sns.distplot(temp2['averge_price'])"
   ]
  }
 ],
 "metadata": {
  "kernelspec": {
   "display_name": "Python 3",
   "language": "python",
   "name": "python3"
  },
  "language_info": {
   "codemirror_mode": {
    "name": "ipython",
    "version": 3
   },
   "file_extension": ".py",
   "mimetype": "text/x-python",
   "name": "python",
   "nbconvert_exporter": "python",
   "pygments_lexer": "ipython3",
   "version": "3.7.6"
  }
 },
 "nbformat": 4,
 "nbformat_minor": 2
}
